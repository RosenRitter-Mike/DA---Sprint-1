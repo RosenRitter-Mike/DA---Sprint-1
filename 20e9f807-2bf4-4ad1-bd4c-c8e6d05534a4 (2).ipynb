{
 "cells": [
  {
   "cell_type": "markdown",
   "metadata": {},
   "source": [
    "Hello Michael!\n",
    "\n",
    "My name is Elena. I'm happy to review your project today. \n",
    "\n",
    "When I will see mistake at the first time, I will just point it out. I let you find it and fix it by yourself. I'm trying to prepare you to work as an Data Analyst. SO, at a real job, your team lead will do the same. But if you can't handle this task yet, I will give you a more accurate hint at the next iteration.\n",
    "\n",
    "Below you will find my comments - please do not move, modify or delete them.\n",
    "\n",
    "You can find my comments in green, yellow or red boxes like this:\n",
    "\n",
    "<div class=\"alert alert-block alert-success\">\n",
    "<b>Reviewer's comment</b> <a class=\"tocSkip\"></a>\n",
    "Success. Everything is done succesfully.\n",
    "</div>\n",
    "\n",
    "<div class=\"alert alert-block alert-warning\">\n",
    "<b>Reviewer's comment</b> <a class=\"tocSkip\"></a>\n",
    "Remarks. Some recommendations.\n",
    "</div>\n",
    "\n",
    "<div class=\"alert alert-block alert-danger\">\n",
    "<b>Reviewer's comment</b> <a class=\"tocSkip\"></a>\n",
    "Needs fixing. The block requires some corrections. Work can't be accepted with the red comments.\n",
    "</div>\n",
    "\n",
    "You can answer me by using this: \n",
    "\n",
    "<div class=\"alert alert-block alert-info\">\n",
    "<b>Student answer.</b> <a class=\"tocSkip\"></a>\n",
    "</div>"
   ]
  },
  {
   "cell_type": "markdown",
   "metadata": {},
   "source": [
    "<div class=\"alert alert-block alert-success\">\n",
    "<b>Final reviewer's comment</b> <a class=\"tocSkip\"></a>\n",
    "\n",
    "You've done a great job! \n",
    "    \n",
    "It was my pleasure to check your work:\n",
    "1. There is a structure;\n",
    "2. You add subtotals;\n",
    "3. Well described the Final conclusions at the end of the project;\n",
    "4. Correctly removed duplicates and made data categorization;\n",
    "5. Correctly replaced the missing values in the \"total_income\" column;\n",
    "6. He argued his conclusions in the Checking the Hypotheses block.    \n",
    "</div>"
   ]
  },
  {
   "cell_type": "markdown",
   "metadata": {},
   "source": [
    "<div class=\"alert alert-block alert-warning\">\n",
    "<b>Final reviewer's comment</b> <a class=\"tocSkip\"></a>\n",
    "\n",
    "Please pay attention to a few nuances:\n",
    "1. It is desirable to add a block describing the Brief Work Plan to the project description;\n",
    "2. It is better to load all libraries at the very beginning of the project in one cell, and read the project in the next cell;\n",
    "3. For a quick dive into Python, use the documentation. It will help you optimize your code and take you to the next level.    \n",
    "</div>"
   ]
  },
  {
   "cell_type": "markdown",
   "metadata": {},
   "source": [
    "<div class=\"alert alert-block alert-danger\">\n",
    "<b>Final reviewer's comment</b> <a class=\"tocSkip\"></a>\n",
    "\n",
    "~~But there are a one remark that need to be completed so that the work can be accepted:~~\n",
    "~~ - Please fix the method of replacing incorrect values in the \"days_employed\" column.~~\n",
    "    \n",
    "If you have any questions - write, I will definitely help to solve them.\n",
    "    \n",
    "I know you will succeed!\n",
    "</div>"
   ]
  },
  {
   "cell_type": "markdown",
   "metadata": {},
   "source": [
    "<div class=\"alert alert-block alert-success\">\n",
    "<b>Final reviewer's comment  2</b> <a class=\"tocSkip\"></a>\n",
    "Thank you for making changes to the project. You've done excellent research.\n",
    "</div>"
   ]
  },
  {
   "cell_type": "markdown",
   "metadata": {},
   "source": [
    "# Analyzing borrowers’ risk of defaulting\n",
    "\n",
    "Your project is to prepare a report for a bank’s loan division. You’ll need to find out if a customer’s marital status and number of children has an impact on whether they will default on a loan. The bank already has some data on customers’ credit worthiness.\n",
    "\n",
    "Your report will be considered when building the **credit score** of a potential customer. The **credit score** is used to evaluate the ability of a potential borrower to repay their loan.\n",
    "\n",
    "[In this notebook you're provided with hints and brief instructions and thinking prompts. Don't ignore them as they are designed to equip you with the structure for the project and will help you analyze what you're doing on a deeper level. Before submitting your project, make sure you remove all hints and descriptions provided to you. Instead, make this report look as if you're sending it to your teammates to demonstrate your findings - they shouldn't know you had some external help from us! To help you out, we've placed the hints you should remove in square brackets.]\n",
    "\n",
    "[Before you dive into analyzing your data, explain the purposes of the project and hypotheses you're going to test.]"
   ]
  },
  {
   "cell_type": "markdown",
   "metadata": {},
   "source": [
    "<div class=\"alert alert-block alert-success\">\n",
    "<b>Reviewer's comment</b> <a class=\"tocSkip\"></a>\n",
    "You did the right thing by adding a description of the projects and purpose.\n",
    "This is a good indicator of the quality work of the Data Analyst.\n",
    "</div>"
   ]
  },
  {
   "cell_type": "markdown",
   "metadata": {},
   "source": [
    "<div class=\"alert alert-block alert-warning\">\n",
    "<b>Reviewer's comment</b> <a class=\"tocSkip\"></a>\n",
    "I would also suggest adding a Short Plan of Work.\n",
    "A short plan of work - here, highlight the points and, if necessary, sub-points, what actions you are going to perform. With it, it will be more convenient for you to complete the project yourself and know which stages you have already completed, and which ones you need to add.\n",
    "This will allow you to reach a new level and show future employers that you know what to do, you know how you will do it, and understand why. I am sure that you will succeed!\n",
    "</div>"
   ]
  },
  {
   "cell_type": "markdown",
   "metadata": {},
   "source": [
    "## Open the data file and have a look at the general information. \n",
    "\n",
    "[Start with importing the libraries and loading the data. You may realise that you need additional libraries as you go, which is totally fine - just make sure to update this section when you do.]"
   ]
  },
  {
   "cell_type": "code",
   "execution_count": 1,
   "metadata": {
    "scrolled": false
   },
   "outputs": [],
   "source": [
    "# Loading all the libraries\n",
    "import pandas as pd\n",
    "import numpy as np\n",
    "import nltk\n",
    "\n",
    "from nltk.stem import WordNetLemmatizer\n",
    "from nltk.stem import SnowballStemmer    \n",
    "from pymystem3 import Mystem\n",
    "from collections import Counter"
   ]
  },
  {
   "cell_type": "code",
   "execution_count": 2,
   "metadata": {},
   "outputs": [],
   "source": [
    "# Load the data\n",
    "try: \n",
    "    credit_scoring = pd.read_csv('credit_scoring_eng.csv')\n",
    "except:\n",
    "    credit_scoring = pd.read_csv('/datasets/credit_scoring_eng.csv')\n",
    "#print(credit_scoring.head())   "
   ]
  },
  {
   "cell_type": "markdown",
   "metadata": {},
   "source": [
    "<div class=\"alert alert-block alert-success\">\n",
    "<b>Reviewer's comment</b> <a class=\"tocSkip\"></a>\n",
    "Well done! Using try - except is good practice.\n",
    "</div>"
   ]
  },
  {
   "cell_type": "markdown",
   "metadata": {},
   "source": [
    "<div class=\"alert alert-block alert-warning\">\n",
    "<b>Reviewer's comment</b> <a class=\"tocSkip\"></a>\n",
    "It's good practice to split cells: 1st cell with library loading and 2nd cell with dataset reading. Please pay attention to this!\n",
    "</div>"
   ]
  },
  {
   "cell_type": "markdown",
   "metadata": {},
   "source": [
    "## Task 1. Data exploration\n",
    "\n",
    "**Description of the data**\n",
    "- `children` - the number of children in the family\n",
    "- `days_employed` - work experience in days\n",
    "- `dob_years` - client's age in years\n",
    "- `education` - client's education\n",
    "- `education_id` - education identifier\n",
    "- `family_status` - marital status\n",
    "- `family_status_id` - marital status identifier\n",
    "- `gender` - gender of the client\n",
    "- `income_type` - type of employment\n",
    "- `debt` - was there any debt on loan repayment\n",
    "- `total_income` - monthly income\n",
    "- `purpose` - the purpose of obtaining a loan\n",
    "\n",
    "[Now let's explore our data. You'll want to see how many columns and rows it has, look at a few rows to check for potential issues with the data.]"
   ]
  },
  {
   "cell_type": "code",
   "execution_count": 3,
   "metadata": {},
   "outputs": [
    {
     "name": "stdout",
     "output_type": "stream",
     "text": [
      "<class 'pandas.core.frame.DataFrame'>\n",
      "RangeIndex: 21525 entries, 0 to 21524\n",
      "Data columns (total 12 columns):\n",
      "children            21525 non-null int64\n",
      "days_employed       19351 non-null float64\n",
      "dob_years           21525 non-null int64\n",
      "education           21525 non-null object\n",
      "education_id        21525 non-null int64\n",
      "family_status       21525 non-null object\n",
      "family_status_id    21525 non-null int64\n",
      "gender              21525 non-null object\n",
      "income_type         21525 non-null object\n",
      "debt                21525 non-null int64\n",
      "total_income        19351 non-null float64\n",
      "purpose             21525 non-null object\n",
      "dtypes: float64(2), int64(5), object(5)\n",
      "memory usage: 2.0+ MB\n"
     ]
    }
   ],
   "source": [
    "# Let's see how many rows and columns our dataset has\n",
    "\n",
    "credit_scoring.info()"
   ]
  },
  {
   "cell_type": "code",
   "execution_count": 4,
   "metadata": {
    "scrolled": true
   },
   "outputs": [
    {
     "name": "stdout",
     "output_type": "stream",
     "text": [
      "   children  days_employed  dob_years            education  education_id  \\\n",
      "0         1   -8437.673028         42    bachelor's degree             0   \n",
      "1         1   -4024.803754         36  secondary education             1   \n",
      "2         0   -5623.422610         33  Secondary Education             1   \n",
      "3         3   -4124.747207         32  secondary education             1   \n",
      "4         0  340266.072047         53  secondary education             1   \n",
      "5         0    -926.185831         27    bachelor's degree             0   \n",
      "6         0   -2879.202052         43    bachelor's degree             0   \n",
      "7         0    -152.779569         50  SECONDARY EDUCATION             1   \n",
      "8         2   -6929.865299         35    BACHELOR'S DEGREE             0   \n",
      "9         0   -2188.756445         41  secondary education             1   \n",
      "\n",
      "       family_status  family_status_id gender income_type  debt  total_income  \\\n",
      "0            married                 0      F    employee     0     40620.102   \n",
      "1            married                 0      F    employee     0     17932.802   \n",
      "2            married                 0      M    employee     0     23341.752   \n",
      "3            married                 0      M    employee     0     42820.568   \n",
      "4  civil partnership                 1      F     retiree     0     25378.572   \n",
      "5  civil partnership                 1      M    business     0     40922.170   \n",
      "6            married                 0      F    business     0     38484.156   \n",
      "7            married                 0      M    employee     0     21731.829   \n",
      "8  civil partnership                 1      F    employee     0     15337.093   \n",
      "9            married                 0      M    employee     0     23108.150   \n",
      "\n",
      "                               purpose  \n",
      "0                purchase of the house  \n",
      "1                         car purchase  \n",
      "2                purchase of the house  \n",
      "3              supplementary education  \n",
      "4                    to have a wedding  \n",
      "5                purchase of the house  \n",
      "6                 housing transactions  \n",
      "7                            education  \n",
      "8                     having a wedding  \n",
      "9  purchase of the house for my family  \n"
     ]
    }
   ],
   "source": [
    "# let's print the first N rows\n",
    "\n",
    "print(credit_scoring.head(10))  "
   ]
  },
  {
   "cell_type": "markdown",
   "metadata": {},
   "source": [
    "[Describe what you see and notice in your printed data sample. Are there any issues that may need further investigation and changes?]\n",
    "days employed has negative values which is ilogical, education has upper case and lower case values that are duplicates, purpose is a bit wonky as some of the values are essentialy the same thing with diferent words and may need steeming.  "
   ]
  },
  {
   "cell_type": "markdown",
   "metadata": {},
   "source": [
    "<div class=\"alert alert-block alert-success\">\n",
    "<b>Reviewer's comment</b> <a class=\"tocSkip\"></a>\n",
    "Well done! Good intermediate conclusions.\n",
    "</div>"
   ]
  },
  {
   "cell_type": "code",
   "execution_count": 5,
   "metadata": {
    "scrolled": false
   },
   "outputs": [
    {
     "name": "stdout",
     "output_type": "stream",
     "text": [
      "<class 'pandas.core.frame.DataFrame'>\n",
      "RangeIndex: 21525 entries, 0 to 21524\n",
      "Data columns (total 12 columns):\n",
      "children            21525 non-null int64\n",
      "days_employed       19351 non-null float64\n",
      "dob_years           21525 non-null int64\n",
      "education           21525 non-null object\n",
      "education_id        21525 non-null int64\n",
      "family_status       21525 non-null object\n",
      "family_status_id    21525 non-null int64\n",
      "gender              21525 non-null object\n",
      "income_type         21525 non-null object\n",
      "debt                21525 non-null int64\n",
      "total_income        19351 non-null float64\n",
      "purpose             21525 non-null object\n",
      "dtypes: float64(2), int64(5), object(5)\n",
      "memory usage: 2.0+ MB\n"
     ]
    },
    {
     "data": {
      "text/plain": [
       "children               0\n",
       "days_employed       2174\n",
       "dob_years              0\n",
       "education              0\n",
       "education_id           0\n",
       "family_status          0\n",
       "family_status_id       0\n",
       "gender                 0\n",
       "income_type            0\n",
       "debt                   0\n",
       "total_income        2174\n",
       "purpose                0\n",
       "dtype: int64"
      ]
     },
     "execution_count": 5,
     "metadata": {},
     "output_type": "execute_result"
    }
   ],
   "source": [
    "# Get info on data\n",
    "credit_scoring.info()\n",
    "credit_scoring.isnull().sum()"
   ]
  },
  {
   "cell_type": "markdown",
   "metadata": {},
   "source": [
    "[Are there missing values across all columns or just a few? Briefly describe what you see in 1-2 sentences.]\n",
    "'days_employed' has lots of mising values, as much as 'total_income'. No missing values in the other columns."
   ]
  },
  {
   "cell_type": "markdown",
   "metadata": {},
   "source": [
    "<div class=\"alert alert-block alert-success\">\n",
    "<b>Reviewer's comment</b> <a class=\"tocSkip\"></a>\n",
    "Good! Missing values are correctly defined.\n",
    "</div>"
   ]
  },
  {
   "cell_type": "code",
   "execution_count": 6,
   "metadata": {
    "scrolled": false
   },
   "outputs": [],
   "source": [
    "# Let's look at the filtered table with missing values in the the first column with missing data\n",
    "credit_scoring[credit_scoring.days_employed.isnull()]\n",
    "credit_scoring_nan = credit_scoring[credit_scoring.days_employed.isnull()].sort_values(by = 'income_type')\n",
    "#credit_scoring_nan.groupby('income_type')['income_type'].count() / credit_scoring.groupby('income_type')['income_type'].count()\n",
    "#credit_scoring[credit_scoring.days_employed.isnull()]['family_status'].value_counts()\n",
    "#credit_scoring[credit_scoring.days_employed.isnull()]['purpose'].value_counts()\n"
   ]
  },
  {
   "cell_type": "markdown",
   "metadata": {},
   "source": [
    "[Do missing values seem symmetric? Can we be sure in this assumption? Explain your thoughts briefly in this section. You may probably want to conduct further investigations, and count the missing values in all the rows with missing values to confirm the the missing samples are of the same size.]\n",
    "\n",
    "They do the missing values are simetric where the data on 'days_employed' is missing the data on 'total_income' is also missing. The missing data does not show any conection to 'income_type' (unemployed and students have non null values), 'purpose' or 'family_status' as far as the data grouping shows. "
   ]
  },
  {
   "cell_type": "code",
   "execution_count": 7,
   "metadata": {
    "scrolled": true
   },
   "outputs": [
    {
     "data": {
      "text/html": [
       "<div>\n",
       "<style scoped>\n",
       "    .dataframe tbody tr th:only-of-type {\n",
       "        vertical-align: middle;\n",
       "    }\n",
       "\n",
       "    .dataframe tbody tr th {\n",
       "        vertical-align: top;\n",
       "    }\n",
       "\n",
       "    .dataframe thead th {\n",
       "        text-align: right;\n",
       "    }\n",
       "</style>\n",
       "<table border=\"1\" class=\"dataframe\">\n",
       "  <thead>\n",
       "    <tr style=\"text-align: right;\">\n",
       "      <th></th>\n",
       "      <th>children</th>\n",
       "      <th>days_employed</th>\n",
       "      <th>dob_years</th>\n",
       "      <th>education</th>\n",
       "      <th>education_id</th>\n",
       "      <th>family_status</th>\n",
       "      <th>family_status_id</th>\n",
       "      <th>gender</th>\n",
       "      <th>income_type</th>\n",
       "      <th>debt</th>\n",
       "      <th>total_income</th>\n",
       "      <th>purpose</th>\n",
       "    </tr>\n",
       "  </thead>\n",
       "  <tbody>\n",
       "    <tr>\n",
       "      <td>12</td>\n",
       "      <td>0</td>\n",
       "      <td>NaN</td>\n",
       "      <td>65</td>\n",
       "      <td>secondary education</td>\n",
       "      <td>1</td>\n",
       "      <td>civil partnership</td>\n",
       "      <td>1</td>\n",
       "      <td>M</td>\n",
       "      <td>retiree</td>\n",
       "      <td>0</td>\n",
       "      <td>NaN</td>\n",
       "      <td>to have a wedding</td>\n",
       "    </tr>\n",
       "    <tr>\n",
       "      <td>26</td>\n",
       "      <td>0</td>\n",
       "      <td>NaN</td>\n",
       "      <td>41</td>\n",
       "      <td>secondary education</td>\n",
       "      <td>1</td>\n",
       "      <td>married</td>\n",
       "      <td>0</td>\n",
       "      <td>M</td>\n",
       "      <td>civil servant</td>\n",
       "      <td>0</td>\n",
       "      <td>NaN</td>\n",
       "      <td>education</td>\n",
       "    </tr>\n",
       "    <tr>\n",
       "      <td>29</td>\n",
       "      <td>0</td>\n",
       "      <td>NaN</td>\n",
       "      <td>63</td>\n",
       "      <td>secondary education</td>\n",
       "      <td>1</td>\n",
       "      <td>unmarried</td>\n",
       "      <td>4</td>\n",
       "      <td>F</td>\n",
       "      <td>retiree</td>\n",
       "      <td>0</td>\n",
       "      <td>NaN</td>\n",
       "      <td>building a real estate</td>\n",
       "    </tr>\n",
       "    <tr>\n",
       "      <td>41</td>\n",
       "      <td>0</td>\n",
       "      <td>NaN</td>\n",
       "      <td>50</td>\n",
       "      <td>secondary education</td>\n",
       "      <td>1</td>\n",
       "      <td>married</td>\n",
       "      <td>0</td>\n",
       "      <td>F</td>\n",
       "      <td>civil servant</td>\n",
       "      <td>0</td>\n",
       "      <td>NaN</td>\n",
       "      <td>second-hand car purchase</td>\n",
       "    </tr>\n",
       "    <tr>\n",
       "      <td>55</td>\n",
       "      <td>0</td>\n",
       "      <td>NaN</td>\n",
       "      <td>54</td>\n",
       "      <td>secondary education</td>\n",
       "      <td>1</td>\n",
       "      <td>civil partnership</td>\n",
       "      <td>1</td>\n",
       "      <td>F</td>\n",
       "      <td>retiree</td>\n",
       "      <td>1</td>\n",
       "      <td>NaN</td>\n",
       "      <td>to have a wedding</td>\n",
       "    </tr>\n",
       "    <tr>\n",
       "      <td>...</td>\n",
       "      <td>...</td>\n",
       "      <td>...</td>\n",
       "      <td>...</td>\n",
       "      <td>...</td>\n",
       "      <td>...</td>\n",
       "      <td>...</td>\n",
       "      <td>...</td>\n",
       "      <td>...</td>\n",
       "      <td>...</td>\n",
       "      <td>...</td>\n",
       "      <td>...</td>\n",
       "      <td>...</td>\n",
       "    </tr>\n",
       "    <tr>\n",
       "      <td>21489</td>\n",
       "      <td>2</td>\n",
       "      <td>NaN</td>\n",
       "      <td>47</td>\n",
       "      <td>Secondary Education</td>\n",
       "      <td>1</td>\n",
       "      <td>married</td>\n",
       "      <td>0</td>\n",
       "      <td>M</td>\n",
       "      <td>business</td>\n",
       "      <td>0</td>\n",
       "      <td>NaN</td>\n",
       "      <td>purchase of a car</td>\n",
       "    </tr>\n",
       "    <tr>\n",
       "      <td>21495</td>\n",
       "      <td>1</td>\n",
       "      <td>NaN</td>\n",
       "      <td>50</td>\n",
       "      <td>secondary education</td>\n",
       "      <td>1</td>\n",
       "      <td>civil partnership</td>\n",
       "      <td>1</td>\n",
       "      <td>F</td>\n",
       "      <td>employee</td>\n",
       "      <td>0</td>\n",
       "      <td>NaN</td>\n",
       "      <td>wedding ceremony</td>\n",
       "    </tr>\n",
       "    <tr>\n",
       "      <td>21497</td>\n",
       "      <td>0</td>\n",
       "      <td>NaN</td>\n",
       "      <td>48</td>\n",
       "      <td>BACHELOR'S DEGREE</td>\n",
       "      <td>0</td>\n",
       "      <td>married</td>\n",
       "      <td>0</td>\n",
       "      <td>F</td>\n",
       "      <td>business</td>\n",
       "      <td>0</td>\n",
       "      <td>NaN</td>\n",
       "      <td>building a property</td>\n",
       "    </tr>\n",
       "    <tr>\n",
       "      <td>21502</td>\n",
       "      <td>1</td>\n",
       "      <td>NaN</td>\n",
       "      <td>42</td>\n",
       "      <td>secondary education</td>\n",
       "      <td>1</td>\n",
       "      <td>married</td>\n",
       "      <td>0</td>\n",
       "      <td>F</td>\n",
       "      <td>employee</td>\n",
       "      <td>0</td>\n",
       "      <td>NaN</td>\n",
       "      <td>building a real estate</td>\n",
       "    </tr>\n",
       "    <tr>\n",
       "      <td>21510</td>\n",
       "      <td>2</td>\n",
       "      <td>NaN</td>\n",
       "      <td>28</td>\n",
       "      <td>secondary education</td>\n",
       "      <td>1</td>\n",
       "      <td>married</td>\n",
       "      <td>0</td>\n",
       "      <td>F</td>\n",
       "      <td>employee</td>\n",
       "      <td>0</td>\n",
       "      <td>NaN</td>\n",
       "      <td>car purchase</td>\n",
       "    </tr>\n",
       "  </tbody>\n",
       "</table>\n",
       "<p>2174 rows × 12 columns</p>\n",
       "</div>"
      ],
      "text/plain": [
       "       children  days_employed  dob_years            education  education_id  \\\n",
       "12            0            NaN         65  secondary education             1   \n",
       "26            0            NaN         41  secondary education             1   \n",
       "29            0            NaN         63  secondary education             1   \n",
       "41            0            NaN         50  secondary education             1   \n",
       "55            0            NaN         54  secondary education             1   \n",
       "...         ...            ...        ...                  ...           ...   \n",
       "21489         2            NaN         47  Secondary Education             1   \n",
       "21495         1            NaN         50  secondary education             1   \n",
       "21497         0            NaN         48    BACHELOR'S DEGREE             0   \n",
       "21502         1            NaN         42  secondary education             1   \n",
       "21510         2            NaN         28  secondary education             1   \n",
       "\n",
       "           family_status  family_status_id gender    income_type  debt  \\\n",
       "12     civil partnership                 1      M        retiree     0   \n",
       "26               married                 0      M  civil servant     0   \n",
       "29             unmarried                 4      F        retiree     0   \n",
       "41               married                 0      F  civil servant     0   \n",
       "55     civil partnership                 1      F        retiree     1   \n",
       "...                  ...               ...    ...            ...   ...   \n",
       "21489            married                 0      M       business     0   \n",
       "21495  civil partnership                 1      F       employee     0   \n",
       "21497            married                 0      F       business     0   \n",
       "21502            married                 0      F       employee     0   \n",
       "21510            married                 0      F       employee     0   \n",
       "\n",
       "       total_income                   purpose  \n",
       "12              NaN         to have a wedding  \n",
       "26              NaN                 education  \n",
       "29              NaN    building a real estate  \n",
       "41              NaN  second-hand car purchase  \n",
       "55              NaN         to have a wedding  \n",
       "...             ...                       ...  \n",
       "21489           NaN         purchase of a car  \n",
       "21495           NaN          wedding ceremony  \n",
       "21497           NaN       building a property  \n",
       "21502           NaN    building a real estate  \n",
       "21510           NaN              car purchase  \n",
       "\n",
       "[2174 rows x 12 columns]"
      ]
     },
     "execution_count": 7,
     "metadata": {},
     "output_type": "execute_result"
    }
   ],
   "source": [
    "# Let's apply multiple conditions for filtering data and look at the number of rows in the filtered table.\n",
    "#credit_scoring_nan.info()\n",
    "#credit_scoring.groupby('income_type').count()\n",
    "credit_scoring_nan.loc[:, 'purpose'].count()/credit_scoring.loc[:, 'purpose'].count()\n",
    "#10% of the data is missing\n",
    "credit_scoring[(credit_scoring.days_employed.isnull())&(credit_scoring.total_income.isnull())]\n",
    "#Data is symetrical"
   ]
  },
  {
   "cell_type": "markdown",
   "metadata": {},
   "source": [
    "**Intermediate conclusion**\n",
    "\n",
    "[Does the number of rows in the filtered table match the number of missing values? What conclusion can we make from this?]\n",
    "That were not dealing with randomly missing data but with a patern.\n",
    "\n",
    "[Calculate the percentage of the missing values compared to the whole dataset. Is it a considerably large piece of data? If so, you may want to fill the missing values. To do that, firstly we should consider whether the missing data could be due to the specific client characteristic, such as employment type or something else. You will need to decide which characteristic *you* think might be the reason. Secondly, we should check whether there's any dependence missing values have on the value of other indicators with the columns with identified specific client characteristic.]\n",
    "About 10% of the data is missing, but the missing data does not show any conection to 'income_type' (unemployed and students for example have non null values), 'purpose' or 'family_status' as far as the data grouping shows. The only thing symetric to the missing data is the 'total_income' column.\n",
    "\n",
    "[Explain your next steps and how they correlate with the conclusions you made so far.]\n",
    "I suppose that by finding median income and mean days of employment the missing values could be restored but seeing the the 'days_employed' has both negative (which is ilogical) and aberant ( 340266 days of employment are about 931 years, which is ilogical), I'm tempted to dump those rows."
   ]
  },
  {
   "cell_type": "markdown",
   "metadata": {},
   "source": [
    "<div class=\"alert alert-block alert-success\">\n",
    "<b>Reviewer's comment</b> <a class=\"tocSkip\"></a>\n",
    "You correctly identified the problems in the data. Keep it up!\n",
    "</div>"
   ]
  },
  {
   "cell_type": "code",
   "execution_count": 8,
   "metadata": {},
   "outputs": [
    {
     "data": {
      "text/html": [
       "<div>\n",
       "<style scoped>\n",
       "    .dataframe tbody tr th:only-of-type {\n",
       "        vertical-align: middle;\n",
       "    }\n",
       "\n",
       "    .dataframe tbody tr th {\n",
       "        vertical-align: top;\n",
       "    }\n",
       "\n",
       "    .dataframe thead th {\n",
       "        text-align: right;\n",
       "    }\n",
       "</style>\n",
       "<table border=\"1\" class=\"dataframe\">\n",
       "  <thead>\n",
       "    <tr style=\"text-align: right;\">\n",
       "      <th></th>\n",
       "      <th>children</th>\n",
       "      <th>days_employed</th>\n",
       "      <th>dob_years</th>\n",
       "      <th>education</th>\n",
       "      <th>education_id</th>\n",
       "      <th>family_status</th>\n",
       "      <th>family_status_id</th>\n",
       "      <th>gender</th>\n",
       "      <th>income_type</th>\n",
       "      <th>debt</th>\n",
       "      <th>total_income</th>\n",
       "      <th>purpose</th>\n",
       "    </tr>\n",
       "  </thead>\n",
       "  <tbody>\n",
       "    <tr>\n",
       "      <td>10314</td>\n",
       "      <td>0</td>\n",
       "      <td>NaN</td>\n",
       "      <td>23</td>\n",
       "      <td>secondary education</td>\n",
       "      <td>1</td>\n",
       "      <td>unmarried</td>\n",
       "      <td>4</td>\n",
       "      <td>F</td>\n",
       "      <td>business</td>\n",
       "      <td>0</td>\n",
       "      <td>NaN</td>\n",
       "      <td>buy real estate</td>\n",
       "    </tr>\n",
       "    <tr>\n",
       "      <td>13710</td>\n",
       "      <td>0</td>\n",
       "      <td>NaN</td>\n",
       "      <td>26</td>\n",
       "      <td>secondary education</td>\n",
       "      <td>1</td>\n",
       "      <td>married</td>\n",
       "      <td>0</td>\n",
       "      <td>F</td>\n",
       "      <td>business</td>\n",
       "      <td>0</td>\n",
       "      <td>NaN</td>\n",
       "      <td>building a real estate</td>\n",
       "    </tr>\n",
       "    <tr>\n",
       "      <td>4979</td>\n",
       "      <td>0</td>\n",
       "      <td>NaN</td>\n",
       "      <td>55</td>\n",
       "      <td>secondary education</td>\n",
       "      <td>1</td>\n",
       "      <td>married</td>\n",
       "      <td>0</td>\n",
       "      <td>F</td>\n",
       "      <td>business</td>\n",
       "      <td>0</td>\n",
       "      <td>NaN</td>\n",
       "      <td>university education</td>\n",
       "    </tr>\n",
       "    <tr>\n",
       "      <td>5009</td>\n",
       "      <td>0</td>\n",
       "      <td>NaN</td>\n",
       "      <td>45</td>\n",
       "      <td>secondary education</td>\n",
       "      <td>1</td>\n",
       "      <td>divorced</td>\n",
       "      <td>3</td>\n",
       "      <td>F</td>\n",
       "      <td>business</td>\n",
       "      <td>0</td>\n",
       "      <td>NaN</td>\n",
       "      <td>getting an education</td>\n",
       "    </tr>\n",
       "    <tr>\n",
       "      <td>5014</td>\n",
       "      <td>0</td>\n",
       "      <td>NaN</td>\n",
       "      <td>0</td>\n",
       "      <td>secondary education</td>\n",
       "      <td>1</td>\n",
       "      <td>married</td>\n",
       "      <td>0</td>\n",
       "      <td>F</td>\n",
       "      <td>business</td>\n",
       "      <td>0</td>\n",
       "      <td>NaN</td>\n",
       "      <td>buy real estate</td>\n",
       "    </tr>\n",
       "    <tr>\n",
       "      <td>...</td>\n",
       "      <td>...</td>\n",
       "      <td>...</td>\n",
       "      <td>...</td>\n",
       "      <td>...</td>\n",
       "      <td>...</td>\n",
       "      <td>...</td>\n",
       "      <td>...</td>\n",
       "      <td>...</td>\n",
       "      <td>...</td>\n",
       "      <td>...</td>\n",
       "      <td>...</td>\n",
       "      <td>...</td>\n",
       "    </tr>\n",
       "    <tr>\n",
       "      <td>15021</td>\n",
       "      <td>0</td>\n",
       "      <td>NaN</td>\n",
       "      <td>60</td>\n",
       "      <td>bachelor's degree</td>\n",
       "      <td>0</td>\n",
       "      <td>married</td>\n",
       "      <td>0</td>\n",
       "      <td>F</td>\n",
       "      <td>retiree</td>\n",
       "      <td>1</td>\n",
       "      <td>NaN</td>\n",
       "      <td>cars</td>\n",
       "    </tr>\n",
       "    <tr>\n",
       "      <td>13835</td>\n",
       "      <td>0</td>\n",
       "      <td>NaN</td>\n",
       "      <td>64</td>\n",
       "      <td>secondary education</td>\n",
       "      <td>1</td>\n",
       "      <td>widow / widower</td>\n",
       "      <td>2</td>\n",
       "      <td>F</td>\n",
       "      <td>retiree</td>\n",
       "      <td>0</td>\n",
       "      <td>NaN</td>\n",
       "      <td>getting an education</td>\n",
       "    </tr>\n",
       "    <tr>\n",
       "      <td>3907</td>\n",
       "      <td>0</td>\n",
       "      <td>NaN</td>\n",
       "      <td>56</td>\n",
       "      <td>secondary education</td>\n",
       "      <td>1</td>\n",
       "      <td>married</td>\n",
       "      <td>0</td>\n",
       "      <td>F</td>\n",
       "      <td>retiree</td>\n",
       "      <td>0</td>\n",
       "      <td>NaN</td>\n",
       "      <td>purchase of the house for my family</td>\n",
       "    </tr>\n",
       "    <tr>\n",
       "      <td>3809</td>\n",
       "      <td>0</td>\n",
       "      <td>NaN</td>\n",
       "      <td>66</td>\n",
       "      <td>secondary education</td>\n",
       "      <td>1</td>\n",
       "      <td>married</td>\n",
       "      <td>0</td>\n",
       "      <td>F</td>\n",
       "      <td>retiree</td>\n",
       "      <td>1</td>\n",
       "      <td>NaN</td>\n",
       "      <td>transactions with my real estate</td>\n",
       "    </tr>\n",
       "    <tr>\n",
       "      <td>12</td>\n",
       "      <td>0</td>\n",
       "      <td>NaN</td>\n",
       "      <td>65</td>\n",
       "      <td>secondary education</td>\n",
       "      <td>1</td>\n",
       "      <td>civil partnership</td>\n",
       "      <td>1</td>\n",
       "      <td>M</td>\n",
       "      <td>retiree</td>\n",
       "      <td>0</td>\n",
       "      <td>NaN</td>\n",
       "      <td>to have a wedding</td>\n",
       "    </tr>\n",
       "  </tbody>\n",
       "</table>\n",
       "<p>2174 rows × 12 columns</p>\n",
       "</div>"
      ],
      "text/plain": [
       "       children  days_employed  dob_years            education  education_id  \\\n",
       "10314         0            NaN         23  secondary education             1   \n",
       "13710         0            NaN         26  secondary education             1   \n",
       "4979          0            NaN         55  secondary education             1   \n",
       "5009          0            NaN         45  secondary education             1   \n",
       "5014          0            NaN          0  secondary education             1   \n",
       "...         ...            ...        ...                  ...           ...   \n",
       "15021         0            NaN         60    bachelor's degree             0   \n",
       "13835         0            NaN         64  secondary education             1   \n",
       "3907          0            NaN         56  secondary education             1   \n",
       "3809          0            NaN         66  secondary education             1   \n",
       "12            0            NaN         65  secondary education             1   \n",
       "\n",
       "           family_status  family_status_id gender income_type  debt  \\\n",
       "10314          unmarried                 4      F    business     0   \n",
       "13710            married                 0      F    business     0   \n",
       "4979             married                 0      F    business     0   \n",
       "5009            divorced                 3      F    business     0   \n",
       "5014             married                 0      F    business     0   \n",
       "...                  ...               ...    ...         ...   ...   \n",
       "15021            married                 0      F     retiree     1   \n",
       "13835    widow / widower                 2      F     retiree     0   \n",
       "3907             married                 0      F     retiree     0   \n",
       "3809             married                 0      F     retiree     1   \n",
       "12     civil partnership                 1      M     retiree     0   \n",
       "\n",
       "       total_income                              purpose  \n",
       "10314           NaN                      buy real estate  \n",
       "13710           NaN               building a real estate  \n",
       "4979            NaN                 university education  \n",
       "5009            NaN                 getting an education  \n",
       "5014            NaN                      buy real estate  \n",
       "...             ...                                  ...  \n",
       "15021           NaN                                 cars  \n",
       "13835           NaN                 getting an education  \n",
       "3907            NaN  purchase of the house for my family  \n",
       "3809            NaN     transactions with my real estate  \n",
       "12              NaN                    to have a wedding  \n",
       "\n",
       "[2174 rows x 12 columns]"
      ]
     },
     "execution_count": 8,
     "metadata": {},
     "output_type": "execute_result"
    }
   ],
   "source": [
    "# Let's investigate clients who do not have data on identified characteristic and the column with the missing values\n",
    "credit_scoring_nan\n"
   ]
  },
  {
   "cell_type": "code",
   "execution_count": 9,
   "metadata": {},
   "outputs": [
    {
     "data": {
      "text/html": [
       "<div>\n",
       "<style scoped>\n",
       "    .dataframe tbody tr th:only-of-type {\n",
       "        vertical-align: middle;\n",
       "    }\n",
       "\n",
       "    .dataframe tbody tr th {\n",
       "        vertical-align: top;\n",
       "    }\n",
       "\n",
       "    .dataframe thead th {\n",
       "        text-align: right;\n",
       "    }\n",
       "</style>\n",
       "<table border=\"1\" class=\"dataframe\">\n",
       "  <thead>\n",
       "    <tr style=\"text-align: right;\">\n",
       "      <th></th>\n",
       "      <th>count</th>\n",
       "      <th>unique</th>\n",
       "      <th>top</th>\n",
       "      <th>freq</th>\n",
       "      <th>mean</th>\n",
       "      <th>std</th>\n",
       "      <th>min</th>\n",
       "      <th>25%</th>\n",
       "      <th>50%</th>\n",
       "      <th>75%</th>\n",
       "      <th>max</th>\n",
       "    </tr>\n",
       "  </thead>\n",
       "  <tbody>\n",
       "    <tr>\n",
       "      <td>children</td>\n",
       "      <td>2174</td>\n",
       "      <td>NaN</td>\n",
       "      <td>NaN</td>\n",
       "      <td>NaN</td>\n",
       "      <td>0.552438</td>\n",
       "      <td>1.46936</td>\n",
       "      <td>-1</td>\n",
       "      <td>0</td>\n",
       "      <td>0</td>\n",
       "      <td>1</td>\n",
       "      <td>20</td>\n",
       "    </tr>\n",
       "    <tr>\n",
       "      <td>days_employed</td>\n",
       "      <td>0</td>\n",
       "      <td>NaN</td>\n",
       "      <td>NaN</td>\n",
       "      <td>NaN</td>\n",
       "      <td>NaN</td>\n",
       "      <td>NaN</td>\n",
       "      <td>NaN</td>\n",
       "      <td>NaN</td>\n",
       "      <td>NaN</td>\n",
       "      <td>NaN</td>\n",
       "      <td>NaN</td>\n",
       "    </tr>\n",
       "    <tr>\n",
       "      <td>dob_years</td>\n",
       "      <td>2174</td>\n",
       "      <td>NaN</td>\n",
       "      <td>NaN</td>\n",
       "      <td>NaN</td>\n",
       "      <td>43.632</td>\n",
       "      <td>12.5315</td>\n",
       "      <td>0</td>\n",
       "      <td>34</td>\n",
       "      <td>43</td>\n",
       "      <td>54</td>\n",
       "      <td>73</td>\n",
       "    </tr>\n",
       "    <tr>\n",
       "      <td>education</td>\n",
       "      <td>2174</td>\n",
       "      <td>12</td>\n",
       "      <td>secondary education</td>\n",
       "      <td>1408</td>\n",
       "      <td>NaN</td>\n",
       "      <td>NaN</td>\n",
       "      <td>NaN</td>\n",
       "      <td>NaN</td>\n",
       "      <td>NaN</td>\n",
       "      <td>NaN</td>\n",
       "      <td>NaN</td>\n",
       "    </tr>\n",
       "    <tr>\n",
       "      <td>education_id</td>\n",
       "      <td>2174</td>\n",
       "      <td>NaN</td>\n",
       "      <td>NaN</td>\n",
       "      <td>NaN</td>\n",
       "      <td>0.800828</td>\n",
       "      <td>0.530157</td>\n",
       "      <td>0</td>\n",
       "      <td>0.25</td>\n",
       "      <td>1</td>\n",
       "      <td>1</td>\n",
       "      <td>3</td>\n",
       "    </tr>\n",
       "    <tr>\n",
       "      <td>family_status</td>\n",
       "      <td>2174</td>\n",
       "      <td>5</td>\n",
       "      <td>married</td>\n",
       "      <td>1237</td>\n",
       "      <td>NaN</td>\n",
       "      <td>NaN</td>\n",
       "      <td>NaN</td>\n",
       "      <td>NaN</td>\n",
       "      <td>NaN</td>\n",
       "      <td>NaN</td>\n",
       "      <td>NaN</td>\n",
       "    </tr>\n",
       "    <tr>\n",
       "      <td>family_status_id</td>\n",
       "      <td>2174</td>\n",
       "      <td>NaN</td>\n",
       "      <td>NaN</td>\n",
       "      <td>NaN</td>\n",
       "      <td>0.975161</td>\n",
       "      <td>1.41822</td>\n",
       "      <td>0</td>\n",
       "      <td>0</td>\n",
       "      <td>0</td>\n",
       "      <td>1</td>\n",
       "      <td>4</td>\n",
       "    </tr>\n",
       "    <tr>\n",
       "      <td>gender</td>\n",
       "      <td>2174</td>\n",
       "      <td>2</td>\n",
       "      <td>F</td>\n",
       "      <td>1484</td>\n",
       "      <td>NaN</td>\n",
       "      <td>NaN</td>\n",
       "      <td>NaN</td>\n",
       "      <td>NaN</td>\n",
       "      <td>NaN</td>\n",
       "      <td>NaN</td>\n",
       "      <td>NaN</td>\n",
       "    </tr>\n",
       "    <tr>\n",
       "      <td>income_type</td>\n",
       "      <td>2174</td>\n",
       "      <td>5</td>\n",
       "      <td>employee</td>\n",
       "      <td>1105</td>\n",
       "      <td>NaN</td>\n",
       "      <td>NaN</td>\n",
       "      <td>NaN</td>\n",
       "      <td>NaN</td>\n",
       "      <td>NaN</td>\n",
       "      <td>NaN</td>\n",
       "      <td>NaN</td>\n",
       "    </tr>\n",
       "    <tr>\n",
       "      <td>debt</td>\n",
       "      <td>2174</td>\n",
       "      <td>NaN</td>\n",
       "      <td>NaN</td>\n",
       "      <td>NaN</td>\n",
       "      <td>0.0781969</td>\n",
       "      <td>0.268543</td>\n",
       "      <td>0</td>\n",
       "      <td>0</td>\n",
       "      <td>0</td>\n",
       "      <td>0</td>\n",
       "      <td>1</td>\n",
       "    </tr>\n",
       "    <tr>\n",
       "      <td>total_income</td>\n",
       "      <td>0</td>\n",
       "      <td>NaN</td>\n",
       "      <td>NaN</td>\n",
       "      <td>NaN</td>\n",
       "      <td>NaN</td>\n",
       "      <td>NaN</td>\n",
       "      <td>NaN</td>\n",
       "      <td>NaN</td>\n",
       "      <td>NaN</td>\n",
       "      <td>NaN</td>\n",
       "      <td>NaN</td>\n",
       "    </tr>\n",
       "    <tr>\n",
       "      <td>purpose</td>\n",
       "      <td>2174</td>\n",
       "      <td>38</td>\n",
       "      <td>having a wedding</td>\n",
       "      <td>92</td>\n",
       "      <td>NaN</td>\n",
       "      <td>NaN</td>\n",
       "      <td>NaN</td>\n",
       "      <td>NaN</td>\n",
       "      <td>NaN</td>\n",
       "      <td>NaN</td>\n",
       "      <td>NaN</td>\n",
       "    </tr>\n",
       "  </tbody>\n",
       "</table>\n",
       "</div>"
      ],
      "text/plain": [
       "                 count unique                  top  freq       mean       std  \\\n",
       "children          2174    NaN                  NaN   NaN   0.552438   1.46936   \n",
       "days_employed        0    NaN                  NaN   NaN        NaN       NaN   \n",
       "dob_years         2174    NaN                  NaN   NaN     43.632   12.5315   \n",
       "education         2174     12  secondary education  1408        NaN       NaN   \n",
       "education_id      2174    NaN                  NaN   NaN   0.800828  0.530157   \n",
       "family_status     2174      5              married  1237        NaN       NaN   \n",
       "family_status_id  2174    NaN                  NaN   NaN   0.975161   1.41822   \n",
       "gender            2174      2                    F  1484        NaN       NaN   \n",
       "income_type       2174      5             employee  1105        NaN       NaN   \n",
       "debt              2174    NaN                  NaN   NaN  0.0781969  0.268543   \n",
       "total_income         0    NaN                  NaN   NaN        NaN       NaN   \n",
       "purpose           2174     38     having a wedding    92        NaN       NaN   \n",
       "\n",
       "                  min   25%  50%  75%  max  \n",
       "children           -1     0    0    1   20  \n",
       "days_employed     NaN   NaN  NaN  NaN  NaN  \n",
       "dob_years           0    34   43   54   73  \n",
       "education         NaN   NaN  NaN  NaN  NaN  \n",
       "education_id        0  0.25    1    1    3  \n",
       "family_status     NaN   NaN  NaN  NaN  NaN  \n",
       "family_status_id    0     0    0    1    4  \n",
       "gender            NaN   NaN  NaN  NaN  NaN  \n",
       "income_type       NaN   NaN  NaN  NaN  NaN  \n",
       "debt                0     0    0    0    1  \n",
       "total_income      NaN   NaN  NaN  NaN  NaN  \n",
       "purpose           NaN   NaN  NaN  NaN  NaN  "
      ]
     },
     "execution_count": 9,
     "metadata": {},
     "output_type": "execute_result"
    }
   ],
   "source": [
    "# Checking distribution\n",
    "credit_scoring_nan['income_type'].value_counts()\n",
    "credit_scoring_nan.describe(include='all').T"
   ]
  },
  {
   "cell_type": "markdown",
   "metadata": {},
   "source": [
    "[Describe your findings here.]\n",
    "\n",
    "**Possible reasons for missing values in data**\n",
    "\n",
    "[Propose your ideas on why you think the values might be missing. Do you think they are missing randomly or there are any patterns?]\n",
    "Were not dealing with randomly missing data but with a patern. The simtric nature of the data shows that clearly.\n",
    "[Let's start checking whether the missing values are random.]"
   ]
  },
  {
   "cell_type": "code",
   "execution_count": 10,
   "metadata": {},
   "outputs": [
    {
     "data": {
      "text/html": [
       "<div>\n",
       "<style scoped>\n",
       "    .dataframe tbody tr th:only-of-type {\n",
       "        vertical-align: middle;\n",
       "    }\n",
       "\n",
       "    .dataframe tbody tr th {\n",
       "        vertical-align: top;\n",
       "    }\n",
       "\n",
       "    .dataframe thead th {\n",
       "        text-align: right;\n",
       "    }\n",
       "</style>\n",
       "<table border=\"1\" class=\"dataframe\">\n",
       "  <thead>\n",
       "    <tr style=\"text-align: right;\">\n",
       "      <th></th>\n",
       "      <th>count</th>\n",
       "      <th>unique</th>\n",
       "      <th>top</th>\n",
       "      <th>freq</th>\n",
       "      <th>mean</th>\n",
       "      <th>std</th>\n",
       "      <th>min</th>\n",
       "      <th>25%</th>\n",
       "      <th>50%</th>\n",
       "      <th>75%</th>\n",
       "      <th>max</th>\n",
       "    </tr>\n",
       "  </thead>\n",
       "  <tbody>\n",
       "    <tr>\n",
       "      <td>children</td>\n",
       "      <td>21525</td>\n",
       "      <td>NaN</td>\n",
       "      <td>NaN</td>\n",
       "      <td>NaN</td>\n",
       "      <td>0.538908</td>\n",
       "      <td>1.38159</td>\n",
       "      <td>-1</td>\n",
       "      <td>0</td>\n",
       "      <td>0</td>\n",
       "      <td>1</td>\n",
       "      <td>20</td>\n",
       "    </tr>\n",
       "    <tr>\n",
       "      <td>days_employed</td>\n",
       "      <td>19351</td>\n",
       "      <td>NaN</td>\n",
       "      <td>NaN</td>\n",
       "      <td>NaN</td>\n",
       "      <td>63046.5</td>\n",
       "      <td>140827</td>\n",
       "      <td>-18388.9</td>\n",
       "      <td>-2747.42</td>\n",
       "      <td>-1203.37</td>\n",
       "      <td>-291.096</td>\n",
       "      <td>401755</td>\n",
       "    </tr>\n",
       "    <tr>\n",
       "      <td>dob_years</td>\n",
       "      <td>21525</td>\n",
       "      <td>NaN</td>\n",
       "      <td>NaN</td>\n",
       "      <td>NaN</td>\n",
       "      <td>43.2934</td>\n",
       "      <td>12.5746</td>\n",
       "      <td>0</td>\n",
       "      <td>33</td>\n",
       "      <td>42</td>\n",
       "      <td>53</td>\n",
       "      <td>75</td>\n",
       "    </tr>\n",
       "    <tr>\n",
       "      <td>education</td>\n",
       "      <td>21525</td>\n",
       "      <td>15</td>\n",
       "      <td>secondary education</td>\n",
       "      <td>13750</td>\n",
       "      <td>NaN</td>\n",
       "      <td>NaN</td>\n",
       "      <td>NaN</td>\n",
       "      <td>NaN</td>\n",
       "      <td>NaN</td>\n",
       "      <td>NaN</td>\n",
       "      <td>NaN</td>\n",
       "    </tr>\n",
       "    <tr>\n",
       "      <td>education_id</td>\n",
       "      <td>21525</td>\n",
       "      <td>NaN</td>\n",
       "      <td>NaN</td>\n",
       "      <td>NaN</td>\n",
       "      <td>0.817236</td>\n",
       "      <td>0.548138</td>\n",
       "      <td>0</td>\n",
       "      <td>1</td>\n",
       "      <td>1</td>\n",
       "      <td>1</td>\n",
       "      <td>4</td>\n",
       "    </tr>\n",
       "    <tr>\n",
       "      <td>family_status</td>\n",
       "      <td>21525</td>\n",
       "      <td>5</td>\n",
       "      <td>married</td>\n",
       "      <td>12380</td>\n",
       "      <td>NaN</td>\n",
       "      <td>NaN</td>\n",
       "      <td>NaN</td>\n",
       "      <td>NaN</td>\n",
       "      <td>NaN</td>\n",
       "      <td>NaN</td>\n",
       "      <td>NaN</td>\n",
       "    </tr>\n",
       "    <tr>\n",
       "      <td>family_status_id</td>\n",
       "      <td>21525</td>\n",
       "      <td>NaN</td>\n",
       "      <td>NaN</td>\n",
       "      <td>NaN</td>\n",
       "      <td>0.972544</td>\n",
       "      <td>1.42032</td>\n",
       "      <td>0</td>\n",
       "      <td>0</td>\n",
       "      <td>0</td>\n",
       "      <td>1</td>\n",
       "      <td>4</td>\n",
       "    </tr>\n",
       "    <tr>\n",
       "      <td>gender</td>\n",
       "      <td>21525</td>\n",
       "      <td>3</td>\n",
       "      <td>F</td>\n",
       "      <td>14236</td>\n",
       "      <td>NaN</td>\n",
       "      <td>NaN</td>\n",
       "      <td>NaN</td>\n",
       "      <td>NaN</td>\n",
       "      <td>NaN</td>\n",
       "      <td>NaN</td>\n",
       "      <td>NaN</td>\n",
       "    </tr>\n",
       "    <tr>\n",
       "      <td>income_type</td>\n",
       "      <td>21525</td>\n",
       "      <td>8</td>\n",
       "      <td>employee</td>\n",
       "      <td>11119</td>\n",
       "      <td>NaN</td>\n",
       "      <td>NaN</td>\n",
       "      <td>NaN</td>\n",
       "      <td>NaN</td>\n",
       "      <td>NaN</td>\n",
       "      <td>NaN</td>\n",
       "      <td>NaN</td>\n",
       "    </tr>\n",
       "    <tr>\n",
       "      <td>debt</td>\n",
       "      <td>21525</td>\n",
       "      <td>NaN</td>\n",
       "      <td>NaN</td>\n",
       "      <td>NaN</td>\n",
       "      <td>0.0808827</td>\n",
       "      <td>0.272661</td>\n",
       "      <td>0</td>\n",
       "      <td>0</td>\n",
       "      <td>0</td>\n",
       "      <td>0</td>\n",
       "      <td>1</td>\n",
       "    </tr>\n",
       "    <tr>\n",
       "      <td>total_income</td>\n",
       "      <td>19351</td>\n",
       "      <td>NaN</td>\n",
       "      <td>NaN</td>\n",
       "      <td>NaN</td>\n",
       "      <td>26787.6</td>\n",
       "      <td>16475.5</td>\n",
       "      <td>3306.76</td>\n",
       "      <td>16488.5</td>\n",
       "      <td>23202.9</td>\n",
       "      <td>32549.6</td>\n",
       "      <td>362497</td>\n",
       "    </tr>\n",
       "    <tr>\n",
       "      <td>purpose</td>\n",
       "      <td>21525</td>\n",
       "      <td>38</td>\n",
       "      <td>wedding ceremony</td>\n",
       "      <td>797</td>\n",
       "      <td>NaN</td>\n",
       "      <td>NaN</td>\n",
       "      <td>NaN</td>\n",
       "      <td>NaN</td>\n",
       "      <td>NaN</td>\n",
       "      <td>NaN</td>\n",
       "      <td>NaN</td>\n",
       "    </tr>\n",
       "  </tbody>\n",
       "</table>\n",
       "</div>"
      ],
      "text/plain": [
       "                  count unique                  top   freq       mean  \\\n",
       "children          21525    NaN                  NaN    NaN   0.538908   \n",
       "days_employed     19351    NaN                  NaN    NaN    63046.5   \n",
       "dob_years         21525    NaN                  NaN    NaN    43.2934   \n",
       "education         21525     15  secondary education  13750        NaN   \n",
       "education_id      21525    NaN                  NaN    NaN   0.817236   \n",
       "family_status     21525      5              married  12380        NaN   \n",
       "family_status_id  21525    NaN                  NaN    NaN   0.972544   \n",
       "gender            21525      3                    F  14236        NaN   \n",
       "income_type       21525      8             employee  11119        NaN   \n",
       "debt              21525    NaN                  NaN    NaN  0.0808827   \n",
       "total_income      19351    NaN                  NaN    NaN    26787.6   \n",
       "purpose           21525     38     wedding ceremony    797        NaN   \n",
       "\n",
       "                       std      min      25%      50%      75%     max  \n",
       "children           1.38159       -1        0        0        1      20  \n",
       "days_employed       140827 -18388.9 -2747.42 -1203.37 -291.096  401755  \n",
       "dob_years          12.5746        0       33       42       53      75  \n",
       "education              NaN      NaN      NaN      NaN      NaN     NaN  \n",
       "education_id      0.548138        0        1        1        1       4  \n",
       "family_status          NaN      NaN      NaN      NaN      NaN     NaN  \n",
       "family_status_id   1.42032        0        0        0        1       4  \n",
       "gender                 NaN      NaN      NaN      NaN      NaN     NaN  \n",
       "income_type            NaN      NaN      NaN      NaN      NaN     NaN  \n",
       "debt              0.272661        0        0        0        0       1  \n",
       "total_income       16475.5  3306.76  16488.5  23202.9  32549.6  362497  \n",
       "purpose                NaN      NaN      NaN      NaN      NaN     NaN  "
      ]
     },
     "execution_count": 10,
     "metadata": {},
     "output_type": "execute_result"
    }
   ],
   "source": [
    "# Checking the distribution in the whole dataset\n",
    "\n",
    "credit_scoring.describe(include='all').T"
   ]
  },
  {
   "cell_type": "markdown",
   "metadata": {},
   "source": [
    "**Intermediate conclusion**\n",
    "\n",
    "[Is the distribution in the original dataset similar to the distribution of the filtered table? What does that mean for us?]\n",
    "That the missing data could be dumped as it does not influance the distrebution, and it is within the limits of the data we're able to dump (10%). It probably came from people who didn't want to divulge​ the days_employed and total_income data so we're lacking it.\n",
    "\n",
    "[If you think we can't make any conclusions yet, let's investigate our dataset further. Let's think about other reasons that could lead to data missing and check if we can find any patterns that may lead us to thinking that the missing values are not random. Because this is your work, this is section is optional.]"
   ]
  },
  {
   "cell_type": "code",
   "execution_count": 11,
   "metadata": {},
   "outputs": [],
   "source": [
    "# Check for other reasons and patterns that could lead to missing values\n",
    "\n"
   ]
  },
  {
   "cell_type": "markdown",
   "metadata": {},
   "source": [
    "**Intermediate conclusion**\n",
    "\n",
    "[Can we finally confirm that missing values are accidental? Check for anything else that you think might be important here.]"
   ]
  },
  {
   "cell_type": "code",
   "execution_count": 12,
   "metadata": {
    "scrolled": true
   },
   "outputs": [],
   "source": [
    "# Checking for other patterns - explain which"
   ]
  },
  {
   "cell_type": "markdown",
   "metadata": {},
   "source": [
    "**Conclusions**\n",
    "\n",
    "[Did you find any patterns? How did you come to this conclusion?]\n",
    "The simtric nature of the data shows that there's a pattern.\n",
    "\n",
    "[Explain how you will address the missing values. Consider the categories in which values are missing.]\n",
    "First I'm going to look at the mean and median values of the other values of the column and try to find what atribute or parameter, is the most influential in the distribution of mean/median values of the column to which the missing values belong. Then I'm going to input values based on the atribute that was most influential. After that I'm going to check that the formaly missing values are no longer missing.   \n",
    "\n",
    "[Briefly plan your next steps for transforming data. You will probably need to address different types of issues: duplicates, different registers, incorrect artifacts, and missing values.]\n",
    "Asses percentage of duplicates, if there are few (low pracentage) then they can be droped, but if there are many (high pracentage) they need to be raplaced.\n",
    "I'll use .lower to make the regitries uniform and prevent the duplication of values.\n",
    "Incorrect artifacts need to be trated based on the nature of the problem with them, different problems lead to different solutions.\n",
    "As for missing values, they can be restored via mean/median based on the most infuential atribute, the one we will find based on the existing values most dominant in it's influance on the distribution of mean/median values.\n",
    "I think the sphere of employment (buissness, retail, service, manufacture, etc.) will prove most dominant in the determination of the values that will be used, but in this step this is nothing more then a hypotesis. "
   ]
  },
  {
   "cell_type": "markdown",
   "metadata": {},
   "source": [
    "<div class=\"alert alert-block alert-danger\">\n",
    "<b>Reviewer's comment</b> <a class=\"tocSkip\"></a>\n",
    "\n",
    "~~Please pay attention to the fact that 10% of data is a lot and you can’t just delete it. One of the important qualities of a good Data Analyst is the ability to come up with a logical and maximally correct way to fill in the missing values. Do you think the average income (or median) for a worker in one area would be considered the correct way to fill in the missing values?\n",
    "Please add to this section of the project~~\n",
    "</div>\n",
    "\n"
   ]
  },
  {
   "cell_type": "markdown",
   "metadata": {},
   "source": [
    "<div class=\"alert alert-block alert-info\">\n",
    "<b>Student answer.</b> <a class=\"tocSkip\"></a>\n",
    "Thanks, I changed the conclusion, and added the section that was reqired. I hope its better now. \n",
    "</div>\n"
   ]
  },
  {
   "cell_type": "markdown",
   "metadata": {},
   "source": [
    "<div class=\"alert alert-block alert-success\">\n",
    "<b>Reviewer's comment</b> <a class=\"tocSkip\"></a>\n",
    "Well done! Good\n",
    "</div>"
   ]
  },
  {
   "cell_type": "markdown",
   "metadata": {},
   "source": [
    "## Data transformation\n",
    "\n",
    "[Let's go through each column to see what issues we may have in them.]\n",
    "days employed has negative values which is ilogical, education has upper case and lower case values that are duplicates, purpose is a bit wonky as some of the values are essentialy the same thing with diferent words and may need steeming.\n",
    "\n",
    "[Begin with removing duplicates and fixing educational information if required.]"
   ]
  },
  {
   "cell_type": "code",
   "execution_count": 13,
   "metadata": {},
   "outputs": [
    {
     "data": {
      "text/plain": [
       "array([\"bachelor's degree\", 'secondary education', 'Secondary Education',\n",
       "       'SECONDARY EDUCATION', \"BACHELOR'S DEGREE\", 'some college',\n",
       "       'primary education', \"Bachelor's Degree\", 'SOME COLLEGE',\n",
       "       'Some College', 'PRIMARY EDUCATION', 'Primary Education',\n",
       "       'Graduate Degree', 'GRADUATE DEGREE', 'graduate degree'],\n",
       "      dtype=object)"
      ]
     },
     "execution_count": 13,
     "metadata": {},
     "output_type": "execute_result"
    }
   ],
   "source": [
    "# Let's see all values in education column to check if and what spellings will need to be fixed\n",
    "credit_scoring.education.unique()"
   ]
  },
  {
   "cell_type": "code",
   "execution_count": 14,
   "metadata": {
    "scrolled": true
   },
   "outputs": [],
   "source": [
    "# Fix the registers if required\n",
    "credit_scoring['education'] = credit_scoring.education.str.lower()"
   ]
  },
  {
   "cell_type": "code",
   "execution_count": 15,
   "metadata": {},
   "outputs": [
    {
     "data": {
      "text/plain": [
       "array([\"bachelor's degree\", 'secondary education', 'some college',\n",
       "       'primary education', 'graduate degree'], dtype=object)"
      ]
     },
     "execution_count": 15,
     "metadata": {},
     "output_type": "execute_result"
    }
   ],
   "source": [
    "# Checking all the values in the column to make sure we fixed them\n",
    "credit_scoring.education.unique()"
   ]
  },
  {
   "cell_type": "markdown",
   "metadata": {},
   "source": [
    "[Check the data the `children` column]"
   ]
  },
  {
   "cell_type": "code",
   "execution_count": 16,
   "metadata": {},
   "outputs": [
    {
     "data": {
      "text/plain": [
       "0.0035307781649245064"
      ]
     },
     "execution_count": 16,
     "metadata": {},
     "output_type": "execute_result"
    }
   ],
   "source": [
    "# Let's see the distribution of values in the `children` column\n",
    "credit_scoring.children.value_counts()\n",
    "#credit_scoring[credit_scoring['children'] == -1]['children'].count()/credit_scoring.children.count()\n",
    "credit_scoring[credit_scoring['children'] == 20]['children'].count()/credit_scoring.children.count()"
   ]
  },
  {
   "cell_type": "markdown",
   "metadata": {},
   "source": [
    "[Are there any strange things in the column? If yes, how high is the percentage of problematic data? How could they have occurred? Make a decision on what you will do with this data and explain you reasoning.]\n",
    "Well that -1 doesnt look logical, I meen how can you have -1 children. That 20 value also lokes fishy (I meen 20 children are a bit much), but I suppose it's possible (Mormons in Utah and other religious groups practicing polygamy, have lots of childen I think) but highly unlikely. The couse in both cases is human error, I think.\n",
    "I suppose losing 0.5% (0.02 of -1, and 0.03 of 20) of the data is not a problem, besides there is no way to know what is the correct data."
   ]
  },
  {
   "cell_type": "code",
   "execution_count": 17,
   "metadata": {},
   "outputs": [],
   "source": [
    "# [fix the data based on your decision]\n",
    "credit_scoring = credit_scoring[credit_scoring['children'] != -1]\n",
    "credit_scoring = credit_scoring[credit_scoring['children'] != 20]"
   ]
  },
  {
   "cell_type": "code",
   "execution_count": 18,
   "metadata": {},
   "outputs": [
    {
     "data": {
      "text/plain": [
       "0    14149\n",
       "1     4818\n",
       "2     2055\n",
       "3      330\n",
       "4       41\n",
       "5        9\n",
       "Name: children, dtype: int64"
      ]
     },
     "execution_count": 18,
     "metadata": {},
     "output_type": "execute_result"
    }
   ],
   "source": [
    "# Checking the `children` column again to make sure it's all fixed\n",
    "\n",
    "credit_scoring.children.value_counts()"
   ]
  },
  {
   "cell_type": "markdown",
   "metadata": {},
   "source": [
    "<div class=\"alert alert-block alert-success\">\n",
    "<b>Reviewer's comment</b> <a class=\"tocSkip\"></a>\n",
    "Well done! The \"children\" column is processed correctly.\n",
    "</div>"
   ]
  },
  {
   "cell_type": "markdown",
   "metadata": {},
   "source": [
    "[Check the data in the `days_employed` column. Firstly think about what kind of issues could there be and what you may want to check and how you will do it.]"
   ]
  },
  {
   "cell_type": "code",
   "execution_count": 19,
   "metadata": {},
   "outputs": [
    {
     "data": {
      "text/html": [
       "<div>\n",
       "<style scoped>\n",
       "    .dataframe tbody tr th:only-of-type {\n",
       "        vertical-align: middle;\n",
       "    }\n",
       "\n",
       "    .dataframe tbody tr th {\n",
       "        vertical-align: top;\n",
       "    }\n",
       "\n",
       "    .dataframe thead th {\n",
       "        text-align: right;\n",
       "    }\n",
       "</style>\n",
       "<table border=\"1\" class=\"dataframe\">\n",
       "  <thead>\n",
       "    <tr style=\"text-align: right;\">\n",
       "      <th></th>\n",
       "      <th>children</th>\n",
       "      <th>days_employed</th>\n",
       "      <th>dob_years</th>\n",
       "      <th>education</th>\n",
       "      <th>education_id</th>\n",
       "      <th>family_status</th>\n",
       "      <th>family_status_id</th>\n",
       "      <th>gender</th>\n",
       "      <th>income_type</th>\n",
       "      <th>debt</th>\n",
       "      <th>total_income</th>\n",
       "      <th>purpose</th>\n",
       "    </tr>\n",
       "  </thead>\n",
       "  <tbody>\n",
       "    <tr>\n",
       "      <td>0</td>\n",
       "      <td>1</td>\n",
       "      <td>-8437.673028</td>\n",
       "      <td>42</td>\n",
       "      <td>bachelor's degree</td>\n",
       "      <td>0</td>\n",
       "      <td>married</td>\n",
       "      <td>0</td>\n",
       "      <td>F</td>\n",
       "      <td>employee</td>\n",
       "      <td>0</td>\n",
       "      <td>40620.102</td>\n",
       "      <td>purchase of the house</td>\n",
       "    </tr>\n",
       "    <tr>\n",
       "      <td>1</td>\n",
       "      <td>1</td>\n",
       "      <td>-4024.803754</td>\n",
       "      <td>36</td>\n",
       "      <td>secondary education</td>\n",
       "      <td>1</td>\n",
       "      <td>married</td>\n",
       "      <td>0</td>\n",
       "      <td>F</td>\n",
       "      <td>employee</td>\n",
       "      <td>0</td>\n",
       "      <td>17932.802</td>\n",
       "      <td>car purchase</td>\n",
       "    </tr>\n",
       "    <tr>\n",
       "      <td>2</td>\n",
       "      <td>0</td>\n",
       "      <td>-5623.422610</td>\n",
       "      <td>33</td>\n",
       "      <td>secondary education</td>\n",
       "      <td>1</td>\n",
       "      <td>married</td>\n",
       "      <td>0</td>\n",
       "      <td>M</td>\n",
       "      <td>employee</td>\n",
       "      <td>0</td>\n",
       "      <td>23341.752</td>\n",
       "      <td>purchase of the house</td>\n",
       "    </tr>\n",
       "    <tr>\n",
       "      <td>3</td>\n",
       "      <td>3</td>\n",
       "      <td>-4124.747207</td>\n",
       "      <td>32</td>\n",
       "      <td>secondary education</td>\n",
       "      <td>1</td>\n",
       "      <td>married</td>\n",
       "      <td>0</td>\n",
       "      <td>M</td>\n",
       "      <td>employee</td>\n",
       "      <td>0</td>\n",
       "      <td>42820.568</td>\n",
       "      <td>supplementary education</td>\n",
       "    </tr>\n",
       "    <tr>\n",
       "      <td>4</td>\n",
       "      <td>0</td>\n",
       "      <td>340266.072047</td>\n",
       "      <td>53</td>\n",
       "      <td>secondary education</td>\n",
       "      <td>1</td>\n",
       "      <td>civil partnership</td>\n",
       "      <td>1</td>\n",
       "      <td>F</td>\n",
       "      <td>retiree</td>\n",
       "      <td>0</td>\n",
       "      <td>25378.572</td>\n",
       "      <td>to have a wedding</td>\n",
       "    </tr>\n",
       "    <tr>\n",
       "      <td>5</td>\n",
       "      <td>0</td>\n",
       "      <td>-926.185831</td>\n",
       "      <td>27</td>\n",
       "      <td>bachelor's degree</td>\n",
       "      <td>0</td>\n",
       "      <td>civil partnership</td>\n",
       "      <td>1</td>\n",
       "      <td>M</td>\n",
       "      <td>business</td>\n",
       "      <td>0</td>\n",
       "      <td>40922.170</td>\n",
       "      <td>purchase of the house</td>\n",
       "    </tr>\n",
       "    <tr>\n",
       "      <td>6</td>\n",
       "      <td>0</td>\n",
       "      <td>-2879.202052</td>\n",
       "      <td>43</td>\n",
       "      <td>bachelor's degree</td>\n",
       "      <td>0</td>\n",
       "      <td>married</td>\n",
       "      <td>0</td>\n",
       "      <td>F</td>\n",
       "      <td>business</td>\n",
       "      <td>0</td>\n",
       "      <td>38484.156</td>\n",
       "      <td>housing transactions</td>\n",
       "    </tr>\n",
       "    <tr>\n",
       "      <td>7</td>\n",
       "      <td>0</td>\n",
       "      <td>-152.779569</td>\n",
       "      <td>50</td>\n",
       "      <td>secondary education</td>\n",
       "      <td>1</td>\n",
       "      <td>married</td>\n",
       "      <td>0</td>\n",
       "      <td>M</td>\n",
       "      <td>employee</td>\n",
       "      <td>0</td>\n",
       "      <td>21731.829</td>\n",
       "      <td>education</td>\n",
       "    </tr>\n",
       "    <tr>\n",
       "      <td>8</td>\n",
       "      <td>2</td>\n",
       "      <td>-6929.865299</td>\n",
       "      <td>35</td>\n",
       "      <td>bachelor's degree</td>\n",
       "      <td>0</td>\n",
       "      <td>civil partnership</td>\n",
       "      <td>1</td>\n",
       "      <td>F</td>\n",
       "      <td>employee</td>\n",
       "      <td>0</td>\n",
       "      <td>15337.093</td>\n",
       "      <td>having a wedding</td>\n",
       "    </tr>\n",
       "    <tr>\n",
       "      <td>9</td>\n",
       "      <td>0</td>\n",
       "      <td>-2188.756445</td>\n",
       "      <td>41</td>\n",
       "      <td>secondary education</td>\n",
       "      <td>1</td>\n",
       "      <td>married</td>\n",
       "      <td>0</td>\n",
       "      <td>M</td>\n",
       "      <td>employee</td>\n",
       "      <td>0</td>\n",
       "      <td>23108.150</td>\n",
       "      <td>purchase of the house for my family</td>\n",
       "    </tr>\n",
       "    <tr>\n",
       "      <td>10</td>\n",
       "      <td>2</td>\n",
       "      <td>-4171.483647</td>\n",
       "      <td>36</td>\n",
       "      <td>bachelor's degree</td>\n",
       "      <td>0</td>\n",
       "      <td>married</td>\n",
       "      <td>0</td>\n",
       "      <td>M</td>\n",
       "      <td>business</td>\n",
       "      <td>0</td>\n",
       "      <td>18230.959</td>\n",
       "      <td>buy real estate</td>\n",
       "    </tr>\n",
       "    <tr>\n",
       "      <td>11</td>\n",
       "      <td>0</td>\n",
       "      <td>-792.701887</td>\n",
       "      <td>40</td>\n",
       "      <td>secondary education</td>\n",
       "      <td>1</td>\n",
       "      <td>married</td>\n",
       "      <td>0</td>\n",
       "      <td>F</td>\n",
       "      <td>employee</td>\n",
       "      <td>0</td>\n",
       "      <td>12331.077</td>\n",
       "      <td>buy commercial real estate</td>\n",
       "    </tr>\n",
       "    <tr>\n",
       "      <td>12</td>\n",
       "      <td>0</td>\n",
       "      <td>NaN</td>\n",
       "      <td>65</td>\n",
       "      <td>secondary education</td>\n",
       "      <td>1</td>\n",
       "      <td>civil partnership</td>\n",
       "      <td>1</td>\n",
       "      <td>M</td>\n",
       "      <td>retiree</td>\n",
       "      <td>0</td>\n",
       "      <td>NaN</td>\n",
       "      <td>to have a wedding</td>\n",
       "    </tr>\n",
       "    <tr>\n",
       "      <td>13</td>\n",
       "      <td>0</td>\n",
       "      <td>-1846.641941</td>\n",
       "      <td>54</td>\n",
       "      <td>some college</td>\n",
       "      <td>2</td>\n",
       "      <td>married</td>\n",
       "      <td>0</td>\n",
       "      <td>F</td>\n",
       "      <td>employee</td>\n",
       "      <td>0</td>\n",
       "      <td>20873.317</td>\n",
       "      <td>car purchase</td>\n",
       "    </tr>\n",
       "    <tr>\n",
       "      <td>14</td>\n",
       "      <td>0</td>\n",
       "      <td>-1844.956182</td>\n",
       "      <td>56</td>\n",
       "      <td>bachelor's degree</td>\n",
       "      <td>0</td>\n",
       "      <td>civil partnership</td>\n",
       "      <td>1</td>\n",
       "      <td>F</td>\n",
       "      <td>business</td>\n",
       "      <td>1</td>\n",
       "      <td>26420.466</td>\n",
       "      <td>buy residential real estate</td>\n",
       "    </tr>\n",
       "  </tbody>\n",
       "</table>\n",
       "</div>"
      ],
      "text/plain": [
       "    children  days_employed  dob_years            education  education_id  \\\n",
       "0          1   -8437.673028         42    bachelor's degree             0   \n",
       "1          1   -4024.803754         36  secondary education             1   \n",
       "2          0   -5623.422610         33  secondary education             1   \n",
       "3          3   -4124.747207         32  secondary education             1   \n",
       "4          0  340266.072047         53  secondary education             1   \n",
       "5          0    -926.185831         27    bachelor's degree             0   \n",
       "6          0   -2879.202052         43    bachelor's degree             0   \n",
       "7          0    -152.779569         50  secondary education             1   \n",
       "8          2   -6929.865299         35    bachelor's degree             0   \n",
       "9          0   -2188.756445         41  secondary education             1   \n",
       "10         2   -4171.483647         36    bachelor's degree             0   \n",
       "11         0    -792.701887         40  secondary education             1   \n",
       "12         0            NaN         65  secondary education             1   \n",
       "13         0   -1846.641941         54         some college             2   \n",
       "14         0   -1844.956182         56    bachelor's degree             0   \n",
       "\n",
       "        family_status  family_status_id gender income_type  debt  \\\n",
       "0             married                 0      F    employee     0   \n",
       "1             married                 0      F    employee     0   \n",
       "2             married                 0      M    employee     0   \n",
       "3             married                 0      M    employee     0   \n",
       "4   civil partnership                 1      F     retiree     0   \n",
       "5   civil partnership                 1      M    business     0   \n",
       "6             married                 0      F    business     0   \n",
       "7             married                 0      M    employee     0   \n",
       "8   civil partnership                 1      F    employee     0   \n",
       "9             married                 0      M    employee     0   \n",
       "10            married                 0      M    business     0   \n",
       "11            married                 0      F    employee     0   \n",
       "12  civil partnership                 1      M     retiree     0   \n",
       "13            married                 0      F    employee     0   \n",
       "14  civil partnership                 1      F    business     1   \n",
       "\n",
       "    total_income                              purpose  \n",
       "0      40620.102                purchase of the house  \n",
       "1      17932.802                         car purchase  \n",
       "2      23341.752                purchase of the house  \n",
       "3      42820.568              supplementary education  \n",
       "4      25378.572                    to have a wedding  \n",
       "5      40922.170                purchase of the house  \n",
       "6      38484.156                 housing transactions  \n",
       "7      21731.829                            education  \n",
       "8      15337.093                     having a wedding  \n",
       "9      23108.150  purchase of the house for my family  \n",
       "10     18230.959                      buy real estate  \n",
       "11     12331.077           buy commercial real estate  \n",
       "12           NaN                    to have a wedding  \n",
       "13     20873.317                         car purchase  \n",
       "14     26420.466          buy residential real estate  "
      ]
     },
     "execution_count": 19,
     "metadata": {},
     "output_type": "execute_result"
    }
   ],
   "source": [
    "# Find problematic data in `days_employed`, if they exist, and calculate the percentage\n",
    "#credit_scoring.days_employed.value_counts()\n",
    "credit_scoring[credit_scoring['days_employed'] < 0]['days_employed'].count() #15809 values\n",
    "credit_scoring[credit_scoring['days_employed'] < 0]['days_employed'].count() / credit_scoring.children.count()\n",
    "# 73.86% of values are negative which is illogical\n",
    "credit_scoring[credit_scoring.days_employed.isnull()]['children'].count() #2162 values\n",
    "credit_scoring[credit_scoring.days_employed.isnull()]['children'].count() / credit_scoring.children.count()\n",
    "# 10.1% of values are null (as prevous parts show they are of no consiqence(it does not influance the distrebution), they can be ignored or droped)\n",
    "# 70 years are about 25,568 days, which is un-reasnoble maximum (who can work for 70 years) for employment days\n",
    "credit_scoring[credit_scoring['days_employed'] > 25568]['days_employed'].count() #3431 values\n",
    "credit_scoring[credit_scoring['days_employed'] > 25568]['days_employed'].count() / credit_scoring.children.count()\n",
    "#16.03% of values are too high\n",
    "credit_scoring.head(15)"
   ]
  },
  {
   "cell_type": "markdown",
   "metadata": {},
   "source": [
    "[If the amount of problematic data is high, it could've been due to some technical issues. We may probably want to propose the most obvious reason why it could've happened and what the correct data might've been, as we can't drop these problematic rows.]"
   ]
  },
  {
   "cell_type": "code",
   "execution_count": 20,
   "metadata": {},
   "outputs": [
    {
     "data": {
      "text/plain": [
       "0       351.569709\n",
       "1       167.700156\n",
       "2       234.309275\n",
       "3       171.864467\n",
       "4     14177.753002\n",
       "5        38.591076\n",
       "6       119.966752\n",
       "7         6.365815\n",
       "8       288.744387\n",
       "9        91.198185\n",
       "10      173.811819\n",
       "11       33.029245\n",
       "12             NaN\n",
       "13       76.943414\n",
       "14       76.873174\n",
       "15       40.515184\n",
       "16       71.663926\n",
       "17       98.749988\n",
       "18    16678.380705\n",
       "19      418.284106\n",
       "Name: days_employed, dtype: float64"
      ]
     },
     "execution_count": 20,
     "metadata": {},
     "output_type": "execute_result"
    }
   ],
   "source": [
    "# Address the problematic values, if they exist\n",
    "#credit_scoring_abs = abs(credit_scoring[credit_scoring['days_employed'] < 0]['days_employed'])\n",
    "credit_scoring['days_employed'] = abs(credit_scoring['days_employed'])\n",
    "#I assume that someone wrote in hours instead of days, to explain abnormaly high values (but that's only an assumption)\n",
    "\n",
    "#def hours_to_days(days):\n",
    "#    if days > 25568:\n",
    "#        return days/24\n",
    "#    return days\n",
    "\n",
    "#credit_scoring_days = credit_scoring['days_employed'].apply(\n",
    "#    hours_to_days\n",
    "#) \n",
    "#credit_scoring['days_employed'] = credit_scoring_days\n",
    "\n",
    "credit_scoring['days_employed']=credit_scoring['days_employed']/24\n",
    "credit_scoring['days_employed'].head(20)"
   ]
  },
  {
   "cell_type": "markdown",
   "metadata": {},
   "source": [
    "<div class=\"alert alert-block alert-danger\">\n",
    "<b>Reviewer's comment</b> <a class=\"tocSkip\"></a>\n",
    "\n",
    "~~The assumption that the data is in hours rather than days is a great idea. But why do you think that only part of the data is in hours? Maybe it's a feature of the data? Please correct this section of the project.~~\n",
    "</div>"
   ]
  },
  {
   "cell_type": "markdown",
   "metadata": {},
   "source": [
    "<div class=\"alert alert-block alert-info\">\n",
    "<b>Student answer.</b> <a class=\"tocSkip\"></a>\n",
    "Thanks, I will corect it, but if this is a feature of the data then some values (like the ones in rows 7, 9, 11 and 15), become too low (under a month of emploment), so I think only part of the data has this problem. That leaves the question what is the norm for these values. Also then the abnormal values remain very different from the rest of the data in the column.\n",
    "</div>\n"
   ]
  },
  {
   "cell_type": "markdown",
   "metadata": {},
   "source": [
    "<div class=\"alert alert-block alert-success\">\n",
    "<b>Reviewer's comment</b> <a class=\"tocSkip\"></a>\n",
    "I'm glad you brought this to your attention! Well done!\n",
    "</div>"
   ]
  },
  {
   "cell_type": "code",
   "execution_count": 21,
   "metadata": {},
   "outputs": [
    {
     "data": {
      "text/plain": [
       "0          351.569709\n",
       "1          167.700156\n",
       "2          234.309275\n",
       "3          171.864467\n",
       "4        14177.753002\n",
       "             ...     \n",
       "21520      188.721528\n",
       "21521    14330.725172\n",
       "21522       88.056120\n",
       "21523      129.686738\n",
       "21524       82.687816\n",
       "Name: days_employed, Length: 21402, dtype: float64"
      ]
     },
     "execution_count": 21,
     "metadata": {},
     "output_type": "execute_result"
    }
   ],
   "source": [
    "# Check the result - make sure it's fixed\n",
    "credit_scoring['days_employed'] "
   ]
  },
  {
   "cell_type": "markdown",
   "metadata": {},
   "source": [
    "[Let's now look at the client's age and whether there are any issues there. Again, think about what can data can be strange in this column, i.e. what cannot be someone's age.]"
   ]
  },
  {
   "cell_type": "code",
   "execution_count": 22,
   "metadata": {
    "scrolled": true
   },
   "outputs": [
    {
     "data": {
      "text/plain": [
       "35    614\n",
       "40    603\n",
       "41    603\n",
       "34    597\n",
       "38    595\n",
       "42    592\n",
       "33    577\n",
       "39    572\n",
       "31    556\n",
       "36    553\n",
       "29    543\n",
       "44    543\n",
       "30    536\n",
       "48    536\n",
       "37    531\n",
       "43    510\n",
       "50    509\n",
       "32    506\n",
       "49    505\n",
       "28    501\n",
       "45    494\n",
       "27    490\n",
       "52    483\n",
       "56    482\n",
       "47    480\n",
       "54    476\n",
       "46    469\n",
       "58    461\n",
       "57    457\n",
       "53    457\n",
       "51    446\n",
       "55    441\n",
       "59    441\n",
       "26    406\n",
       "60    376\n",
       "25    356\n",
       "61    353\n",
       "62    351\n",
       "63    268\n",
       "64    263\n",
       "24    263\n",
       "23    252\n",
       "65    194\n",
       "66    183\n",
       "22    183\n",
       "67    167\n",
       "21    110\n",
       "0     100\n",
       "68     99\n",
       "69     83\n",
       "70     65\n",
       "71     58\n",
       "20     51\n",
       "72     33\n",
       "19     14\n",
       "73      8\n",
       "74      6\n",
       "75      1\n",
       "Name: dob_years, dtype: int64"
      ]
     },
     "execution_count": 22,
     "metadata": {},
     "output_type": "execute_result"
    }
   ],
   "source": [
    "# Check the `dob_years` for suspicious values and count the percentage\n",
    "\n",
    "credit_scoring.dob_years.value_counts()"
   ]
  },
  {
   "cell_type": "markdown",
   "metadata": {},
   "source": [
    "[Decide what you'll do with the problematic values and explain why.]"
   ]
  },
  {
   "cell_type": "code",
   "execution_count": 23,
   "metadata": {},
   "outputs": [
    {
     "data": {
      "text/plain": [
       "35    614\n",
       "40    603\n",
       "41    603\n",
       "34    597\n",
       "38    595\n",
       "42    592\n",
       "33    577\n",
       "39    572\n",
       "31    556\n",
       "36    553\n",
       "29    543\n",
       "44    543\n",
       "30    536\n",
       "48    536\n",
       "37    531\n",
       "43    510\n",
       "50    509\n",
       "32    506\n",
       "49    505\n",
       "28    501\n",
       "45    494\n",
       "27    490\n",
       "52    483\n",
       "56    482\n",
       "47    480\n",
       "54    476\n",
       "46    469\n",
       "58    461\n",
       "53    457\n",
       "57    457\n",
       "51    446\n",
       "55    441\n",
       "59    441\n",
       "26    406\n",
       "60    376\n",
       "25    356\n",
       "61    353\n",
       "62    351\n",
       "63    268\n",
       "64    263\n",
       "24    263\n",
       "23    252\n",
       "65    194\n",
       "66    183\n",
       "22    183\n",
       "67    167\n",
       "21    110\n",
       "68     99\n",
       "69     83\n",
       "70     65\n",
       "71     58\n",
       "20     51\n",
       "72     33\n",
       "19     14\n",
       "73      8\n",
       "74      6\n",
       "75      1\n",
       "Name: dob_years, dtype: int64"
      ]
     },
     "execution_count": 23,
     "metadata": {},
     "output_type": "execute_result"
    }
   ],
   "source": [
    "# Address the issues in the `dob_years` column, if they exist\n",
    "# drop the 0 cause todlers can't work or take loans \n",
    "credit_scoring = credit_scoring[credit_scoring['dob_years'] != 0]\n",
    "credit_scoring.dob_years.value_counts()"
   ]
  },
  {
   "cell_type": "code",
   "execution_count": 24,
   "metadata": {},
   "outputs": [
    {
     "data": {
      "text/plain": [
       "35    614\n",
       "40    603\n",
       "41    603\n",
       "34    597\n",
       "38    595\n",
       "42    592\n",
       "33    577\n",
       "39    572\n",
       "31    556\n",
       "36    553\n",
       "29    543\n",
       "44    543\n",
       "30    536\n",
       "48    536\n",
       "37    531\n",
       "43    510\n",
       "50    509\n",
       "32    506\n",
       "49    505\n",
       "28    501\n",
       "45    494\n",
       "27    490\n",
       "52    483\n",
       "56    482\n",
       "47    480\n",
       "54    476\n",
       "46    469\n",
       "58    461\n",
       "53    457\n",
       "57    457\n",
       "51    446\n",
       "55    441\n",
       "59    441\n",
       "26    406\n",
       "60    376\n",
       "25    356\n",
       "61    353\n",
       "62    351\n",
       "63    268\n",
       "64    263\n",
       "24    263\n",
       "23    252\n",
       "65    194\n",
       "66    183\n",
       "22    183\n",
       "67    167\n",
       "21    110\n",
       "68     99\n",
       "69     83\n",
       "70     65\n",
       "71     58\n",
       "20     51\n",
       "72     33\n",
       "19     14\n",
       "73      8\n",
       "74      6\n",
       "75      1\n",
       "Name: dob_years, dtype: int64"
      ]
     },
     "execution_count": 24,
     "metadata": {},
     "output_type": "execute_result"
    }
   ],
   "source": [
    "# Check the result - make sure it's fixed\n",
    "credit_scoring.dob_years.value_counts()"
   ]
  },
  {
   "cell_type": "markdown",
   "metadata": {},
   "source": [
    "[Now let's check the `family_status` column. See what kind of values there are and what problems you may need to address.]"
   ]
  },
  {
   "cell_type": "code",
   "execution_count": 25,
   "metadata": {},
   "outputs": [
    {
     "data": {
      "text/plain": [
       "married              12254\n",
       "civil partnership     4139\n",
       "unmarried             2783\n",
       "divorced              1179\n",
       "widow / widower        947\n",
       "Name: family_status, dtype: int64"
      ]
     },
     "execution_count": 25,
     "metadata": {},
     "output_type": "execute_result"
    }
   ],
   "source": [
    "# Let's see the values for the column\n",
    "\n",
    "credit_scoring.family_status.value_counts()"
   ]
  },
  {
   "cell_type": "code",
   "execution_count": 26,
   "metadata": {},
   "outputs": [],
   "source": [
    "# Address the problematic values in `family_status`, if they exist\n",
    "\n",
    "#no such values as far as I can see. 'civil partnership' and 'married', are different 'de jure', so I assume different 'de facto'."
   ]
  },
  {
   "cell_type": "code",
   "execution_count": 27,
   "metadata": {},
   "outputs": [],
   "source": [
    "# Check the result - make sure it's fixed\n"
   ]
  },
  {
   "cell_type": "markdown",
   "metadata": {},
   "source": [
    "[Now let's check the `gender` column. See what kind of values there are and what problems you may need to address]"
   ]
  },
  {
   "cell_type": "code",
   "execution_count": 28,
   "metadata": {},
   "outputs": [
    {
     "data": {
      "text/plain": [
       "F      14083\n",
       "M       7218\n",
       "XNA        1\n",
       "Name: gender, dtype: int64"
      ]
     },
     "execution_count": 28,
     "metadata": {},
     "output_type": "execute_result"
    }
   ],
   "source": [
    "# Let's see the values in the column\n",
    "credit_scoring.gender.value_counts()"
   ]
  },
  {
   "cell_type": "code",
   "execution_count": 29,
   "metadata": {},
   "outputs": [
    {
     "data": {
      "text/plain": [
       "F    14083\n",
       "M     7218\n",
       "Name: gender, dtype: int64"
      ]
     },
     "execution_count": 29,
     "metadata": {},
     "output_type": "execute_result"
    }
   ],
   "source": [
    "# Address the problematic values, if they exist\n",
    "#not sure, as there are non-binary in some gov. documents as a choice (but I assume in this case this is a mistake)\n",
    "credit_scoring = credit_scoring[credit_scoring['gender'] != 'XNA']\n",
    "credit_scoring.gender.value_counts()"
   ]
  },
  {
   "cell_type": "code",
   "execution_count": 30,
   "metadata": {},
   "outputs": [
    {
     "data": {
      "text/plain": [
       "F    14083\n",
       "M     7218\n",
       "Name: gender, dtype: int64"
      ]
     },
     "execution_count": 30,
     "metadata": {},
     "output_type": "execute_result"
    }
   ],
   "source": [
    "# Check the result - make sure it's fixed\n",
    "credit_scoring.gender.value_counts()\n"
   ]
  },
  {
   "cell_type": "markdown",
   "metadata": {},
   "source": [
    "[Now let's check the `income_type` column. See what kind of values there are and what problems you may need to address]"
   ]
  },
  {
   "cell_type": "code",
   "execution_count": 31,
   "metadata": {},
   "outputs": [
    {
     "data": {
      "text/plain": [
       "employee                       10996\n",
       "business                        5033\n",
       "retiree                         3819\n",
       "civil servant                   1447\n",
       "entrepreneur                       2\n",
       "unemployed                         2\n",
       "student                            1\n",
       "paternity / maternity leave        1\n",
       "Name: income_type, dtype: int64"
      ]
     },
     "execution_count": 31,
     "metadata": {},
     "output_type": "execute_result"
    }
   ],
   "source": [
    "# Let's see the values in the column\n",
    "credit_scoring.income_type.value_counts()"
   ]
  },
  {
   "cell_type": "code",
   "execution_count": 32,
   "metadata": {},
   "outputs": [],
   "source": [
    "# Address the problematic values, if they exist\n",
    "# entrepreneur is the same as business\n",
    "#credit_scoring[credit_scoring['income_type']=='entrepreneur']['income_type'] \n",
    "credit_scoring.loc[5936, 'income_type'] = 'business'\n",
    "credit_scoring.loc[18697, 'income_type'] = 'business'\n",
    "#credit_scoring.income_type.value_counts()"
   ]
  },
  {
   "cell_type": "markdown",
   "metadata": {},
   "source": [
    "<div class=\"alert alert-block alert-warning\">\n",
    "<b>Reviewer's comment</b> <a class=\"tocSkip\"></a>\n",
    "See how the query method works. He will help you in your future work. Documentation link - https://pandas.pydata.org/docs/reference/api/pandas.DataFrame.query.html\n",
    "</div>"
   ]
  },
  {
   "cell_type": "markdown",
   "metadata": {},
   "source": [
    "<div class=\"alert alert-block alert-info\">\n",
    "<b>Student answer.</b> <a class=\"tocSkip\"></a>\n",
    "    Thanks.\n",
    "</div>\n"
   ]
  },
  {
   "cell_type": "code",
   "execution_count": 33,
   "metadata": {},
   "outputs": [
    {
     "data": {
      "text/plain": [
       "employee                       10996\n",
       "business                        5035\n",
       "retiree                         3819\n",
       "civil servant                   1447\n",
       "unemployed                         2\n",
       "student                            1\n",
       "paternity / maternity leave        1\n",
       "Name: income_type, dtype: int64"
      ]
     },
     "execution_count": 33,
     "metadata": {},
     "output_type": "execute_result"
    }
   ],
   "source": [
    "# Check the result - make sure it's fixed\n",
    "\n",
    "credit_scoring.income_type.value_counts()"
   ]
  },
  {
   "cell_type": "markdown",
   "metadata": {},
   "source": [
    "[Now let's see if we have any duplicates in our data. If we do, you'll need to decide what you will do with them and explain why.]"
   ]
  },
  {
   "cell_type": "code",
   "execution_count": 34,
   "metadata": {},
   "outputs": [
    {
     "data": {
      "text/plain": [
       "71"
      ]
     },
     "execution_count": 34,
     "metadata": {},
     "output_type": "execute_result"
    }
   ],
   "source": [
    "# Checking duplicates\n",
    "credit_scoring.duplicated().sum()\n"
   ]
  },
  {
   "cell_type": "code",
   "execution_count": 35,
   "metadata": {},
   "outputs": [],
   "source": [
    "# Address the duplicates, if they exist\n",
    "#54 duplicates out of 21525 entries (0.25%) are insignificant thus can be droped\n",
    "credit_scoring = credit_scoring.drop_duplicates().reset_index(drop = True)"
   ]
  },
  {
   "cell_type": "code",
   "execution_count": 36,
   "metadata": {},
   "outputs": [
    {
     "data": {
      "text/plain": [
       "0"
      ]
     },
     "execution_count": 36,
     "metadata": {},
     "output_type": "execute_result"
    }
   ],
   "source": [
    "# Last check whether we have any duplicates\n",
    "credit_scoring.duplicated().sum()"
   ]
  },
  {
   "cell_type": "code",
   "execution_count": 37,
   "metadata": {},
   "outputs": [
    {
     "name": "stdout",
     "output_type": "stream",
     "text": [
      "<class 'pandas.core.frame.DataFrame'>\n",
      "RangeIndex: 21230 entries, 0 to 21229\n",
      "Data columns (total 12 columns):\n",
      "children            21230 non-null int64\n",
      "days_employed       19149 non-null float64\n",
      "dob_years           21230 non-null int64\n",
      "education           21230 non-null object\n",
      "education_id        21230 non-null int64\n",
      "family_status       21230 non-null object\n",
      "family_status_id    21230 non-null int64\n",
      "gender              21230 non-null object\n",
      "income_type         21230 non-null object\n",
      "debt                21230 non-null int64\n",
      "total_income        19149 non-null float64\n",
      "purpose             21230 non-null object\n",
      "dtypes: float64(2), int64(5), object(5)\n",
      "memory usage: 1.9+ MB\n"
     ]
    }
   ],
   "source": [
    "# Check the size of the dataset that you now have after your first manipulations with it\n",
    "credit_scoring.info()"
   ]
  },
  {
   "cell_type": "markdown",
   "metadata": {},
   "source": [
    "[Describe your new dataset: briefly say what's changed and what's the percentage of the changes, if there were any.]\n",
    "Droped 54 duplicated entries, addresed some of the problematic data (though not all of it the problem with 'total_income' and 'days_employed', is still there)."
   ]
  },
  {
   "cell_type": "markdown",
   "metadata": {},
   "source": [
    "<div class=\"alert alert-block alert-success\">\n",
    "<b>Reviewer's comment</b> <a class=\"tocSkip\"></a>\n",
    "Well done! Duplicates removed correctly. Columns \"children\", \"education\", \"income_type\", \"gender\" and \"dob_years\" are adjusted correctly. Keep it up!\n",
    "</div>"
   ]
  },
  {
   "cell_type": "markdown",
   "metadata": {},
   "source": [
    "<div class=\"alert alert-block alert-danger\">\n",
    "<b>Reviewer's comment</b> <a class=\"tocSkip\"></a>\n",
    "\n",
    "~~Please take note of the suggestion to take a different approach to correcting the data in the \"days_employed\" column and correct this section of the project.~~\n",
    "</div>"
   ]
  },
  {
   "cell_type": "markdown",
   "metadata": {},
   "source": [
    "<div class=\"alert alert-block alert-info\">\n",
    "<b>Student answer.</b> <a class=\"tocSkip\"></a>\n",
    "Thanks, I have taken a different approach there. \n",
    "I hope I've understood what was needed correctly, and that now it is better.\n",
    "</div>\n"
   ]
  },
  {
   "cell_type": "markdown",
   "metadata": {},
   "source": [
    "<div class=\"alert alert-block alert-success\">\n",
    "<b>Reviewer's comment</b> <a class=\"tocSkip\"></a>\n",
    "Well done!\n",
    "</div>"
   ]
  },
  {
   "cell_type": "markdown",
   "metadata": {},
   "source": [
    "# Working with missing values"
   ]
  },
  {
   "cell_type": "markdown",
   "metadata": {},
   "source": [
    "[To speed up working with some data, you may want to work with dictionaries for some values, where IDs are provided. Explain why and which dictionaries you will work with.]"
   ]
  },
  {
   "cell_type": "code",
   "execution_count": 38,
   "metadata": {},
   "outputs": [],
   "source": [
    "# Find the dictionaries"
   ]
  },
  {
   "cell_type": "markdown",
   "metadata": {},
   "source": [
    "### Restoring missing values in `total_income`"
   ]
  },
  {
   "cell_type": "markdown",
   "metadata": {},
   "source": [
    "[Briefly state which column(s) have values missing that you need to address. Explain how you will fix them.]\n",
    "'total_income' and 'days_employed' have missing values.\n",
    "I suppose that by finding median income and mean days of employment the missing values could be restored.\n",
    "\n",
    "[Start with addressing total income missing values. Create and age category for clients. Create a new column with the age category. This strategy can help with calculating values for the total income.]\n",
    "categories:\n",
    "'teen' < 20\n",
    "20 <='young adault'< 35\n",
    "35 <='adult'< 50\n",
    "50 <='late middle aged'< 65\n",
    "'senior citizen' > 65"
   ]
  },
  {
   "cell_type": "code",
   "execution_count": 39,
   "metadata": {},
   "outputs": [],
   "source": [
    "# Let's write a function that calculates the age category\n",
    "def age_group(age):\n",
    "    if age < 20:\n",
    "        return 'teen'\n",
    "    if age < 35:\n",
    "        return 'young adault'\n",
    "    if age < 50:\n",
    "        return 'adult'\n",
    "    if age < 65:\n",
    "        return 'late middle aged'\n",
    "    return 'senior citizen'\n",
    "    "
   ]
  },
  {
   "cell_type": "code",
   "execution_count": 40,
   "metadata": {},
   "outputs": [
    {
     "name": "stdout",
     "output_type": "stream",
     "text": [
      "teen\n",
      "young adault\n",
      "young adault\n",
      "adult\n",
      "late middle aged\n",
      "senior citizen\n"
     ]
    }
   ],
   "source": [
    "# Test if the function works\n",
    "print(age_group(18))\n",
    "print(age_group(20))\n",
    "print(age_group(32))\n",
    "print(age_group(45))\n",
    "print(age_group(56))\n",
    "print(age_group(67))"
   ]
  },
  {
   "cell_type": "code",
   "execution_count": 41,
   "metadata": {},
   "outputs": [],
   "source": [
    "# Creating new column based on function\n",
    "credit_scoring['age_group'] = credit_scoring['dob_years'].apply(\n",
    "    age_group\n",
    ")\n",
    "#credit_scoring['age_group'].value_counts()"
   ]
  },
  {
   "cell_type": "code",
   "execution_count": 42,
   "metadata": {},
   "outputs": [
    {
     "data": {
      "text/plain": [
       "adult               8178\n",
       "late middle aged    6229\n",
       "young adault        5916\n",
       "senior citizen       893\n",
       "teen                  14\n",
       "Name: age_group, dtype: int64"
      ]
     },
     "execution_count": 42,
     "metadata": {},
     "output_type": "execute_result"
    }
   ],
   "source": [
    "# Checking how values in the new column\n",
    "credit_scoring['age_group'].value_counts()\n"
   ]
  },
  {
   "cell_type": "markdown",
   "metadata": {},
   "source": [
    "[Think about the factors on which income usually depends. Eventually, you will want to find out whether you should use mean or median values for replacing missing values. To make this decision you will probably want to look at the distribution of the factors you identified as impacting one's income.]"
   ]
  },
  {
   "cell_type": "markdown",
   "metadata": {},
   "source": [
    "[Create a table that only has data without missing values. This data will be used to restore the missing values.]"
   ]
  },
  {
   "cell_type": "code",
   "execution_count": 43,
   "metadata": {},
   "outputs": [
    {
     "data": {
      "text/html": [
       "<div>\n",
       "<style scoped>\n",
       "    .dataframe tbody tr th:only-of-type {\n",
       "        vertical-align: middle;\n",
       "    }\n",
       "\n",
       "    .dataframe tbody tr th {\n",
       "        vertical-align: top;\n",
       "    }\n",
       "\n",
       "    .dataframe thead th {\n",
       "        text-align: right;\n",
       "    }\n",
       "</style>\n",
       "<table border=\"1\" class=\"dataframe\">\n",
       "  <thead>\n",
       "    <tr style=\"text-align: right;\">\n",
       "      <th></th>\n",
       "      <th>children</th>\n",
       "      <th>days_employed</th>\n",
       "      <th>dob_years</th>\n",
       "      <th>education</th>\n",
       "      <th>education_id</th>\n",
       "      <th>family_status</th>\n",
       "      <th>family_status_id</th>\n",
       "      <th>gender</th>\n",
       "      <th>income_type</th>\n",
       "      <th>debt</th>\n",
       "      <th>total_income</th>\n",
       "      <th>purpose</th>\n",
       "      <th>age_group</th>\n",
       "    </tr>\n",
       "  </thead>\n",
       "  <tbody>\n",
       "    <tr>\n",
       "      <td>0</td>\n",
       "      <td>1</td>\n",
       "      <td>351.569709</td>\n",
       "      <td>42</td>\n",
       "      <td>bachelor's degree</td>\n",
       "      <td>0</td>\n",
       "      <td>married</td>\n",
       "      <td>0</td>\n",
       "      <td>F</td>\n",
       "      <td>employee</td>\n",
       "      <td>0</td>\n",
       "      <td>40620.102</td>\n",
       "      <td>purchase of the house</td>\n",
       "      <td>adult</td>\n",
       "    </tr>\n",
       "    <tr>\n",
       "      <td>1</td>\n",
       "      <td>1</td>\n",
       "      <td>167.700156</td>\n",
       "      <td>36</td>\n",
       "      <td>secondary education</td>\n",
       "      <td>1</td>\n",
       "      <td>married</td>\n",
       "      <td>0</td>\n",
       "      <td>F</td>\n",
       "      <td>employee</td>\n",
       "      <td>0</td>\n",
       "      <td>17932.802</td>\n",
       "      <td>car purchase</td>\n",
       "      <td>adult</td>\n",
       "    </tr>\n",
       "    <tr>\n",
       "      <td>2</td>\n",
       "      <td>0</td>\n",
       "      <td>234.309275</td>\n",
       "      <td>33</td>\n",
       "      <td>secondary education</td>\n",
       "      <td>1</td>\n",
       "      <td>married</td>\n",
       "      <td>0</td>\n",
       "      <td>M</td>\n",
       "      <td>employee</td>\n",
       "      <td>0</td>\n",
       "      <td>23341.752</td>\n",
       "      <td>purchase of the house</td>\n",
       "      <td>young adault</td>\n",
       "    </tr>\n",
       "    <tr>\n",
       "      <td>3</td>\n",
       "      <td>3</td>\n",
       "      <td>171.864467</td>\n",
       "      <td>32</td>\n",
       "      <td>secondary education</td>\n",
       "      <td>1</td>\n",
       "      <td>married</td>\n",
       "      <td>0</td>\n",
       "      <td>M</td>\n",
       "      <td>employee</td>\n",
       "      <td>0</td>\n",
       "      <td>42820.568</td>\n",
       "      <td>supplementary education</td>\n",
       "      <td>young adault</td>\n",
       "    </tr>\n",
       "    <tr>\n",
       "      <td>4</td>\n",
       "      <td>0</td>\n",
       "      <td>14177.753002</td>\n",
       "      <td>53</td>\n",
       "      <td>secondary education</td>\n",
       "      <td>1</td>\n",
       "      <td>civil partnership</td>\n",
       "      <td>1</td>\n",
       "      <td>F</td>\n",
       "      <td>retiree</td>\n",
       "      <td>0</td>\n",
       "      <td>25378.572</td>\n",
       "      <td>to have a wedding</td>\n",
       "      <td>late middle aged</td>\n",
       "    </tr>\n",
       "    <tr>\n",
       "      <td>5</td>\n",
       "      <td>0</td>\n",
       "      <td>38.591076</td>\n",
       "      <td>27</td>\n",
       "      <td>bachelor's degree</td>\n",
       "      <td>0</td>\n",
       "      <td>civil partnership</td>\n",
       "      <td>1</td>\n",
       "      <td>M</td>\n",
       "      <td>business</td>\n",
       "      <td>0</td>\n",
       "      <td>40922.170</td>\n",
       "      <td>purchase of the house</td>\n",
       "      <td>young adault</td>\n",
       "    </tr>\n",
       "    <tr>\n",
       "      <td>6</td>\n",
       "      <td>0</td>\n",
       "      <td>119.966752</td>\n",
       "      <td>43</td>\n",
       "      <td>bachelor's degree</td>\n",
       "      <td>0</td>\n",
       "      <td>married</td>\n",
       "      <td>0</td>\n",
       "      <td>F</td>\n",
       "      <td>business</td>\n",
       "      <td>0</td>\n",
       "      <td>38484.156</td>\n",
       "      <td>housing transactions</td>\n",
       "      <td>adult</td>\n",
       "    </tr>\n",
       "    <tr>\n",
       "      <td>7</td>\n",
       "      <td>0</td>\n",
       "      <td>6.365815</td>\n",
       "      <td>50</td>\n",
       "      <td>secondary education</td>\n",
       "      <td>1</td>\n",
       "      <td>married</td>\n",
       "      <td>0</td>\n",
       "      <td>M</td>\n",
       "      <td>employee</td>\n",
       "      <td>0</td>\n",
       "      <td>21731.829</td>\n",
       "      <td>education</td>\n",
       "      <td>late middle aged</td>\n",
       "    </tr>\n",
       "    <tr>\n",
       "      <td>8</td>\n",
       "      <td>2</td>\n",
       "      <td>288.744387</td>\n",
       "      <td>35</td>\n",
       "      <td>bachelor's degree</td>\n",
       "      <td>0</td>\n",
       "      <td>civil partnership</td>\n",
       "      <td>1</td>\n",
       "      <td>F</td>\n",
       "      <td>employee</td>\n",
       "      <td>0</td>\n",
       "      <td>15337.093</td>\n",
       "      <td>having a wedding</td>\n",
       "      <td>adult</td>\n",
       "    </tr>\n",
       "    <tr>\n",
       "      <td>9</td>\n",
       "      <td>0</td>\n",
       "      <td>91.198185</td>\n",
       "      <td>41</td>\n",
       "      <td>secondary education</td>\n",
       "      <td>1</td>\n",
       "      <td>married</td>\n",
       "      <td>0</td>\n",
       "      <td>M</td>\n",
       "      <td>employee</td>\n",
       "      <td>0</td>\n",
       "      <td>23108.150</td>\n",
       "      <td>purchase of the house for my family</td>\n",
       "      <td>adult</td>\n",
       "    </tr>\n",
       "    <tr>\n",
       "      <td>10</td>\n",
       "      <td>2</td>\n",
       "      <td>173.811819</td>\n",
       "      <td>36</td>\n",
       "      <td>bachelor's degree</td>\n",
       "      <td>0</td>\n",
       "      <td>married</td>\n",
       "      <td>0</td>\n",
       "      <td>M</td>\n",
       "      <td>business</td>\n",
       "      <td>0</td>\n",
       "      <td>18230.959</td>\n",
       "      <td>buy real estate</td>\n",
       "      <td>adult</td>\n",
       "    </tr>\n",
       "    <tr>\n",
       "      <td>11</td>\n",
       "      <td>0</td>\n",
       "      <td>33.029245</td>\n",
       "      <td>40</td>\n",
       "      <td>secondary education</td>\n",
       "      <td>1</td>\n",
       "      <td>married</td>\n",
       "      <td>0</td>\n",
       "      <td>F</td>\n",
       "      <td>employee</td>\n",
       "      <td>0</td>\n",
       "      <td>12331.077</td>\n",
       "      <td>buy commercial real estate</td>\n",
       "      <td>adult</td>\n",
       "    </tr>\n",
       "    <tr>\n",
       "      <td>13</td>\n",
       "      <td>0</td>\n",
       "      <td>76.943414</td>\n",
       "      <td>54</td>\n",
       "      <td>some college</td>\n",
       "      <td>2</td>\n",
       "      <td>married</td>\n",
       "      <td>0</td>\n",
       "      <td>F</td>\n",
       "      <td>employee</td>\n",
       "      <td>0</td>\n",
       "      <td>20873.317</td>\n",
       "      <td>car purchase</td>\n",
       "      <td>late middle aged</td>\n",
       "    </tr>\n",
       "    <tr>\n",
       "      <td>14</td>\n",
       "      <td>0</td>\n",
       "      <td>76.873174</td>\n",
       "      <td>56</td>\n",
       "      <td>bachelor's degree</td>\n",
       "      <td>0</td>\n",
       "      <td>civil partnership</td>\n",
       "      <td>1</td>\n",
       "      <td>F</td>\n",
       "      <td>business</td>\n",
       "      <td>1</td>\n",
       "      <td>26420.466</td>\n",
       "      <td>buy residential real estate</td>\n",
       "      <td>late middle aged</td>\n",
       "    </tr>\n",
       "    <tr>\n",
       "      <td>15</td>\n",
       "      <td>1</td>\n",
       "      <td>40.515184</td>\n",
       "      <td>26</td>\n",
       "      <td>secondary education</td>\n",
       "      <td>1</td>\n",
       "      <td>married</td>\n",
       "      <td>0</td>\n",
       "      <td>F</td>\n",
       "      <td>employee</td>\n",
       "      <td>0</td>\n",
       "      <td>18691.345</td>\n",
       "      <td>construction of own property</td>\n",
       "      <td>young adault</td>\n",
       "    </tr>\n",
       "  </tbody>\n",
       "</table>\n",
       "</div>"
      ],
      "text/plain": [
       "    children  days_employed  dob_years            education  education_id  \\\n",
       "0          1     351.569709         42    bachelor's degree             0   \n",
       "1          1     167.700156         36  secondary education             1   \n",
       "2          0     234.309275         33  secondary education             1   \n",
       "3          3     171.864467         32  secondary education             1   \n",
       "4          0   14177.753002         53  secondary education             1   \n",
       "5          0      38.591076         27    bachelor's degree             0   \n",
       "6          0     119.966752         43    bachelor's degree             0   \n",
       "7          0       6.365815         50  secondary education             1   \n",
       "8          2     288.744387         35    bachelor's degree             0   \n",
       "9          0      91.198185         41  secondary education             1   \n",
       "10         2     173.811819         36    bachelor's degree             0   \n",
       "11         0      33.029245         40  secondary education             1   \n",
       "13         0      76.943414         54         some college             2   \n",
       "14         0      76.873174         56    bachelor's degree             0   \n",
       "15         1      40.515184         26  secondary education             1   \n",
       "\n",
       "        family_status  family_status_id gender income_type  debt  \\\n",
       "0             married                 0      F    employee     0   \n",
       "1             married                 0      F    employee     0   \n",
       "2             married                 0      M    employee     0   \n",
       "3             married                 0      M    employee     0   \n",
       "4   civil partnership                 1      F     retiree     0   \n",
       "5   civil partnership                 1      M    business     0   \n",
       "6             married                 0      F    business     0   \n",
       "7             married                 0      M    employee     0   \n",
       "8   civil partnership                 1      F    employee     0   \n",
       "9             married                 0      M    employee     0   \n",
       "10            married                 0      M    business     0   \n",
       "11            married                 0      F    employee     0   \n",
       "13            married                 0      F    employee     0   \n",
       "14  civil partnership                 1      F    business     1   \n",
       "15            married                 0      F    employee     0   \n",
       "\n",
       "    total_income                              purpose         age_group  \n",
       "0      40620.102                purchase of the house             adult  \n",
       "1      17932.802                         car purchase             adult  \n",
       "2      23341.752                purchase of the house      young adault  \n",
       "3      42820.568              supplementary education      young adault  \n",
       "4      25378.572                    to have a wedding  late middle aged  \n",
       "5      40922.170                purchase of the house      young adault  \n",
       "6      38484.156                 housing transactions             adult  \n",
       "7      21731.829                            education  late middle aged  \n",
       "8      15337.093                     having a wedding             adult  \n",
       "9      23108.150  purchase of the house for my family             adult  \n",
       "10     18230.959                      buy real estate             adult  \n",
       "11     12331.077           buy commercial real estate             adult  \n",
       "13     20873.317                         car purchase  late middle aged  \n",
       "14     26420.466          buy residential real estate  late middle aged  \n",
       "15     18691.345         construction of own property      young adault  "
      ]
     },
     "execution_count": 43,
     "metadata": {},
     "output_type": "execute_result"
    }
   ],
   "source": [
    "# Create a table without missing values and print a few of its rows to make sure it looks fine\n",
    "credit_scoring_full = credit_scoring.dropna()\n",
    "credit_scoring_full.head(15)"
   ]
  },
  {
   "cell_type": "code",
   "execution_count": 44,
   "metadata": {},
   "outputs": [
    {
     "name": "stdout",
     "output_type": "stream",
     "text": [
      "education\n",
      "bachelor's degree      33197.258790\n",
      "graduate degree        27960.024667\n",
      "primary education      21144.882211\n",
      "secondary education    24594.390815\n",
      "some college           29028.844227\n",
      "Name: total_income, dtype: float64 income_type\n",
      "business                       32434.888945\n",
      "civil servant                  27336.442546\n",
      "employee                       25822.872585\n",
      "paternity / maternity leave     8612.661000\n",
      "retiree                        21950.722935\n",
      "student                        15712.260000\n",
      "unemployed                     21014.360500\n",
      "Name: total_income, dtype: float64 family_status\n",
      "civil partnership    26705.416856\n",
      "divorced             27245.606570\n",
      "married              27039.070983\n",
      "unmarried            26983.707136\n",
      "widow / widower      22998.392333\n",
      "Name: total_income, dtype: float64 age_group\n",
      "adult               28593.480109\n",
      "late middle aged    25307.312494\n",
      "senior citizen      21545.431431\n",
      "teen                16993.942462\n",
      "young adault        26704.686517\n",
      "Name: total_income, dtype: float64\n"
     ]
    }
   ],
   "source": [
    "# Look at the mean values for income based on your identified factors\n",
    "print(credit_scoring_full.groupby('education')['total_income'].mean(),\n",
    "credit_scoring_full.groupby('income_type')['total_income'].mean(),\n",
    "credit_scoring_full.groupby('family_status')['total_income'].mean(),\n",
    "credit_scoring_full.groupby('age_group')['total_income'].mean(),\n",
    "     )"
   ]
  },
  {
   "cell_type": "code",
   "execution_count": 45,
   "metadata": {
    "scrolled": true
   },
   "outputs": [
    {
     "name": "stdout",
     "output_type": "stream",
     "text": [
      "education\n",
      "bachelor's degree      28086.5425\n",
      "graduate degree        25161.5835\n",
      "primary education      18741.9760\n",
      "secondary education    21832.2410\n",
      "some college           25618.4640\n",
      "Name: total_income, dtype: float64 income_type\n",
      "business                       27598.5735\n",
      "civil servant                  24076.1150\n",
      "employee                       22815.1035\n",
      "paternity / maternity leave     8612.6610\n",
      "retiree                        18959.6260\n",
      "student                        15712.2600\n",
      "unemployed                     21014.3605\n",
      "Name: total_income, dtype: float64 family_status\n",
      "civil partnership    23195.6360\n",
      "divorced             23687.2740\n",
      "married              23369.8045\n",
      "unmarried            23176.8360\n",
      "widow / widower      20518.7285\n",
      "Name: total_income, dtype: float64 age_group\n",
      "adult               24817.2400\n",
      "late middle aged    21767.0355\n",
      "senior citizen      18425.3060\n",
      "teen                14934.9010\n",
      "young adault        23432.8590\n",
      "Name: total_income, dtype: float64\n"
     ]
    }
   ],
   "source": [
    "# Look at the median values for income based on your identified factors\n",
    "print(credit_scoring_full.groupby('education')['total_income'].median(),\n",
    "credit_scoring_full.groupby('income_type')['total_income'].median(),\n",
    "credit_scoring_full.groupby('family_status')['total_income'].median(),\n",
    "credit_scoring_full.groupby('age_group')['total_income'].median(),\n",
    "     )"
   ]
  },
  {
   "cell_type": "markdown",
   "metadata": {},
   "source": [
    "[Repeat such comparisons for multiple factors. Make sure you consider different aspects and explain your thinking process.]\n",
    "\n",
    "The 4 factors I think have influance on total income are 'education', 'income_type', 'family_status' and 'age_group'. As can be seen from the outputs above 'education' and 'income_type', have far more infuance on the disribution of data. So one of them will be the main factor for the calculation of new values."
   ]
  },
  {
   "cell_type": "markdown",
   "metadata": {},
   "source": [
    "[Make a decision on what characteristics define income most and whether you will use a median or a mean. Explain why you made this decision]\n",
    "The destribution of values by mean() is grater then by median(), and the distrebution by 'income_type' is grater then by 'education'. So I guess filling the missing values by these factors is optimal. "
   ]
  },
  {
   "cell_type": "code",
   "execution_count": 46,
   "metadata": {},
   "outputs": [],
   "source": [
    "#  Write a function that we will use for filling in missing values\n",
    "def fill_income(row):\n",
    "    income = row['total_income']\n",
    "    job = row['income_type']\n",
    "    if  pd.isna(income):\n",
    "        if job == 'business':\n",
    "            return 32397.165\n",
    "        if job == 'civil servant':\n",
    "            return 27343.730\n",
    "        if job == 'employee':\n",
    "            return 25820.841683\n",
    "        if job == 'paternity / maternity leave':\n",
    "            return 8612.661000            \n",
    "        if job == 'retiree':\n",
    "            return 21940.394503\n",
    "        if job == 'student':\n",
    "            return 15712.260000\n",
    "        if job == 'unemployed':\n",
    "            return 21014.360500\n",
    "    else:\n",
    "        return row['total_income']"
   ]
  },
  {
   "cell_type": "markdown",
   "metadata": {},
   "source": [
    "<div class=\"alert alert-block alert-warning\">\n",
    "<b>Reviewer's comment</b> <a class=\"tocSkip\"></a>\n",
    "Using absolute values in a function and in general in code is a bad idea. Since the Data Analyst writes code for a specific task, but it can be periodic, which means that the data set will change every time. And in a constant flow of tasks, it will be impossible to track where in the code there is an assignment of absolute values, so always use variables and methods to calculate this or that indicator.\n",
    "</div>"
   ]
  },
  {
   "cell_type": "code",
   "execution_count": 47,
   "metadata": {},
   "outputs": [
    {
     "data": {
      "text/plain": [
       "0     40620.102000\n",
       "1     17932.802000\n",
       "2     23341.752000\n",
       "3     42820.568000\n",
       "4     25378.572000\n",
       "5     40922.170000\n",
       "6     38484.156000\n",
       "7     21731.829000\n",
       "8     15337.093000\n",
       "9     23108.150000\n",
       "10    18230.959000\n",
       "11    12331.077000\n",
       "12    21940.394503\n",
       "13    20873.317000\n",
       "14    26420.466000\n",
       "15    18691.345000\n",
       "16    46272.433000\n",
       "17    14465.694000\n",
       "18     9091.804000\n",
       "19    38852.977000\n",
       "dtype: float64"
      ]
     },
     "execution_count": 47,
     "metadata": {},
     "output_type": "execute_result"
    }
   ],
   "source": [
    "# Check if it works\n",
    "credit_scoring_inc = credit_scoring.apply(\n",
    "    fill_income, axis=1\n",
    ")\n",
    "#credit_scoring.head(20)\n",
    "credit_scoring_inc.head(20)\n",
    "#credit_scoring.head(20)\n",
    "#credit_scoring.total_income.isna()"
   ]
  },
  {
   "cell_type": "code",
   "execution_count": 48,
   "metadata": {},
   "outputs": [
    {
     "data": {
      "text/plain": [
       "0     40620.102000\n",
       "1     17932.802000\n",
       "2     23341.752000\n",
       "3     42820.568000\n",
       "4     25378.572000\n",
       "5     40922.170000\n",
       "6     38484.156000\n",
       "7     21731.829000\n",
       "8     15337.093000\n",
       "9     23108.150000\n",
       "10    18230.959000\n",
       "11    12331.077000\n",
       "12    21940.394503\n",
       "13    20873.317000\n",
       "14    26420.466000\n",
       "15    18691.345000\n",
       "16    46272.433000\n",
       "17    14465.694000\n",
       "18     9091.804000\n",
       "19    38852.977000\n",
       "20    33528.423000\n",
       "21    21089.953000\n",
       "22    23948.983000\n",
       "23    20522.515000\n",
       "24    46487.558000\n",
       "25     8818.041000\n",
       "26    27343.730000\n",
       "27    49415.837000\n",
       "28    30058.118000\n",
       "29    21940.394503\n",
       "Name: total_income, dtype: float64"
      ]
     },
     "execution_count": 48,
     "metadata": {},
     "output_type": "execute_result"
    }
   ],
   "source": [
    "# Apply it to every row\n",
    "credit_scoring['total_income'] = credit_scoring_inc\n",
    "credit_scoring['total_income'].head(30)"
   ]
  },
  {
   "cell_type": "code",
   "execution_count": 49,
   "metadata": {},
   "outputs": [
    {
     "data": {
      "text/plain": [
       "0"
      ]
     },
     "execution_count": 49,
     "metadata": {},
     "output_type": "execute_result"
    }
   ],
   "source": [
    "# Check if we got any errors\n",
    "credit_scoring['total_income'].isna().sum()"
   ]
  },
  {
   "cell_type": "markdown",
   "metadata": {},
   "source": [
    "[If you've came across errors in preparing the values for missing data, it probably means there's something special about the data for the category. Give it some thought - you may want to fix some things manually, if there's enough data to find medians/means.]\n",
    "no erors as far as I can notice."
   ]
  },
  {
   "cell_type": "code",
   "execution_count": 50,
   "metadata": {},
   "outputs": [],
   "source": [
    "# Replacing missing values if there are any errors\n"
   ]
  },
  {
   "cell_type": "markdown",
   "metadata": {},
   "source": [
    "[When you think you've finished with `total_income`, check that the total number of values in this column matches the number of values in other ones.]"
   ]
  },
  {
   "cell_type": "code",
   "execution_count": 51,
   "metadata": {},
   "outputs": [
    {
     "name": "stdout",
     "output_type": "stream",
     "text": [
      "<class 'pandas.core.frame.DataFrame'>\n",
      "RangeIndex: 21230 entries, 0 to 21229\n",
      "Data columns (total 13 columns):\n",
      "children            21230 non-null int64\n",
      "days_employed       19149 non-null float64\n",
      "dob_years           21230 non-null int64\n",
      "education           21230 non-null object\n",
      "education_id        21230 non-null int64\n",
      "family_status       21230 non-null object\n",
      "family_status_id    21230 non-null int64\n",
      "gender              21230 non-null object\n",
      "income_type         21230 non-null object\n",
      "debt                21230 non-null int64\n",
      "total_income        21230 non-null float64\n",
      "purpose             21230 non-null object\n",
      "age_group           21230 non-null object\n",
      "dtypes: float64(2), int64(5), object(6)\n",
      "memory usage: 2.1+ MB\n"
     ]
    }
   ],
   "source": [
    "# Checking the number of entries in the columns\n",
    "\n",
    "credit_scoring.info()"
   ]
  },
  {
   "cell_type": "markdown",
   "metadata": {},
   "source": [
    "<div class=\"alert alert-block alert-success\">\n",
    "<b>Reviewer's comment</b> <a class=\"tocSkip\"></a>\n",
    "Well done! Good job. The gaps in the \"total_income\" column have been removed.\n",
    "</div>"
   ]
  },
  {
   "cell_type": "markdown",
   "metadata": {},
   "source": [
    "###  Restoring values in `days_employed`"
   ]
  },
  {
   "cell_type": "markdown",
   "metadata": {},
   "source": [
    "[Think about the parameters that may help you restore the missing values in this column. Eventually, you will want to find out whether you should use mean or median values for replacing missing values. You will probably conduct a research similar to the one you've done when restoring data in a previous column.]"
   ]
  },
  {
   "cell_type": "code",
   "execution_count": 52,
   "metadata": {
    "pycharm": {
     "name": "#%%\n"
    }
   },
   "outputs": [
    {
     "name": "stdout",
     "output_type": "stream",
     "text": [
      "education\n",
      "bachelor's degree      1768.815729\n",
      "graduate degree        5055.151259\n",
      "primary education      5430.851098\n",
      "secondary education    3187.858027\n",
      "some college            867.635088\n",
      "Name: days_employed, dtype: float64 income_type\n",
      "business                          88.298338\n",
      "civil servant                    141.338303\n",
      "employee                          96.905870\n",
      "paternity / maternity leave      137.364998\n",
      "retiree                        15209.895255\n",
      "student                           24.114648\n",
      "unemployed                     15267.235531\n",
      "Name: days_employed, dtype: float64 family_status\n",
      "civil partnership    2450.947731\n",
      "divorced             2874.352251\n",
      "married              2646.210865\n",
      "unmarried            1944.414364\n",
      "widow / widower      8537.388538\n",
      "Name: days_employed, dtype: float64 age_group\n",
      "adult                 409.383421\n",
      "late middle aged     7018.118378\n",
      "senior citizen      13082.455952\n",
      "teen                   26.403254\n",
      "young adault          103.743743\n",
      "Name: days_employed, dtype: float64\n"
     ]
    }
   ],
   "source": [
    "# Distribution of `days_employed` medians based on your identified parameters\n",
    "\n",
    "print(credit_scoring_full.groupby('education')['days_employed'].mean(),\n",
    "credit_scoring_full.groupby('income_type')['days_employed'].mean(),\n",
    "credit_scoring_full.groupby('family_status')['days_employed'].mean(),\n",
    "credit_scoring_full.groupby('age_group')['days_employed'].mean(),\n",
    "     )\n"
   ]
  },
  {
   "cell_type": "code",
   "execution_count": 53,
   "metadata": {
    "scrolled": false
   },
   "outputs": [
    {
     "name": "stdout",
     "output_type": "stream",
     "text": [
      "education\n",
      "bachelor's degree       79.023720\n",
      "graduate degree        235.835710\n",
      "primary education      126.830567\n",
      "secondary education     99.749102\n",
      "some college            50.384599\n",
      "Name: days_employed, dtype: float64 income_type\n",
      "business                          64.831141\n",
      "civil servant                    111.370997\n",
      "employee                          65.574628\n",
      "paternity / maternity leave      137.364998\n",
      "retiree                        15219.545851\n",
      "student                           24.114648\n",
      "unemployed                     15267.235531\n",
      "Name: days_employed, dtype: float64 family_status\n",
      "civil partnership       81.107055\n",
      "divorced                99.934334\n",
      "married                 96.187176\n",
      "unmarried               60.906619\n",
      "widow / widower      14037.925329\n",
      "Name: days_employed, dtype: float64 age_group\n",
      "adult                  82.755007\n",
      "late middle aged      384.348805\n",
      "senior citizen      15020.871042\n",
      "teen                   30.187192\n",
      "young adault           49.244340\n",
      "Name: days_employed, dtype: float64\n"
     ]
    }
   ],
   "source": [
    "# Distribution of `days_employed` means based on your identified parameters\n",
    "\n",
    "print(credit_scoring_full.groupby('education')['days_employed'].median(),\n",
    "credit_scoring_full.groupby('income_type')['days_employed'].median(),\n",
    "credit_scoring_full.groupby('family_status')['days_employed'].median(),\n",
    "credit_scoring_full.groupby('age_group')['days_employed'].median(),\n",
    "     )"
   ]
  },
  {
   "cell_type": "markdown",
   "metadata": {},
   "source": [
    "[Decide what you will use: means or medians. Explain why.]\n",
    "means by age_group groping shows a high spread, but not with giant diferances like the data based on income_type means (which has max values of 15000, in two minor gruopings(retierie and unemployed)) which seams a wee bit unrelible.     "
   ]
  },
  {
   "cell_type": "code",
   "execution_count": 54,
   "metadata": {},
   "outputs": [],
   "source": [
    "# Let's write a function that calculates means or medians (depending on your decision) based on your identified parameter\n",
    "credit_scoring_days = credit_scoring.groupby('age_group')['days_employed'].transform(lambda grp: grp.fillna(np.mean(grp)) )\n",
    "    \n",
    "    \n",
    "    \n",
    "    "
   ]
  },
  {
   "cell_type": "code",
   "execution_count": 55,
   "metadata": {},
   "outputs": [
    {
     "data": {
      "text/plain": [
       "0       351.569709\n",
       "1       167.700156\n",
       "2       234.309275\n",
       "3       171.864467\n",
       "4     14177.753002\n",
       "5        38.591076\n",
       "6       119.966752\n",
       "7         6.365815\n",
       "8       288.744387\n",
       "9        91.198185\n",
       "10      173.811819\n",
       "11       33.029245\n",
       "12    13082.455952\n",
       "13       76.943414\n",
       "14       76.873174\n",
       "15       40.515184\n",
       "16       71.663926\n",
       "17       98.749988\n",
       "18    16678.380705\n",
       "19      418.284106\n",
       "Name: days_employed, dtype: float64"
      ]
     },
     "execution_count": 55,
     "metadata": {},
     "output_type": "execute_result"
    }
   ],
   "source": [
    "# Check that the function works\n",
    "\n",
    "credit_scoring_days.head(20)"
   ]
  },
  {
   "cell_type": "code",
   "execution_count": 56,
   "metadata": {},
   "outputs": [],
   "source": [
    "# Apply function to the income_type\n",
    "credit_scoring_days = credit_scoring.groupby('income_type')['days_employed'].transform(lambda grp: grp.fillna(np.mean(grp)) )\n"
   ]
  },
  {
   "cell_type": "code",
   "execution_count": 57,
   "metadata": {},
   "outputs": [
    {
     "data": {
      "text/plain": [
       "0       351.569709\n",
       "1       167.700156\n",
       "2       234.309275\n",
       "3       171.864467\n",
       "4     14177.753002\n",
       "5        38.591076\n",
       "6       119.966752\n",
       "7         6.365815\n",
       "8       288.744387\n",
       "9        91.198185\n",
       "10      173.811819\n",
       "11       33.029245\n",
       "12    15209.895255\n",
       "13       76.943414\n",
       "14       76.873174\n",
       "15       40.515184\n",
       "16       71.663926\n",
       "17       98.749988\n",
       "18    16678.380705\n",
       "19      418.284106\n",
       "Name: days_employed, dtype: float64"
      ]
     },
     "execution_count": 57,
     "metadata": {},
     "output_type": "execute_result"
    }
   ],
   "source": [
    "# Check if function worked\n",
    "credit_scoring['days_employed'] = credit_scoring_days\n",
    "credit_scoring_days.head(20)"
   ]
  },
  {
   "cell_type": "code",
   "execution_count": 58,
   "metadata": {},
   "outputs": [
    {
     "data": {
      "text/html": [
       "<div>\n",
       "<style scoped>\n",
       "    .dataframe tbody tr th:only-of-type {\n",
       "        vertical-align: middle;\n",
       "    }\n",
       "\n",
       "    .dataframe tbody tr th {\n",
       "        vertical-align: top;\n",
       "    }\n",
       "\n",
       "    .dataframe thead th {\n",
       "        text-align: right;\n",
       "    }\n",
       "</style>\n",
       "<table border=\"1\" class=\"dataframe\">\n",
       "  <thead>\n",
       "    <tr style=\"text-align: right;\">\n",
       "      <th></th>\n",
       "      <th>children</th>\n",
       "      <th>days_employed</th>\n",
       "      <th>dob_years</th>\n",
       "      <th>education</th>\n",
       "      <th>education_id</th>\n",
       "      <th>family_status</th>\n",
       "      <th>family_status_id</th>\n",
       "      <th>gender</th>\n",
       "      <th>income_type</th>\n",
       "      <th>debt</th>\n",
       "      <th>total_income</th>\n",
       "      <th>purpose</th>\n",
       "      <th>age_group</th>\n",
       "    </tr>\n",
       "  </thead>\n",
       "  <tbody>\n",
       "    <tr>\n",
       "      <td>0</td>\n",
       "      <td>1</td>\n",
       "      <td>351.569709</td>\n",
       "      <td>42</td>\n",
       "      <td>bachelor's degree</td>\n",
       "      <td>0</td>\n",
       "      <td>married</td>\n",
       "      <td>0</td>\n",
       "      <td>F</td>\n",
       "      <td>employee</td>\n",
       "      <td>0</td>\n",
       "      <td>40620.102000</td>\n",
       "      <td>purchase of the house</td>\n",
       "      <td>adult</td>\n",
       "    </tr>\n",
       "    <tr>\n",
       "      <td>1</td>\n",
       "      <td>1</td>\n",
       "      <td>167.700156</td>\n",
       "      <td>36</td>\n",
       "      <td>secondary education</td>\n",
       "      <td>1</td>\n",
       "      <td>married</td>\n",
       "      <td>0</td>\n",
       "      <td>F</td>\n",
       "      <td>employee</td>\n",
       "      <td>0</td>\n",
       "      <td>17932.802000</td>\n",
       "      <td>car purchase</td>\n",
       "      <td>adult</td>\n",
       "    </tr>\n",
       "    <tr>\n",
       "      <td>2</td>\n",
       "      <td>0</td>\n",
       "      <td>234.309275</td>\n",
       "      <td>33</td>\n",
       "      <td>secondary education</td>\n",
       "      <td>1</td>\n",
       "      <td>married</td>\n",
       "      <td>0</td>\n",
       "      <td>M</td>\n",
       "      <td>employee</td>\n",
       "      <td>0</td>\n",
       "      <td>23341.752000</td>\n",
       "      <td>purchase of the house</td>\n",
       "      <td>young adault</td>\n",
       "    </tr>\n",
       "    <tr>\n",
       "      <td>3</td>\n",
       "      <td>3</td>\n",
       "      <td>171.864467</td>\n",
       "      <td>32</td>\n",
       "      <td>secondary education</td>\n",
       "      <td>1</td>\n",
       "      <td>married</td>\n",
       "      <td>0</td>\n",
       "      <td>M</td>\n",
       "      <td>employee</td>\n",
       "      <td>0</td>\n",
       "      <td>42820.568000</td>\n",
       "      <td>supplementary education</td>\n",
       "      <td>young adault</td>\n",
       "    </tr>\n",
       "    <tr>\n",
       "      <td>4</td>\n",
       "      <td>0</td>\n",
       "      <td>14177.753002</td>\n",
       "      <td>53</td>\n",
       "      <td>secondary education</td>\n",
       "      <td>1</td>\n",
       "      <td>civil partnership</td>\n",
       "      <td>1</td>\n",
       "      <td>F</td>\n",
       "      <td>retiree</td>\n",
       "      <td>0</td>\n",
       "      <td>25378.572000</td>\n",
       "      <td>to have a wedding</td>\n",
       "      <td>late middle aged</td>\n",
       "    </tr>\n",
       "    <tr>\n",
       "      <td>5</td>\n",
       "      <td>0</td>\n",
       "      <td>38.591076</td>\n",
       "      <td>27</td>\n",
       "      <td>bachelor's degree</td>\n",
       "      <td>0</td>\n",
       "      <td>civil partnership</td>\n",
       "      <td>1</td>\n",
       "      <td>M</td>\n",
       "      <td>business</td>\n",
       "      <td>0</td>\n",
       "      <td>40922.170000</td>\n",
       "      <td>purchase of the house</td>\n",
       "      <td>young adault</td>\n",
       "    </tr>\n",
       "    <tr>\n",
       "      <td>6</td>\n",
       "      <td>0</td>\n",
       "      <td>119.966752</td>\n",
       "      <td>43</td>\n",
       "      <td>bachelor's degree</td>\n",
       "      <td>0</td>\n",
       "      <td>married</td>\n",
       "      <td>0</td>\n",
       "      <td>F</td>\n",
       "      <td>business</td>\n",
       "      <td>0</td>\n",
       "      <td>38484.156000</td>\n",
       "      <td>housing transactions</td>\n",
       "      <td>adult</td>\n",
       "    </tr>\n",
       "    <tr>\n",
       "      <td>7</td>\n",
       "      <td>0</td>\n",
       "      <td>6.365815</td>\n",
       "      <td>50</td>\n",
       "      <td>secondary education</td>\n",
       "      <td>1</td>\n",
       "      <td>married</td>\n",
       "      <td>0</td>\n",
       "      <td>M</td>\n",
       "      <td>employee</td>\n",
       "      <td>0</td>\n",
       "      <td>21731.829000</td>\n",
       "      <td>education</td>\n",
       "      <td>late middle aged</td>\n",
       "    </tr>\n",
       "    <tr>\n",
       "      <td>8</td>\n",
       "      <td>2</td>\n",
       "      <td>288.744387</td>\n",
       "      <td>35</td>\n",
       "      <td>bachelor's degree</td>\n",
       "      <td>0</td>\n",
       "      <td>civil partnership</td>\n",
       "      <td>1</td>\n",
       "      <td>F</td>\n",
       "      <td>employee</td>\n",
       "      <td>0</td>\n",
       "      <td>15337.093000</td>\n",
       "      <td>having a wedding</td>\n",
       "      <td>adult</td>\n",
       "    </tr>\n",
       "    <tr>\n",
       "      <td>9</td>\n",
       "      <td>0</td>\n",
       "      <td>91.198185</td>\n",
       "      <td>41</td>\n",
       "      <td>secondary education</td>\n",
       "      <td>1</td>\n",
       "      <td>married</td>\n",
       "      <td>0</td>\n",
       "      <td>M</td>\n",
       "      <td>employee</td>\n",
       "      <td>0</td>\n",
       "      <td>23108.150000</td>\n",
       "      <td>purchase of the house for my family</td>\n",
       "      <td>adult</td>\n",
       "    </tr>\n",
       "    <tr>\n",
       "      <td>10</td>\n",
       "      <td>2</td>\n",
       "      <td>173.811819</td>\n",
       "      <td>36</td>\n",
       "      <td>bachelor's degree</td>\n",
       "      <td>0</td>\n",
       "      <td>married</td>\n",
       "      <td>0</td>\n",
       "      <td>M</td>\n",
       "      <td>business</td>\n",
       "      <td>0</td>\n",
       "      <td>18230.959000</td>\n",
       "      <td>buy real estate</td>\n",
       "      <td>adult</td>\n",
       "    </tr>\n",
       "    <tr>\n",
       "      <td>11</td>\n",
       "      <td>0</td>\n",
       "      <td>33.029245</td>\n",
       "      <td>40</td>\n",
       "      <td>secondary education</td>\n",
       "      <td>1</td>\n",
       "      <td>married</td>\n",
       "      <td>0</td>\n",
       "      <td>F</td>\n",
       "      <td>employee</td>\n",
       "      <td>0</td>\n",
       "      <td>12331.077000</td>\n",
       "      <td>buy commercial real estate</td>\n",
       "      <td>adult</td>\n",
       "    </tr>\n",
       "    <tr>\n",
       "      <td>12</td>\n",
       "      <td>0</td>\n",
       "      <td>15209.895255</td>\n",
       "      <td>65</td>\n",
       "      <td>secondary education</td>\n",
       "      <td>1</td>\n",
       "      <td>civil partnership</td>\n",
       "      <td>1</td>\n",
       "      <td>M</td>\n",
       "      <td>retiree</td>\n",
       "      <td>0</td>\n",
       "      <td>21940.394503</td>\n",
       "      <td>to have a wedding</td>\n",
       "      <td>senior citizen</td>\n",
       "    </tr>\n",
       "    <tr>\n",
       "      <td>13</td>\n",
       "      <td>0</td>\n",
       "      <td>76.943414</td>\n",
       "      <td>54</td>\n",
       "      <td>some college</td>\n",
       "      <td>2</td>\n",
       "      <td>married</td>\n",
       "      <td>0</td>\n",
       "      <td>F</td>\n",
       "      <td>employee</td>\n",
       "      <td>0</td>\n",
       "      <td>20873.317000</td>\n",
       "      <td>car purchase</td>\n",
       "      <td>late middle aged</td>\n",
       "    </tr>\n",
       "    <tr>\n",
       "      <td>14</td>\n",
       "      <td>0</td>\n",
       "      <td>76.873174</td>\n",
       "      <td>56</td>\n",
       "      <td>bachelor's degree</td>\n",
       "      <td>0</td>\n",
       "      <td>civil partnership</td>\n",
       "      <td>1</td>\n",
       "      <td>F</td>\n",
       "      <td>business</td>\n",
       "      <td>1</td>\n",
       "      <td>26420.466000</td>\n",
       "      <td>buy residential real estate</td>\n",
       "      <td>late middle aged</td>\n",
       "    </tr>\n",
       "  </tbody>\n",
       "</table>\n",
       "</div>"
      ],
      "text/plain": [
       "    children  days_employed  dob_years            education  education_id  \\\n",
       "0          1     351.569709         42    bachelor's degree             0   \n",
       "1          1     167.700156         36  secondary education             1   \n",
       "2          0     234.309275         33  secondary education             1   \n",
       "3          3     171.864467         32  secondary education             1   \n",
       "4          0   14177.753002         53  secondary education             1   \n",
       "5          0      38.591076         27    bachelor's degree             0   \n",
       "6          0     119.966752         43    bachelor's degree             0   \n",
       "7          0       6.365815         50  secondary education             1   \n",
       "8          2     288.744387         35    bachelor's degree             0   \n",
       "9          0      91.198185         41  secondary education             1   \n",
       "10         2     173.811819         36    bachelor's degree             0   \n",
       "11         0      33.029245         40  secondary education             1   \n",
       "12         0   15209.895255         65  secondary education             1   \n",
       "13         0      76.943414         54         some college             2   \n",
       "14         0      76.873174         56    bachelor's degree             0   \n",
       "\n",
       "        family_status  family_status_id gender income_type  debt  \\\n",
       "0             married                 0      F    employee     0   \n",
       "1             married                 0      F    employee     0   \n",
       "2             married                 0      M    employee     0   \n",
       "3             married                 0      M    employee     0   \n",
       "4   civil partnership                 1      F     retiree     0   \n",
       "5   civil partnership                 1      M    business     0   \n",
       "6             married                 0      F    business     0   \n",
       "7             married                 0      M    employee     0   \n",
       "8   civil partnership                 1      F    employee     0   \n",
       "9             married                 0      M    employee     0   \n",
       "10            married                 0      M    business     0   \n",
       "11            married                 0      F    employee     0   \n",
       "12  civil partnership                 1      M     retiree     0   \n",
       "13            married                 0      F    employee     0   \n",
       "14  civil partnership                 1      F    business     1   \n",
       "\n",
       "    total_income                              purpose         age_group  \n",
       "0   40620.102000                purchase of the house             adult  \n",
       "1   17932.802000                         car purchase             adult  \n",
       "2   23341.752000                purchase of the house      young adault  \n",
       "3   42820.568000              supplementary education      young adault  \n",
       "4   25378.572000                    to have a wedding  late middle aged  \n",
       "5   40922.170000                purchase of the house      young adault  \n",
       "6   38484.156000                 housing transactions             adult  \n",
       "7   21731.829000                            education  late middle aged  \n",
       "8   15337.093000                     having a wedding             adult  \n",
       "9   23108.150000  purchase of the house for my family             adult  \n",
       "10  18230.959000                      buy real estate             adult  \n",
       "11  12331.077000           buy commercial real estate             adult  \n",
       "12  21940.394503                    to have a wedding    senior citizen  \n",
       "13  20873.317000                         car purchase  late middle aged  \n",
       "14  26420.466000          buy residential real estate  late middle aged  "
      ]
     },
     "execution_count": 58,
     "metadata": {},
     "output_type": "execute_result"
    }
   ],
   "source": [
    "# Replacing missing values\n",
    "\n",
    "credit_scoring.head(15) "
   ]
  },
  {
   "cell_type": "markdown",
   "metadata": {},
   "source": [
    "[When you think you've finished with `total_income`, check that the total number of values in this column matches the number of values in other ones.]"
   ]
  },
  {
   "cell_type": "code",
   "execution_count": 59,
   "metadata": {},
   "outputs": [
    {
     "data": {
      "text/plain": [
       "children            0\n",
       "days_employed       0\n",
       "dob_years           0\n",
       "education           0\n",
       "education_id        0\n",
       "family_status       0\n",
       "family_status_id    0\n",
       "gender              0\n",
       "income_type         0\n",
       "debt                0\n",
       "total_income        0\n",
       "purpose             0\n",
       "age_group           0\n",
       "dtype: int64"
      ]
     },
     "execution_count": 59,
     "metadata": {},
     "output_type": "execute_result"
    }
   ],
   "source": [
    "# Check the entries in all columns - make sure we fixed all missing values\n",
    "credit_scoring.isna().sum()"
   ]
  },
  {
   "cell_type": "markdown",
   "metadata": {},
   "source": [
    "<div class=\"alert alert-block alert-success\">\n",
    "<b>Reviewer's comment</b> <a class=\"tocSkip\"></a>\n",
    "Well done! Good job. The gaps in the \"days_employed\" column have been removed. And you used a good method to replace it.\n",
    "</div>"
   ]
  },
  {
   "cell_type": "markdown",
   "metadata": {},
   "source": [
    "<div class=\"alert alert-block alert-danger\">\n",
    "<b>Reviewer's comment</b> <a class=\"tocSkip\"></a>\n",
    "\n",
    "~~Please see my comments about the need to correct this column and the proposed method. Please correct this section.~~\n",
    "</div>"
   ]
  },
  {
   "cell_type": "markdown",
   "metadata": {},
   "source": [
    "<div class=\"alert alert-block alert-info\">\n",
    "<b>Student answer.</b> <a class=\"tocSkip\"></a>\n",
    "    I have corrected it, Thanks. \n",
    "</div>\n"
   ]
  },
  {
   "cell_type": "markdown",
   "metadata": {},
   "source": [
    "## Categorization of data\n",
    "\n",
    "[To answer the questions and test the hypotheses, you will want to work with categorized data. Look at the questions that were posed to you and that you should answer. Think about which of the data will need to be categorized to answer these questions. Below you will find a template through which you can work your way when categorizing data. The first step-by-step processing covers the text data; the second one addresses the numerical data that needs to be categorized. You can use both or none of the suggested instructions - it's up to you.]\n",
    "\n",
    "[Despite of how you decide to address the categorization, make sure to provide clear explanation of why you made your decision. Remember: this is your work and you make all decisions in it.]\n",
    "The 2 categories I think could simolify the data procesing if categorised are:\n",
    "total_income - by income steps: low income(< 17208.100500), median income(<= 24303.814000), high income(<= 32397.165000), upper class (> 32397.165000)\n",
    "purpose - real estate, car, wedding, education"
   ]
  },
  {
   "cell_type": "code",
   "execution_count": 60,
   "metadata": {},
   "outputs": [
    {
     "data": {
      "text/plain": [
       "count     21230.000000\n",
       "mean      26797.364166\n",
       "std       15723.514476\n",
       "min        3306.762000\n",
       "25%       17208.100500\n",
       "50%       24303.814000\n",
       "75%       32397.165000\n",
       "max      362496.645000\n",
       "Name: total_income, dtype: float64"
      ]
     },
     "execution_count": 60,
     "metadata": {},
     "output_type": "execute_result"
    }
   ],
   "source": [
    "credit_scoring['total_income'].describe(include='all').T\n",
    "#credit_scoring['purpose'].unique()"
   ]
  },
  {
   "cell_type": "code",
   "execution_count": 61,
   "metadata": {
    "scrolled": true
   },
   "outputs": [
    {
     "data": {
      "text/plain": [
       "array(['purchase of the house', 'car purchase', 'supplementary education',\n",
       "       'to have a wedding', 'housing transactions', 'education',\n",
       "       'having a wedding', 'purchase of the house for my family',\n",
       "       'buy real estate', 'buy commercial real estate',\n",
       "       'buy residential real estate', 'construction of own property',\n",
       "       'property', 'building a property', 'buying a second-hand car',\n",
       "       'buying my own car', 'transactions with commercial real estate',\n",
       "       'building a real estate', 'housing',\n",
       "       'transactions with my real estate', 'cars', 'to become educated',\n",
       "       'second-hand car purchase', 'getting an education', 'car',\n",
       "       'wedding ceremony', 'to get a supplementary education',\n",
       "       'purchase of my own house', 'real estate transactions',\n",
       "       'getting higher education', 'to own a car', 'purchase of a car',\n",
       "       'profile education', 'university education',\n",
       "       'buying property for renting out', 'to buy a car',\n",
       "       'housing renovation', 'going to university'], dtype=object)"
      ]
     },
     "execution_count": 61,
     "metadata": {},
     "output_type": "execute_result"
    }
   ],
   "source": [
    "# Print the values for your selected data for categorization\n",
    "\n",
    "credit_scoring['purpose'].unique()"
   ]
  },
  {
   "cell_type": "markdown",
   "metadata": {},
   "source": [
    "[Let's check unique values]"
   ]
  },
  {
   "cell_type": "code",
   "execution_count": 62,
   "metadata": {},
   "outputs": [],
   "source": [
    "# Check the unique values"
   ]
  },
  {
   "cell_type": "markdown",
   "metadata": {},
   "source": [
    "[What main groups can you identify based on the unique values?]\n",
    "real estate, car, wedding, education\n",
    "\n",
    "[Based on these themes, we will probably want to categorize our data.]\n"
   ]
  },
  {
   "cell_type": "code",
   "execution_count": 63,
   "metadata": {},
   "outputs": [],
   "source": [
    "m = Mystem()\n",
    "\n",
    "english_stemmer = SnowballStemmer('english')\n",
    "wordnet_lemma = WordNetLemmatizer()"
   ]
  },
  {
   "cell_type": "markdown",
   "metadata": {},
   "source": [
    "<div class=\"alert alert-block alert-warning\">\n",
    "<b>Reviewer's comment</b> <a class=\"tocSkip\"></a>\n",
    "Please note that it is better to load all libraries at the beginning of any research.\n",
    "</div>"
   ]
  },
  {
   "cell_type": "markdown",
   "metadata": {},
   "source": [
    "\n",
    "<div class=\"alert alert-block alert-info\">\n",
    "<b>Student answer.</b> <a class=\"tocSkip\"></a>\n",
    "    Thanks, I've moved all of the libraries to the beginning\n",
    "</div>"
   ]
  },
  {
   "cell_type": "code",
   "execution_count": 64,
   "metadata": {},
   "outputs": [],
   "source": [
    "lemmas_list_all = []\n",
    "\n",
    "for purpose in credit_scoring.purpose.unique():\n",
    "    words = nltk.word_tokenize(purpose)\n",
    "    lemmas = [wordnet_lemma.lemmatize(w, pos = 'n') for w in words]\n",
    "    lemmas=[l.lower() for l in lemmas]\n",
    "    for i in lemmas:\n",
    "        lemmas_list_all.append(i)"
   ]
  },
  {
   "cell_type": "code",
   "execution_count": 65,
   "metadata": {},
   "outputs": [
    {
     "data": {
      "text/plain": [
       "Counter({'purchase': 6,\n",
       "         'of': 5,\n",
       "         'the': 2,\n",
       "         'house': 3,\n",
       "         'car': 9,\n",
       "         'supplementary': 2,\n",
       "         'education': 7,\n",
       "         'to': 6,\n",
       "         'have': 1,\n",
       "         'a': 9,\n",
       "         'wedding': 3,\n",
       "         'housing': 3,\n",
       "         'transaction': 4,\n",
       "         'having': 1,\n",
       "         'for': 2,\n",
       "         'my': 4,\n",
       "         'family': 1,\n",
       "         'buy': 4,\n",
       "         'real': 7,\n",
       "         'estate': 7,\n",
       "         'commercial': 2,\n",
       "         'residential': 1,\n",
       "         'construction': 1,\n",
       "         'own': 4,\n",
       "         'property': 4,\n",
       "         'building': 2,\n",
       "         'buying': 3,\n",
       "         'second-hand': 2,\n",
       "         'with': 2,\n",
       "         'become': 1,\n",
       "         'educated': 1,\n",
       "         'getting': 2,\n",
       "         'an': 1,\n",
       "         'ceremony': 1,\n",
       "         'get': 1,\n",
       "         'higher': 1,\n",
       "         'profile': 1,\n",
       "         'university': 2,\n",
       "         'renting': 1,\n",
       "         'out': 1,\n",
       "         'renovation': 1,\n",
       "         'going': 1})"
      ]
     },
     "execution_count": 65,
     "metadata": {},
     "output_type": "execute_result"
    }
   ],
   "source": [
    "Counter(lemmas_list_all)"
   ]
  },
  {
   "cell_type": "code",
   "execution_count": 66,
   "metadata": {},
   "outputs": [],
   "source": [
    "real_estate_cat =['house','construction','residential','building','estate','housing','property']\n",
    "vehicle_cat=['car','cars']\n",
    "wedding_cat=['ceremony','wedding']\n",
    "education_cat=['university','education','educated']\n"
   ]
  },
  {
   "cell_type": "code",
   "execution_count": 67,
   "metadata": {},
   "outputs": [],
   "source": [
    "# Let's write a function to categorize the data based on common topics\n",
    "def lemmatization_func(line):\n",
    "  \n",
    "    words = nltk.word_tokenize(line)\n",
    "    lemmas = [wordnet_lemma.lemmatize(w, pos = 'n') for w in words]\n",
    "    lemmas=[l.lower() for l in lemmas]\n",
    "    \n",
    "    if any(word in lemmas for word in real_estate_cat):\n",
    "        return 'real estate'\n",
    "    elif  any(word in lemmas for word in vehicle_cat):\n",
    "        return 'vehicle'\n",
    "    elif  any(word in lemmas for word in wedding_cat):\n",
    "        return 'wedding'\n",
    "    elif  any(word in lemmas for word in education_cat):\n",
    "        return 'education'\n",
    "    else:\n",
    "        return 'other'"
   ]
  },
  {
   "cell_type": "code",
   "execution_count": 68,
   "metadata": {},
   "outputs": [
    {
     "data": {
      "text/plain": [
       "'vehicle'"
      ]
     },
     "execution_count": 68,
     "metadata": {},
     "output_type": "execute_result"
    }
   ],
   "source": [
    "sample = credit_scoring.loc[1]['purpose']\n",
    "lemmatization_func(sample)"
   ]
  },
  {
   "cell_type": "code",
   "execution_count": 69,
   "metadata": {},
   "outputs": [
    {
     "data": {
      "text/html": [
       "<div>\n",
       "<style scoped>\n",
       "    .dataframe tbody tr th:only-of-type {\n",
       "        vertical-align: middle;\n",
       "    }\n",
       "\n",
       "    .dataframe tbody tr th {\n",
       "        vertical-align: top;\n",
       "    }\n",
       "\n",
       "    .dataframe thead th {\n",
       "        text-align: right;\n",
       "    }\n",
       "</style>\n",
       "<table border=\"1\" class=\"dataframe\">\n",
       "  <thead>\n",
       "    <tr style=\"text-align: right;\">\n",
       "      <th></th>\n",
       "      <th>children</th>\n",
       "      <th>days_employed</th>\n",
       "      <th>dob_years</th>\n",
       "      <th>education</th>\n",
       "      <th>education_id</th>\n",
       "      <th>family_status</th>\n",
       "      <th>family_status_id</th>\n",
       "      <th>gender</th>\n",
       "      <th>income_type</th>\n",
       "      <th>debt</th>\n",
       "      <th>total_income</th>\n",
       "      <th>purpose</th>\n",
       "      <th>age_group</th>\n",
       "      <th>purpose_cat</th>\n",
       "    </tr>\n",
       "  </thead>\n",
       "  <tbody>\n",
       "    <tr>\n",
       "      <td>0</td>\n",
       "      <td>1</td>\n",
       "      <td>351.569709</td>\n",
       "      <td>42</td>\n",
       "      <td>bachelor's degree</td>\n",
       "      <td>0</td>\n",
       "      <td>married</td>\n",
       "      <td>0</td>\n",
       "      <td>F</td>\n",
       "      <td>employee</td>\n",
       "      <td>0</td>\n",
       "      <td>40620.102</td>\n",
       "      <td>purchase of the house</td>\n",
       "      <td>adult</td>\n",
       "      <td>real estate</td>\n",
       "    </tr>\n",
       "    <tr>\n",
       "      <td>1</td>\n",
       "      <td>1</td>\n",
       "      <td>167.700156</td>\n",
       "      <td>36</td>\n",
       "      <td>secondary education</td>\n",
       "      <td>1</td>\n",
       "      <td>married</td>\n",
       "      <td>0</td>\n",
       "      <td>F</td>\n",
       "      <td>employee</td>\n",
       "      <td>0</td>\n",
       "      <td>17932.802</td>\n",
       "      <td>car purchase</td>\n",
       "      <td>adult</td>\n",
       "      <td>vehicle</td>\n",
       "    </tr>\n",
       "    <tr>\n",
       "      <td>2</td>\n",
       "      <td>0</td>\n",
       "      <td>234.309275</td>\n",
       "      <td>33</td>\n",
       "      <td>secondary education</td>\n",
       "      <td>1</td>\n",
       "      <td>married</td>\n",
       "      <td>0</td>\n",
       "      <td>M</td>\n",
       "      <td>employee</td>\n",
       "      <td>0</td>\n",
       "      <td>23341.752</td>\n",
       "      <td>purchase of the house</td>\n",
       "      <td>young adault</td>\n",
       "      <td>real estate</td>\n",
       "    </tr>\n",
       "    <tr>\n",
       "      <td>3</td>\n",
       "      <td>3</td>\n",
       "      <td>171.864467</td>\n",
       "      <td>32</td>\n",
       "      <td>secondary education</td>\n",
       "      <td>1</td>\n",
       "      <td>married</td>\n",
       "      <td>0</td>\n",
       "      <td>M</td>\n",
       "      <td>employee</td>\n",
       "      <td>0</td>\n",
       "      <td>42820.568</td>\n",
       "      <td>supplementary education</td>\n",
       "      <td>young adault</td>\n",
       "      <td>education</td>\n",
       "    </tr>\n",
       "    <tr>\n",
       "      <td>4</td>\n",
       "      <td>0</td>\n",
       "      <td>14177.753002</td>\n",
       "      <td>53</td>\n",
       "      <td>secondary education</td>\n",
       "      <td>1</td>\n",
       "      <td>civil partnership</td>\n",
       "      <td>1</td>\n",
       "      <td>F</td>\n",
       "      <td>retiree</td>\n",
       "      <td>0</td>\n",
       "      <td>25378.572</td>\n",
       "      <td>to have a wedding</td>\n",
       "      <td>late middle aged</td>\n",
       "      <td>wedding</td>\n",
       "    </tr>\n",
       "  </tbody>\n",
       "</table>\n",
       "</div>"
      ],
      "text/plain": [
       "   children  days_employed  dob_years            education  education_id  \\\n",
       "0         1     351.569709         42    bachelor's degree             0   \n",
       "1         1     167.700156         36  secondary education             1   \n",
       "2         0     234.309275         33  secondary education             1   \n",
       "3         3     171.864467         32  secondary education             1   \n",
       "4         0   14177.753002         53  secondary education             1   \n",
       "\n",
       "       family_status  family_status_id gender income_type  debt  total_income  \\\n",
       "0            married                 0      F    employee     0     40620.102   \n",
       "1            married                 0      F    employee     0     17932.802   \n",
       "2            married                 0      M    employee     0     23341.752   \n",
       "3            married                 0      M    employee     0     42820.568   \n",
       "4  civil partnership                 1      F     retiree     0     25378.572   \n",
       "\n",
       "                   purpose         age_group  purpose_cat  \n",
       "0    purchase of the house             adult  real estate  \n",
       "1             car purchase             adult      vehicle  \n",
       "2    purchase of the house      young adault  real estate  \n",
       "3  supplementary education      young adault    education  \n",
       "4        to have a wedding  late middle aged      wedding  "
      ]
     },
     "execution_count": 69,
     "metadata": {},
     "output_type": "execute_result"
    }
   ],
   "source": [
    "# Create a column with the categories and count the values for them\n",
    "credit_scoring['purpose_cat']=credit_scoring['purpose'].apply(lemmatization_func)\n",
    "credit_scoring.head()"
   ]
  },
  {
   "cell_type": "code",
   "execution_count": 70,
   "metadata": {
    "scrolled": true
   },
   "outputs": [
    {
     "data": {
      "text/plain": [
       "real estate    10703\n",
       "vehicle         4258\n",
       "education       3970\n",
       "wedding         2299\n",
       "Name: purpose_cat, dtype: int64"
      ]
     },
     "execution_count": 70,
     "metadata": {},
     "output_type": "execute_result"
    }
   ],
   "source": [
    "credit_scoring['purpose_cat'].value_counts()\n"
   ]
  },
  {
   "cell_type": "markdown",
   "metadata": {},
   "source": [
    "[If you decide to categorize the numerical data, you'll need to come up with the categories for it too.]"
   ]
  },
  {
   "cell_type": "code",
   "execution_count": 71,
   "metadata": {},
   "outputs": [
    {
     "data": {
      "text/plain": [
       "array([40620.102, 17932.802, 23341.752, ..., 14347.61 , 39054.888,\n",
       "       13127.587])"
      ]
     },
     "execution_count": 71,
     "metadata": {},
     "output_type": "execute_result"
    }
   ],
   "source": [
    "# Looking through all the numerical data in your selected column for categorization\n",
    "credit_scoring['total_income'].unique()"
   ]
  },
  {
   "cell_type": "code",
   "execution_count": 72,
   "metadata": {},
   "outputs": [
    {
     "data": {
      "text/plain": [
       "count     21230.000000\n",
       "mean      26797.364166\n",
       "std       15723.514476\n",
       "min        3306.762000\n",
       "25%       17208.100500\n",
       "50%       24303.814000\n",
       "75%       32397.165000\n",
       "max      362496.645000\n",
       "Name: total_income, dtype: float64"
      ]
     },
     "execution_count": 72,
     "metadata": {},
     "output_type": "execute_result"
    }
   ],
   "source": [
    "# Getting summary statistics for the column\n",
    "credit_scoring['total_income'].describe(include='all').T\n"
   ]
  },
  {
   "cell_type": "markdown",
   "metadata": {},
   "source": [
    "[Decide what ranges you will use for grouping and explain why.]\n",
    "By income steps: low income(< 17208.100500), median income(<= 24303.814000), high income(<= 32397.165000), upper class (> 32397.165000).\n",
    "Because it devides the data into 4 neat categories (every 25% of the data is a category) that can give us useful indication of the influance of income on debt repaiment."
   ]
  },
  {
   "cell_type": "code",
   "execution_count": 73,
   "metadata": {},
   "outputs": [],
   "source": [
    "# Creating function for categorizing into different numerical groups based on ranges\n",
    "# I know median income is not the correct term for the category but...\n",
    "def income_step(income):\n",
    "    if income < 17208.101:\n",
    "        return 'low income'\n",
    "    if income <= 24303.814:\n",
    "        return 'median income'\n",
    "    if income <= 32397.165:\n",
    "        return 'high income'\n",
    "    return 'upper class'\n"
   ]
  },
  {
   "cell_type": "code",
   "execution_count": 74,
   "metadata": {},
   "outputs": [
    {
     "name": "stdout",
     "output_type": "stream",
     "text": [
      "low income\n",
      "median income\n",
      "high income\n",
      "upper class\n"
     ]
    }
   ],
   "source": [
    "print(income_step(15000))\n",
    "print(income_step(20000))\n",
    "print(income_step(30000))\n",
    "print(income_step(40000))"
   ]
  },
  {
   "cell_type": "code",
   "execution_count": 75,
   "metadata": {},
   "outputs": [
    {
     "data": {
      "text/html": [
       "<div>\n",
       "<style scoped>\n",
       "    .dataframe tbody tr th:only-of-type {\n",
       "        vertical-align: middle;\n",
       "    }\n",
       "\n",
       "    .dataframe tbody tr th {\n",
       "        vertical-align: top;\n",
       "    }\n",
       "\n",
       "    .dataframe thead th {\n",
       "        text-align: right;\n",
       "    }\n",
       "</style>\n",
       "<table border=\"1\" class=\"dataframe\">\n",
       "  <thead>\n",
       "    <tr style=\"text-align: right;\">\n",
       "      <th></th>\n",
       "      <th>children</th>\n",
       "      <th>days_employed</th>\n",
       "      <th>dob_years</th>\n",
       "      <th>education</th>\n",
       "      <th>education_id</th>\n",
       "      <th>family_status</th>\n",
       "      <th>family_status_id</th>\n",
       "      <th>gender</th>\n",
       "      <th>income_type</th>\n",
       "      <th>debt</th>\n",
       "      <th>total_income</th>\n",
       "      <th>purpose</th>\n",
       "      <th>age_group</th>\n",
       "      <th>purpose_cat</th>\n",
       "      <th>income_step</th>\n",
       "    </tr>\n",
       "  </thead>\n",
       "  <tbody>\n",
       "    <tr>\n",
       "      <td>0</td>\n",
       "      <td>1</td>\n",
       "      <td>351.569709</td>\n",
       "      <td>42</td>\n",
       "      <td>bachelor's degree</td>\n",
       "      <td>0</td>\n",
       "      <td>married</td>\n",
       "      <td>0</td>\n",
       "      <td>F</td>\n",
       "      <td>employee</td>\n",
       "      <td>0</td>\n",
       "      <td>40620.102000</td>\n",
       "      <td>purchase of the house</td>\n",
       "      <td>adult</td>\n",
       "      <td>real estate</td>\n",
       "      <td>upper class</td>\n",
       "    </tr>\n",
       "    <tr>\n",
       "      <td>1</td>\n",
       "      <td>1</td>\n",
       "      <td>167.700156</td>\n",
       "      <td>36</td>\n",
       "      <td>secondary education</td>\n",
       "      <td>1</td>\n",
       "      <td>married</td>\n",
       "      <td>0</td>\n",
       "      <td>F</td>\n",
       "      <td>employee</td>\n",
       "      <td>0</td>\n",
       "      <td>17932.802000</td>\n",
       "      <td>car purchase</td>\n",
       "      <td>adult</td>\n",
       "      <td>vehicle</td>\n",
       "      <td>median income</td>\n",
       "    </tr>\n",
       "    <tr>\n",
       "      <td>2</td>\n",
       "      <td>0</td>\n",
       "      <td>234.309275</td>\n",
       "      <td>33</td>\n",
       "      <td>secondary education</td>\n",
       "      <td>1</td>\n",
       "      <td>married</td>\n",
       "      <td>0</td>\n",
       "      <td>M</td>\n",
       "      <td>employee</td>\n",
       "      <td>0</td>\n",
       "      <td>23341.752000</td>\n",
       "      <td>purchase of the house</td>\n",
       "      <td>young adault</td>\n",
       "      <td>real estate</td>\n",
       "      <td>median income</td>\n",
       "    </tr>\n",
       "    <tr>\n",
       "      <td>3</td>\n",
       "      <td>3</td>\n",
       "      <td>171.864467</td>\n",
       "      <td>32</td>\n",
       "      <td>secondary education</td>\n",
       "      <td>1</td>\n",
       "      <td>married</td>\n",
       "      <td>0</td>\n",
       "      <td>M</td>\n",
       "      <td>employee</td>\n",
       "      <td>0</td>\n",
       "      <td>42820.568000</td>\n",
       "      <td>supplementary education</td>\n",
       "      <td>young adault</td>\n",
       "      <td>education</td>\n",
       "      <td>upper class</td>\n",
       "    </tr>\n",
       "    <tr>\n",
       "      <td>4</td>\n",
       "      <td>0</td>\n",
       "      <td>14177.753002</td>\n",
       "      <td>53</td>\n",
       "      <td>secondary education</td>\n",
       "      <td>1</td>\n",
       "      <td>civil partnership</td>\n",
       "      <td>1</td>\n",
       "      <td>F</td>\n",
       "      <td>retiree</td>\n",
       "      <td>0</td>\n",
       "      <td>25378.572000</td>\n",
       "      <td>to have a wedding</td>\n",
       "      <td>late middle aged</td>\n",
       "      <td>wedding</td>\n",
       "      <td>high income</td>\n",
       "    </tr>\n",
       "    <tr>\n",
       "      <td>5</td>\n",
       "      <td>0</td>\n",
       "      <td>38.591076</td>\n",
       "      <td>27</td>\n",
       "      <td>bachelor's degree</td>\n",
       "      <td>0</td>\n",
       "      <td>civil partnership</td>\n",
       "      <td>1</td>\n",
       "      <td>M</td>\n",
       "      <td>business</td>\n",
       "      <td>0</td>\n",
       "      <td>40922.170000</td>\n",
       "      <td>purchase of the house</td>\n",
       "      <td>young adault</td>\n",
       "      <td>real estate</td>\n",
       "      <td>upper class</td>\n",
       "    </tr>\n",
       "    <tr>\n",
       "      <td>6</td>\n",
       "      <td>0</td>\n",
       "      <td>119.966752</td>\n",
       "      <td>43</td>\n",
       "      <td>bachelor's degree</td>\n",
       "      <td>0</td>\n",
       "      <td>married</td>\n",
       "      <td>0</td>\n",
       "      <td>F</td>\n",
       "      <td>business</td>\n",
       "      <td>0</td>\n",
       "      <td>38484.156000</td>\n",
       "      <td>housing transactions</td>\n",
       "      <td>adult</td>\n",
       "      <td>real estate</td>\n",
       "      <td>upper class</td>\n",
       "    </tr>\n",
       "    <tr>\n",
       "      <td>7</td>\n",
       "      <td>0</td>\n",
       "      <td>6.365815</td>\n",
       "      <td>50</td>\n",
       "      <td>secondary education</td>\n",
       "      <td>1</td>\n",
       "      <td>married</td>\n",
       "      <td>0</td>\n",
       "      <td>M</td>\n",
       "      <td>employee</td>\n",
       "      <td>0</td>\n",
       "      <td>21731.829000</td>\n",
       "      <td>education</td>\n",
       "      <td>late middle aged</td>\n",
       "      <td>education</td>\n",
       "      <td>median income</td>\n",
       "    </tr>\n",
       "    <tr>\n",
       "      <td>8</td>\n",
       "      <td>2</td>\n",
       "      <td>288.744387</td>\n",
       "      <td>35</td>\n",
       "      <td>bachelor's degree</td>\n",
       "      <td>0</td>\n",
       "      <td>civil partnership</td>\n",
       "      <td>1</td>\n",
       "      <td>F</td>\n",
       "      <td>employee</td>\n",
       "      <td>0</td>\n",
       "      <td>15337.093000</td>\n",
       "      <td>having a wedding</td>\n",
       "      <td>adult</td>\n",
       "      <td>wedding</td>\n",
       "      <td>low income</td>\n",
       "    </tr>\n",
       "    <tr>\n",
       "      <td>9</td>\n",
       "      <td>0</td>\n",
       "      <td>91.198185</td>\n",
       "      <td>41</td>\n",
       "      <td>secondary education</td>\n",
       "      <td>1</td>\n",
       "      <td>married</td>\n",
       "      <td>0</td>\n",
       "      <td>M</td>\n",
       "      <td>employee</td>\n",
       "      <td>0</td>\n",
       "      <td>23108.150000</td>\n",
       "      <td>purchase of the house for my family</td>\n",
       "      <td>adult</td>\n",
       "      <td>real estate</td>\n",
       "      <td>median income</td>\n",
       "    </tr>\n",
       "    <tr>\n",
       "      <td>10</td>\n",
       "      <td>2</td>\n",
       "      <td>173.811819</td>\n",
       "      <td>36</td>\n",
       "      <td>bachelor's degree</td>\n",
       "      <td>0</td>\n",
       "      <td>married</td>\n",
       "      <td>0</td>\n",
       "      <td>M</td>\n",
       "      <td>business</td>\n",
       "      <td>0</td>\n",
       "      <td>18230.959000</td>\n",
       "      <td>buy real estate</td>\n",
       "      <td>adult</td>\n",
       "      <td>real estate</td>\n",
       "      <td>median income</td>\n",
       "    </tr>\n",
       "    <tr>\n",
       "      <td>11</td>\n",
       "      <td>0</td>\n",
       "      <td>33.029245</td>\n",
       "      <td>40</td>\n",
       "      <td>secondary education</td>\n",
       "      <td>1</td>\n",
       "      <td>married</td>\n",
       "      <td>0</td>\n",
       "      <td>F</td>\n",
       "      <td>employee</td>\n",
       "      <td>0</td>\n",
       "      <td>12331.077000</td>\n",
       "      <td>buy commercial real estate</td>\n",
       "      <td>adult</td>\n",
       "      <td>real estate</td>\n",
       "      <td>low income</td>\n",
       "    </tr>\n",
       "    <tr>\n",
       "      <td>12</td>\n",
       "      <td>0</td>\n",
       "      <td>15209.895255</td>\n",
       "      <td>65</td>\n",
       "      <td>secondary education</td>\n",
       "      <td>1</td>\n",
       "      <td>civil partnership</td>\n",
       "      <td>1</td>\n",
       "      <td>M</td>\n",
       "      <td>retiree</td>\n",
       "      <td>0</td>\n",
       "      <td>21940.394503</td>\n",
       "      <td>to have a wedding</td>\n",
       "      <td>senior citizen</td>\n",
       "      <td>wedding</td>\n",
       "      <td>median income</td>\n",
       "    </tr>\n",
       "    <tr>\n",
       "      <td>13</td>\n",
       "      <td>0</td>\n",
       "      <td>76.943414</td>\n",
       "      <td>54</td>\n",
       "      <td>some college</td>\n",
       "      <td>2</td>\n",
       "      <td>married</td>\n",
       "      <td>0</td>\n",
       "      <td>F</td>\n",
       "      <td>employee</td>\n",
       "      <td>0</td>\n",
       "      <td>20873.317000</td>\n",
       "      <td>car purchase</td>\n",
       "      <td>late middle aged</td>\n",
       "      <td>vehicle</td>\n",
       "      <td>median income</td>\n",
       "    </tr>\n",
       "    <tr>\n",
       "      <td>14</td>\n",
       "      <td>0</td>\n",
       "      <td>76.873174</td>\n",
       "      <td>56</td>\n",
       "      <td>bachelor's degree</td>\n",
       "      <td>0</td>\n",
       "      <td>civil partnership</td>\n",
       "      <td>1</td>\n",
       "      <td>F</td>\n",
       "      <td>business</td>\n",
       "      <td>1</td>\n",
       "      <td>26420.466000</td>\n",
       "      <td>buy residential real estate</td>\n",
       "      <td>late middle aged</td>\n",
       "      <td>real estate</td>\n",
       "      <td>high income</td>\n",
       "    </tr>\n",
       "  </tbody>\n",
       "</table>\n",
       "</div>"
      ],
      "text/plain": [
       "    children  days_employed  dob_years            education  education_id  \\\n",
       "0          1     351.569709         42    bachelor's degree             0   \n",
       "1          1     167.700156         36  secondary education             1   \n",
       "2          0     234.309275         33  secondary education             1   \n",
       "3          3     171.864467         32  secondary education             1   \n",
       "4          0   14177.753002         53  secondary education             1   \n",
       "5          0      38.591076         27    bachelor's degree             0   \n",
       "6          0     119.966752         43    bachelor's degree             0   \n",
       "7          0       6.365815         50  secondary education             1   \n",
       "8          2     288.744387         35    bachelor's degree             0   \n",
       "9          0      91.198185         41  secondary education             1   \n",
       "10         2     173.811819         36    bachelor's degree             0   \n",
       "11         0      33.029245         40  secondary education             1   \n",
       "12         0   15209.895255         65  secondary education             1   \n",
       "13         0      76.943414         54         some college             2   \n",
       "14         0      76.873174         56    bachelor's degree             0   \n",
       "\n",
       "        family_status  family_status_id gender income_type  debt  \\\n",
       "0             married                 0      F    employee     0   \n",
       "1             married                 0      F    employee     0   \n",
       "2             married                 0      M    employee     0   \n",
       "3             married                 0      M    employee     0   \n",
       "4   civil partnership                 1      F     retiree     0   \n",
       "5   civil partnership                 1      M    business     0   \n",
       "6             married                 0      F    business     0   \n",
       "7             married                 0      M    employee     0   \n",
       "8   civil partnership                 1      F    employee     0   \n",
       "9             married                 0      M    employee     0   \n",
       "10            married                 0      M    business     0   \n",
       "11            married                 0      F    employee     0   \n",
       "12  civil partnership                 1      M     retiree     0   \n",
       "13            married                 0      F    employee     0   \n",
       "14  civil partnership                 1      F    business     1   \n",
       "\n",
       "    total_income                              purpose         age_group  \\\n",
       "0   40620.102000                purchase of the house             adult   \n",
       "1   17932.802000                         car purchase             adult   \n",
       "2   23341.752000                purchase of the house      young adault   \n",
       "3   42820.568000              supplementary education      young adault   \n",
       "4   25378.572000                    to have a wedding  late middle aged   \n",
       "5   40922.170000                purchase of the house      young adault   \n",
       "6   38484.156000                 housing transactions             adult   \n",
       "7   21731.829000                            education  late middle aged   \n",
       "8   15337.093000                     having a wedding             adult   \n",
       "9   23108.150000  purchase of the house for my family             adult   \n",
       "10  18230.959000                      buy real estate             adult   \n",
       "11  12331.077000           buy commercial real estate             adult   \n",
       "12  21940.394503                    to have a wedding    senior citizen   \n",
       "13  20873.317000                         car purchase  late middle aged   \n",
       "14  26420.466000          buy residential real estate  late middle aged   \n",
       "\n",
       "    purpose_cat    income_step  \n",
       "0   real estate    upper class  \n",
       "1       vehicle  median income  \n",
       "2   real estate  median income  \n",
       "3     education    upper class  \n",
       "4       wedding    high income  \n",
       "5   real estate    upper class  \n",
       "6   real estate    upper class  \n",
       "7     education  median income  \n",
       "8       wedding     low income  \n",
       "9   real estate  median income  \n",
       "10  real estate  median income  \n",
       "11  real estate     low income  \n",
       "12      wedding  median income  \n",
       "13      vehicle  median income  \n",
       "14  real estate    high income  "
      ]
     },
     "execution_count": 75,
     "metadata": {},
     "output_type": "execute_result"
    }
   ],
   "source": [
    "# Creating column with categories\n",
    "credit_scoring['income_step']= credit_scoring['total_income'].apply(income_step)\n",
    "credit_scoring.head(15)"
   ]
  },
  {
   "cell_type": "code",
   "execution_count": 76,
   "metadata": {
    "scrolled": true
   },
   "outputs": [
    {
     "data": {
      "text/plain": [
       "high income      5761\n",
       "low income       5308\n",
       "median income    5307\n",
       "upper class      4854\n",
       "Name: income_step, dtype: int64"
      ]
     },
     "execution_count": 76,
     "metadata": {},
     "output_type": "execute_result"
    }
   ],
   "source": [
    "# Count each categories values to see the distribution\n",
    "credit_scoring['income_step'].value_counts()"
   ]
  },
  {
   "cell_type": "markdown",
   "metadata": {},
   "source": [
    "<div class=\"alert alert-block alert-success\">\n",
    "<b>Reviewer's comment</b> <a class=\"tocSkip\"></a>\n",
    "Well done! The categorization for both columns is correct. Keep it up!\n",
    "</div>"
   ]
  },
  {
   "cell_type": "markdown",
   "metadata": {},
   "source": [
    "## Checking the Hypotheses\n"
   ]
  },
  {
   "cell_type": "markdown",
   "metadata": {},
   "source": [
    "**Is there a correlation between having children and paying back on time?**"
   ]
  },
  {
   "cell_type": "code",
   "execution_count": 77,
   "metadata": {},
   "outputs": [
    {
     "data": {
      "text/plain": [
       "children\n",
       "0    7.545824\n",
       "1    9.202838\n",
       "2    9.514468\n",
       "3    8.231707\n",
       "4    9.756098\n",
       "5    0.000000\n",
       "Name: debt, dtype: float64"
      ]
     },
     "execution_count": 77,
     "metadata": {},
     "output_type": "execute_result"
    }
   ],
   "source": [
    "# Check the children data and paying back on time\n",
    "credit_scoring.groupby('children')['debt'].mean()\n",
    "\n",
    "# Calculating default-rate based on the number of children\n",
    "(credit_scoring.groupby('children')['debt'].mean())*100\n",
    "\n"
   ]
  },
  {
   "cell_type": "markdown",
   "metadata": {},
   "source": [
    "**Conclusion**\n",
    "\n",
    "[Write your conclusions based on your manipulations and observations.]\n",
    "acording to the data families with 5 children dont tend to get in debt, but sample size of 5 child famelies is relativly small so I think this hypotesys (families with 5 children dont tend to get in debt) needs more reasearch. \n",
    "Childless families are also quite reliable (7.546% to default). While families with 2 or 4 chilren are of the reletivly high risk (4 child famelies are the most risky)."
   ]
  },
  {
   "cell_type": "markdown",
   "metadata": {},
   "source": [
    "<div class=\"alert alert-block alert-success\">\n",
    "<b>Reviewer's comment</b> <a class=\"tocSkip\"></a>\n",
    "Fine! Good conclusion.\n",
    "</div>"
   ]
  },
  {
   "cell_type": "markdown",
   "metadata": {},
   "source": [
    "**Is there a correlation between family status and paying back on time?**"
   ]
  },
  {
   "cell_type": "code",
   "execution_count": 78,
   "metadata": {},
   "outputs": [
    {
     "data": {
      "text/plain": [
       "family_status\n",
       "civil partnership    9.314202\n",
       "divorced             7.124682\n",
       "married              7.557521\n",
       "unmarried            9.784173\n",
       "widow / widower      6.553911\n",
       "Name: debt, dtype: float64"
      ]
     },
     "execution_count": 78,
     "metadata": {},
     "output_type": "execute_result"
    }
   ],
   "source": [
    "# Check the family status data and paying back on time\n",
    "credit_scoring.groupby('family_status')['debt'].mean()\n",
    "\n",
    "\n",
    "# Calculating default-rate based on family status\n",
    "credit_scoring.groupby('family_status')['debt'].mean()*100\n"
   ]
  },
  {
   "cell_type": "markdown",
   "metadata": {},
   "source": [
    "**Conclusion**\n",
    "\n",
    "[Write your conclusions based on your manipulations and observations.]\n",
    "Clients in civil partnership or unmarried clients, are more likely to default then clients with a different family status. Widows / Widowers are the most reliable. "
   ]
  },
  {
   "cell_type": "markdown",
   "metadata": {},
   "source": [
    "<div class=\"alert alert-block alert-success\">\n",
    "<b>Reviewer's comment</b> <a class=\"tocSkip\"></a>\n",
    "Right. I agree with you\n",
    "</div>"
   ]
  },
  {
   "cell_type": "markdown",
   "metadata": {},
   "source": [
    "**Is there a correlation between income level and paying back on time?**"
   ]
  },
  {
   "cell_type": "code",
   "execution_count": 79,
   "metadata": {},
   "outputs": [
    {
     "data": {
      "text/plain": [
       "income_step\n",
       "high income      8.488110\n",
       "low income       8.006782\n",
       "median income    8.818542\n",
       "upper class      7.045735\n",
       "Name: debt, dtype: float64"
      ]
     },
     "execution_count": 79,
     "metadata": {},
     "output_type": "execute_result"
    }
   ],
   "source": [
    "# Check the income level data and paying back on time\n",
    "credit_scoring.groupby('income_step')['debt'].mean()\n",
    "\n",
    "\n",
    "# Calculating default-rate based on income level\n",
    "credit_scoring.groupby('income_step')['debt'].mean()*100\n"
   ]
  },
  {
   "cell_type": "markdown",
   "metadata": {},
   "source": [
    "**Conclusion**\n",
    "\n",
    "[Write your conclusions based on your manipulations and observations.]\n",
    "upper class clients have the lowest default rate, if the data is analysed by income level. While the lower medium income clients (median income) have the highest default rate. "
   ]
  },
  {
   "cell_type": "markdown",
   "metadata": {},
   "source": [
    "<div class=\"alert alert-block alert-success\">\n",
    "<b>Reviewer's comment</b> <a class=\"tocSkip\"></a>\n",
    "Logical and correct conclusion!\n",
    "</div>"
   ]
  },
  {
   "cell_type": "markdown",
   "metadata": {},
   "source": [
    "**How does credit purpose affect the default rate?**"
   ]
  },
  {
   "cell_type": "code",
   "execution_count": 80,
   "metadata": {},
   "outputs": [
    {
     "data": {
      "text/plain": [
       "purpose_cat\n",
       "education      9.294710\n",
       "real estate    7.259647\n",
       "vehicle        9.323626\n",
       "wedding        7.872988\n",
       "Name: debt, dtype: float64"
      ]
     },
     "execution_count": 80,
     "metadata": {},
     "output_type": "execute_result"
    }
   ],
   "source": [
    "# Check the percentages for default rate for each credit purpose and analyze them\n",
    "credit_scoring.groupby('purpose_cat')['debt'].mean()*100\n"
   ]
  },
  {
   "cell_type": "markdown",
   "metadata": {},
   "source": [
    "**Conclusion**\n",
    "\n",
    "[Write your conclusions based on your manipulations and observations.]\n",
    "people that get a loan for real estate or a wedding, are less likely to default then those who get a loan for education or to buy a car. "
   ]
  },
  {
   "cell_type": "markdown",
   "metadata": {},
   "source": [
    "<div class=\"alert alert-block alert-success\">\n",
    "<b>Reviewer's comment</b> <a class=\"tocSkip\"></a>\n",
    "Good job!\n",
    "</div>"
   ]
  },
  {
   "cell_type": "markdown",
   "metadata": {},
   "source": [
    "# General Conclusion \n",
    "\n",
    "[List your conclusions in this final section. Make sure you include all your important conclusions you made that led you to the way you processed and analyzed the data. Cover the missing values, duplicates, and possible reasons and solutions for problematic artifacts that you had to address.]\n",
    "The missing values were symetric between days of employment and income, so I guess that it was due to people who didn't want to disclose that information. The solution for that was using the mean based on place of employment as way to get apropriate values, as the salery is highly dependent on the sphere of employment (buisness, service, manufacture, etc.). The missing values in days of employment could also be replaced that way, but I thought that a mean based on age groups would be more logical as teens and young adults tend to work less then the other age groups. The other problems with those columns are from mistaken entry (hours as days) and prabably system fault (negative work day values).\n",
    "\n",
    "Duplicates came from human error most likely (\"did I enter that data? I don't remmember I'll enter it again\"), and could be easily droped but using user ID column is recomanded, that way evevn if 2 clients have similar data they can be identified as diferent entries.\n",
    "\n",
    "The problematic values in other columns are definatly human error but were insignificant, as lower case and upper  writing could easily be united via proper functions.\n",
    "\n",
    "[List your conclusions regarding the posed questions here as well.]\n",
    "\n",
    "My conclusions: \n",
    "1. Childless families are quite reliable (7.546% to default). While families with 2 or 4 chilren are of the reletivly high risk (4 child famelies are the most risky).\n",
    "\n",
    "2. Clients in civil partnership or unmarried clients, are more likely to default then clients with a different family status. Widows / Widowers are the most reliable.\n",
    "\n",
    "3. Upper class clients have the lowest default rate, if the data is analysed by income level. While the lower medium income clients (median income) have the highest default rate.\n",
    "\n",
    "4. People that get a loan for real estate purposes or a wedding ceremony, are less likely to default then those who get a loan for education purposes or to buy a car."
   ]
  },
  {
   "cell_type": "markdown",
   "metadata": {},
   "source": [
    "<div class=\"alert alert-block alert-success\">\n",
    "<b>Final reviewer's comment</b> <a class=\"tocSkip\"></a>\n",
    "\n",
    "You've done a great job! \n",
    "    \n",
    "It was my pleasure to check your work:\n",
    "1. There is a structure;\n",
    "2. You add subtotals;\n",
    "3. Well described the Final conclusions at the end of the project;\n",
    "4. Correctly removed duplicates and made data categorization;\n",
    "5. Correctly replaced the missing values in the \"total_income\" column;\n",
    "6. He argued his conclusions in the Checking the Hypotheses block.    \n",
    "</div>"
   ]
  },
  {
   "cell_type": "markdown",
   "metadata": {},
   "source": [
    "<div class=\"alert alert-block alert-warning\">\n",
    "<b>Final reviewer's comment</b> <a class=\"tocSkip\"></a>\n",
    "\n",
    "Please pay attention to a few nuances:\n",
    "1. It is desirable to add a block describing the Brief Work Plan to the project description;\n",
    "2. It is better to load all libraries at the very beginning of the project in one cell, and read the project in the next cell;\n",
    "3. For a quick dive into Python, use the documentation. It will help you optimize your code and take you to the next level.    \n",
    "</div>"
   ]
  },
  {
   "cell_type": "markdown",
   "metadata": {},
   "source": [
    "<div class=\"alert alert-block alert-danger\">\n",
    "<b>Final reviewer's comment</b> <a class=\"tocSkip\"></a>\n",
    "\n",
    "~~But there are a one remark that need to be completed so that the work can be accepted:~~\n",
    "~~ - Please fix the method of replacing incorrect values in the \"days_employed\" column.~~\n",
    "    \n",
    "If you have any questions - write, I will definitely help to solve them.\n",
    "    \n",
    "I know you will succeed!\n",
    "</div>"
   ]
  },
  {
   "cell_type": "markdown",
   "metadata": {},
   "source": [
    "<div class=\"alert alert-block alert-info\">\n",
    "<b>Final student answer.</b> <a class=\"tocSkip\"></a>\n",
    "    \n",
    "I have changed the things that needed to be changed, I realy hope I undersood correctly what was problematic in my work. \n",
    "Thanks for the remarks I hope my future work will be better. \n",
    "And special thanks for the pandas.DataFrame.query method you recommended, I will surely use it in my future work.      \n",
    "    \n",
    "Thanks for all the help, and best wishes.     \n",
    "</div>"
   ]
  },
  {
   "cell_type": "markdown",
   "metadata": {},
   "source": [
    "<div class=\"alert alert-block alert-success\">\n",
    "<b>Final reviewer's comment  2</b> <a class=\"tocSkip\"></a>\n",
    "Thank you for making changes to the project. You've done excellent research.\n",
    "</div>"
   ]
  },
  {
   "cell_type": "code",
   "execution_count": null,
   "metadata": {},
   "outputs": [],
   "source": []
  }
 ],
 "metadata": {
  "ExecuteTimeLog": [
   {
    "duration": 2741,
    "start_time": "2021-10-21T01:08:49.480Z"
   },
   {
    "duration": 52,
    "start_time": "2021-10-21T01:08:53.315Z"
   },
   {
    "duration": 49,
    "start_time": "2021-10-21T01:08:57.432Z"
   },
   {
    "duration": 70,
    "start_time": "2021-10-21T01:09:07.706Z"
   },
   {
    "duration": 998,
    "start_time": "2022-01-11T13:27:53.928Z"
   },
   {
    "duration": 233,
    "start_time": "2022-01-11T13:28:36.576Z"
   },
   {
    "duration": 18,
    "start_time": "2022-01-11T13:29:50.557Z"
   },
   {
    "duration": 11,
    "start_time": "2022-01-11T13:30:03.560Z"
   },
   {
    "duration": 14,
    "start_time": "2022-01-11T13:31:24.439Z"
   },
   {
    "duration": 16,
    "start_time": "2022-01-11T13:36:33.999Z"
   },
   {
    "duration": 270,
    "start_time": "2022-01-15T13:37:26.398Z"
   },
   {
    "duration": 244,
    "start_time": "2022-01-15T13:37:37.976Z"
   },
   {
    "duration": 244,
    "start_time": "2022-01-15T13:38:05.265Z"
   },
   {
    "duration": 753,
    "start_time": "2022-01-15T13:38:20.550Z"
   },
   {
    "duration": 188,
    "start_time": "2022-01-15T13:38:32.151Z"
   },
   {
    "duration": 196,
    "start_time": "2022-01-15T13:38:37.247Z"
   },
   {
    "duration": 21,
    "start_time": "2022-01-15T13:38:49.887Z"
   },
   {
    "duration": 20,
    "start_time": "2022-01-15T13:43:11.709Z"
   },
   {
    "duration": 309,
    "start_time": "2022-01-15T13:45:34.971Z"
   },
   {
    "duration": 5,
    "start_time": "2022-01-15T13:45:51.965Z"
   },
   {
    "duration": 19,
    "start_time": "2022-01-15T13:46:09.540Z"
   },
   {
    "duration": 6,
    "start_time": "2022-01-15T13:47:21.839Z"
   },
   {
    "duration": 21,
    "start_time": "2022-01-15T13:48:33.667Z"
   },
   {
    "duration": 9,
    "start_time": "2022-01-15T13:49:35.228Z"
   },
   {
    "duration": 20,
    "start_time": "2022-01-15T13:50:20.762Z"
   },
   {
    "duration": 23,
    "start_time": "2022-01-15T13:50:39.099Z"
   },
   {
    "duration": 15,
    "start_time": "2022-01-15T13:51:20.603Z"
   },
   {
    "duration": 14,
    "start_time": "2022-01-15T13:52:42.458Z"
   },
   {
    "duration": 18,
    "start_time": "2022-01-15T13:53:22.417Z"
   },
   {
    "duration": 99,
    "start_time": "2022-01-15T13:56:09.129Z"
   },
   {
    "duration": 8,
    "start_time": "2022-01-15T13:56:16.352Z"
   },
   {
    "duration": 401,
    "start_time": "2022-01-15T13:56:48.520Z"
   },
   {
    "duration": 7,
    "start_time": "2022-01-15T13:56:51.930Z"
   },
   {
    "duration": 12,
    "start_time": "2022-01-15T13:57:16.352Z"
   },
   {
    "duration": 12,
    "start_time": "2022-01-15T13:57:34.696Z"
   },
   {
    "duration": 14,
    "start_time": "2022-01-15T14:01:56.975Z"
   },
   {
    "duration": 19,
    "start_time": "2022-01-15T14:02:30.167Z"
   },
   {
    "duration": 13,
    "start_time": "2022-01-15T14:03:25.830Z"
   },
   {
    "duration": 12,
    "start_time": "2022-01-15T14:03:42.798Z"
   },
   {
    "duration": 10,
    "start_time": "2022-01-15T14:09:35.130Z"
   },
   {
    "duration": 11,
    "start_time": "2022-01-15T14:10:26.835Z"
   },
   {
    "duration": 11,
    "start_time": "2022-01-15T14:10:44.324Z"
   },
   {
    "duration": 10,
    "start_time": "2022-01-15T14:11:29.371Z"
   },
   {
    "duration": 10,
    "start_time": "2022-01-15T14:14:40.246Z"
   },
   {
    "duration": 11,
    "start_time": "2022-01-15T14:15:06.096Z"
   },
   {
    "duration": 20,
    "start_time": "2022-01-15T14:16:35.153Z"
   },
   {
    "duration": 7,
    "start_time": "2022-01-15T14:18:46.937Z"
   },
   {
    "duration": 302,
    "start_time": "2022-01-15T14:25:37.995Z"
   },
   {
    "duration": 239,
    "start_time": "2022-01-15T14:26:47.848Z"
   },
   {
    "duration": 237,
    "start_time": "2022-01-15T14:27:12.628Z"
   },
   {
    "duration": 240,
    "start_time": "2022-01-15T14:30:31.420Z"
   },
   {
    "duration": 28,
    "start_time": "2022-01-15T14:31:13.236Z"
   },
   {
    "duration": 18,
    "start_time": "2022-01-15T14:33:08.384Z"
   },
   {
    "duration": 6,
    "start_time": "2022-01-15T14:36:52.322Z"
   },
   {
    "duration": 24,
    "start_time": "2022-01-15T14:39:14.665Z"
   },
   {
    "duration": 253,
    "start_time": "2022-01-15T14:41:33.959Z"
   },
   {
    "duration": 11,
    "start_time": "2022-01-15T14:42:46.919Z"
   },
   {
    "duration": 4,
    "start_time": "2022-01-15T14:43:24.765Z"
   },
   {
    "duration": 234,
    "start_time": "2022-01-15T14:43:52.127Z"
   },
   {
    "duration": 4,
    "start_time": "2022-01-15T14:44:15.798Z"
   },
   {
    "duration": 4,
    "start_time": "2022-01-15T14:44:23.558Z"
   },
   {
    "duration": 4,
    "start_time": "2022-01-15T14:45:16.655Z"
   },
   {
    "duration": 4,
    "start_time": "2022-01-15T14:45:52.877Z"
   },
   {
    "duration": 6,
    "start_time": "2022-01-15T14:46:19.637Z"
   },
   {
    "duration": 6,
    "start_time": "2022-01-15T14:46:46.427Z"
   },
   {
    "duration": 5,
    "start_time": "2022-01-15T14:46:51.062Z"
   },
   {
    "duration": 17,
    "start_time": "2022-01-15T14:58:58.159Z"
   },
   {
    "duration": 5,
    "start_time": "2022-01-15T15:01:42.375Z"
   },
   {
    "duration": 29,
    "start_time": "2022-01-15T15:03:17.613Z"
   },
   {
    "duration": 28,
    "start_time": "2022-01-15T15:08:28.189Z"
   },
   {
    "duration": 67,
    "start_time": "2022-01-15T15:24:42.127Z"
   },
   {
    "duration": 40,
    "start_time": "2022-01-15T15:25:05.479Z"
   },
   {
    "duration": 5,
    "start_time": "2022-01-15T15:28:46.424Z"
   },
   {
    "duration": 246,
    "start_time": "2022-01-15T15:30:43.399Z"
   },
   {
    "duration": 11,
    "start_time": "2022-01-15T15:33:54.757Z"
   },
   {
    "duration": 5,
    "start_time": "2022-01-15T15:34:10.964Z"
   },
   {
    "duration": 9,
    "start_time": "2022-01-15T15:34:41.011Z"
   },
   {
    "duration": 11,
    "start_time": "2022-01-15T15:34:52.216Z"
   },
   {
    "duration": 13,
    "start_time": "2022-01-15T15:35:05.230Z"
   },
   {
    "duration": 5,
    "start_time": "2022-01-15T15:35:11.035Z"
   },
   {
    "duration": 6,
    "start_time": "2022-01-15T15:37:54.494Z"
   },
   {
    "duration": 9,
    "start_time": "2022-01-15T15:44:56.830Z"
   },
   {
    "duration": 7,
    "start_time": "2022-01-15T15:45:23.592Z"
   },
   {
    "duration": 6,
    "start_time": "2022-01-15T15:45:58.308Z"
   },
   {
    "duration": 6,
    "start_time": "2022-01-15T15:51:57.661Z"
   },
   {
    "duration": 6,
    "start_time": "2022-01-15T15:52:11.502Z"
   },
   {
    "duration": 6,
    "start_time": "2022-01-15T15:52:43.052Z"
   },
   {
    "duration": 5,
    "start_time": "2022-01-15T15:52:54.262Z"
   },
   {
    "duration": 6,
    "start_time": "2022-01-15T15:53:11.780Z"
   },
   {
    "duration": 7,
    "start_time": "2022-01-15T15:55:18.390Z"
   },
   {
    "duration": 9,
    "start_time": "2022-01-15T15:55:30.132Z"
   },
   {
    "duration": 7,
    "start_time": "2022-01-15T15:55:35.213Z"
   },
   {
    "duration": 8,
    "start_time": "2022-01-15T18:02:42.248Z"
   },
   {
    "duration": 7,
    "start_time": "2022-01-15T18:02:52.520Z"
   },
   {
    "duration": 8,
    "start_time": "2022-01-15T18:04:01.746Z"
   },
   {
    "duration": 14,
    "start_time": "2022-01-15T18:05:22.913Z"
   },
   {
    "duration": 7,
    "start_time": "2022-01-15T18:05:49.689Z"
   },
   {
    "duration": 7,
    "start_time": "2022-01-15T18:06:07.836Z"
   },
   {
    "duration": 9,
    "start_time": "2022-01-15T18:06:32.119Z"
   },
   {
    "duration": 9,
    "start_time": "2022-01-15T18:07:42.697Z"
   },
   {
    "duration": 11,
    "start_time": "2022-01-15T18:07:56.991Z"
   },
   {
    "duration": 9,
    "start_time": "2022-01-15T18:09:36.184Z"
   },
   {
    "duration": 9,
    "start_time": "2022-01-15T18:12:19.886Z"
   },
   {
    "duration": 10,
    "start_time": "2022-01-15T18:13:16.190Z"
   },
   {
    "duration": 12,
    "start_time": "2022-01-15T18:14:51.814Z"
   },
   {
    "duration": 13,
    "start_time": "2022-01-15T18:15:39.029Z"
   },
   {
    "duration": 1739,
    "start_time": "2022-01-15T18:20:41.948Z"
   },
   {
    "duration": 12,
    "start_time": "2022-01-15T18:21:39.987Z"
   },
   {
    "duration": 1582,
    "start_time": "2022-01-15T18:21:54.251Z"
   },
   {
    "duration": 16,
    "start_time": "2022-01-15T18:22:03.898Z"
   },
   {
    "duration": 17,
    "start_time": "2022-01-15T18:22:18.113Z"
   },
   {
    "duration": 15,
    "start_time": "2022-01-15T18:22:28.700Z"
   },
   {
    "duration": 15,
    "start_time": "2022-01-15T18:23:49.330Z"
   },
   {
    "duration": 15,
    "start_time": "2022-01-15T18:26:27.929Z"
   },
   {
    "duration": 8,
    "start_time": "2022-01-15T18:30:57.199Z"
   },
   {
    "duration": 7,
    "start_time": "2022-01-15T18:37:18.515Z"
   },
   {
    "duration": 10,
    "start_time": "2022-01-15T18:37:27.427Z"
   },
   {
    "duration": 9,
    "start_time": "2022-01-15T18:37:41.548Z"
   },
   {
    "duration": 7,
    "start_time": "2022-01-15T18:38:52.700Z"
   },
   {
    "duration": 3227,
    "start_time": "2022-01-15T18:42:59.634Z"
   },
   {
    "duration": 6,
    "start_time": "2022-01-15T18:43:45.722Z"
   },
   {
    "duration": 7,
    "start_time": "2022-01-15T18:44:05.330Z"
   },
   {
    "duration": 6,
    "start_time": "2022-01-15T18:44:21.642Z"
   },
   {
    "duration": 8,
    "start_time": "2022-01-15T18:44:27.490Z"
   },
   {
    "duration": 9,
    "start_time": "2022-01-15T18:45:01.201Z"
   },
   {
    "duration": 3392,
    "start_time": "2022-01-15T18:45:16.970Z"
   },
   {
    "duration": 3222,
    "start_time": "2022-01-15T18:45:41.384Z"
   },
   {
    "duration": 3212,
    "start_time": "2022-01-15T18:45:52.121Z"
   },
   {
    "duration": 3176,
    "start_time": "2022-01-15T18:46:48.458Z"
   },
   {
    "duration": 10,
    "start_time": "2022-01-15T18:47:04.993Z"
   },
   {
    "duration": 3181,
    "start_time": "2022-01-15T18:47:40.632Z"
   },
   {
    "duration": 8,
    "start_time": "2022-01-15T18:49:28.344Z"
   },
   {
    "duration": 9,
    "start_time": "2022-01-15T18:49:42.398Z"
   },
   {
    "duration": 9,
    "start_time": "2022-01-15T18:50:07.231Z"
   },
   {
    "duration": 8,
    "start_time": "2022-01-15T18:50:30.576Z"
   },
   {
    "duration": 9,
    "start_time": "2022-01-15T18:50:51.327Z"
   },
   {
    "duration": 16,
    "start_time": "2022-01-15T18:51:10.536Z"
   },
   {
    "duration": 270,
    "start_time": "2022-01-15T18:51:56.241Z"
   },
   {
    "duration": 3,
    "start_time": "2022-01-15T18:52:01.950Z"
   },
   {
    "duration": 705,
    "start_time": "2022-01-15T18:52:21.096Z"
   },
   {
    "duration": 12,
    "start_time": "2022-01-15T18:52:33.825Z"
   },
   {
    "duration": 8,
    "start_time": "2022-01-15T18:52:37.672Z"
   },
   {
    "duration": 5,
    "start_time": "2022-01-15T18:53:13.953Z"
   },
   {
    "duration": 11,
    "start_time": "2022-01-15T18:53:22.448Z"
   },
   {
    "duration": 3776,
    "start_time": "2022-01-15T18:54:43.368Z"
   },
   {
    "duration": 3818,
    "start_time": "2022-01-15T18:54:48.096Z"
   },
   {
    "duration": 9,
    "start_time": "2022-01-15T18:55:32.752Z"
   },
   {
    "duration": 8,
    "start_time": "2022-01-15T18:55:43.866Z"
   },
   {
    "duration": 12,
    "start_time": "2022-01-15T18:57:28.472Z"
   },
   {
    "duration": 11,
    "start_time": "2022-01-15T18:58:02.726Z"
   },
   {
    "duration": 12,
    "start_time": "2022-01-15T18:58:35.247Z"
   },
   {
    "duration": 84,
    "start_time": "2022-01-15T19:00:05.990Z"
   },
   {
    "duration": 85,
    "start_time": "2022-01-15T19:00:19.429Z"
   },
   {
    "duration": 293,
    "start_time": "2022-01-15T19:00:31.447Z"
   },
   {
    "duration": 6,
    "start_time": "2022-01-15T19:02:33.935Z"
   },
   {
    "duration": 11,
    "start_time": "2022-01-15T19:04:14.645Z"
   },
   {
    "duration": 8,
    "start_time": "2022-01-15T19:04:27.565Z"
   },
   {
    "duration": 6,
    "start_time": "2022-01-15T19:06:35.739Z"
   },
   {
    "duration": 3348,
    "start_time": "2022-01-15T19:08:08.788Z"
   },
   {
    "duration": 7,
    "start_time": "2022-01-15T19:08:26.235Z"
   },
   {
    "duration": 21,
    "start_time": "2022-01-15T19:08:49.008Z"
   },
   {
    "duration": 3236,
    "start_time": "2022-01-15T19:11:41.305Z"
   },
   {
    "duration": 276,
    "start_time": "2022-01-15T19:12:03.151Z"
   },
   {
    "duration": 3512,
    "start_time": "2022-01-15T19:12:26.825Z"
   },
   {
    "duration": 3369,
    "start_time": "2022-01-15T19:12:30.801Z"
   },
   {
    "duration": 3458,
    "start_time": "2022-01-15T19:13:30.100Z"
   },
   {
    "duration": 23,
    "start_time": "2022-01-15T19:13:55.008Z"
   },
   {
    "duration": 8,
    "start_time": "2022-01-15T19:14:13.490Z"
   },
   {
    "duration": 9,
    "start_time": "2022-01-15T19:14:29.240Z"
   },
   {
    "duration": 9,
    "start_time": "2022-01-15T19:14:58.290Z"
   },
   {
    "duration": 9,
    "start_time": "2022-01-15T19:17:33.833Z"
   },
   {
    "duration": 9,
    "start_time": "2022-01-15T19:18:04.904Z"
   },
   {
    "duration": 8,
    "start_time": "2022-01-15T19:18:16.329Z"
   },
   {
    "duration": 230,
    "start_time": "2022-01-15T19:23:47.698Z"
   },
   {
    "duration": 240,
    "start_time": "2022-01-15T19:24:43.917Z"
   },
   {
    "duration": -73,
    "start_time": "2022-01-15T19:25:02.571Z"
   },
   {
    "duration": 8,
    "start_time": "2022-01-15T19:25:16.636Z"
   },
   {
    "duration": 8,
    "start_time": "2022-01-15T19:28:10.172Z"
   },
   {
    "duration": 246,
    "start_time": "2022-01-15T19:31:09.411Z"
   },
   {
    "duration": 251,
    "start_time": "2022-01-15T19:31:38.202Z"
   },
   {
    "duration": 6015,
    "start_time": "2022-01-15T19:33:02.202Z"
   },
   {
    "duration": 6384,
    "start_time": "2022-01-15T19:33:21.034Z"
   },
   {
    "duration": 234,
    "start_time": "2022-01-15T19:34:48.741Z"
   },
   {
    "duration": 7,
    "start_time": "2022-01-15T19:38:11.503Z"
   },
   {
    "duration": 6,
    "start_time": "2022-01-15T19:38:53.175Z"
   },
   {
    "duration": 9,
    "start_time": "2022-01-15T19:39:05.591Z"
   },
   {
    "duration": 9,
    "start_time": "2022-01-15T19:39:26.040Z"
   },
   {
    "duration": 8,
    "start_time": "2022-01-15T19:40:45.622Z"
   },
   {
    "duration": 7,
    "start_time": "2022-01-15T19:41:08.079Z"
   },
   {
    "duration": 327,
    "start_time": "2022-01-15T19:41:59.270Z"
   },
   {
    "duration": 9,
    "start_time": "2022-01-15T19:42:15.462Z"
   },
   {
    "duration": 8,
    "start_time": "2022-01-15T19:43:06.566Z"
   },
   {
    "duration": 261,
    "start_time": "2022-01-15T19:44:01.494Z"
   },
   {
    "duration": 245,
    "start_time": "2022-01-15T19:45:06.902Z"
   },
   {
    "duration": 245,
    "start_time": "2022-01-15T19:45:42.974Z"
   },
   {
    "duration": 250,
    "start_time": "2022-01-15T19:47:41.603Z"
   },
   {
    "duration": 25,
    "start_time": "2022-01-15T19:48:05.629Z"
   },
   {
    "duration": 11,
    "start_time": "2022-01-15T19:48:17.716Z"
   },
   {
    "duration": 79,
    "start_time": "2022-01-15T19:48:40.221Z"
   },
   {
    "duration": 77,
    "start_time": "2022-01-15T19:48:49.396Z"
   },
   {
    "duration": 23,
    "start_time": "2022-01-15T19:49:10.244Z"
   },
   {
    "duration": 8,
    "start_time": "2022-01-15T19:50:45.325Z"
   },
   {
    "duration": 76,
    "start_time": "2022-01-15T19:52:12.458Z"
   },
   {
    "duration": 242,
    "start_time": "2022-01-15T19:52:50.643Z"
   },
   {
    "duration": 8,
    "start_time": "2022-01-15T19:53:23.994Z"
   },
   {
    "duration": 243,
    "start_time": "2022-01-15T19:54:16.483Z"
   },
   {
    "duration": 116,
    "start_time": "2022-01-15T19:55:15.346Z"
   },
   {
    "duration": 8,
    "start_time": "2022-01-15T19:55:21.041Z"
   },
   {
    "duration": 291,
    "start_time": "2022-01-15T19:57:14.969Z"
   },
   {
    "duration": 9,
    "start_time": "2022-01-15T20:00:14.871Z"
   },
   {
    "duration": 9,
    "start_time": "2022-01-15T20:03:23.374Z"
   },
   {
    "duration": 6,
    "start_time": "2022-01-15T20:04:11.709Z"
   },
   {
    "duration": 7,
    "start_time": "2022-01-15T20:05:34.239Z"
   },
   {
    "duration": 6,
    "start_time": "2022-01-15T20:07:26.149Z"
   },
   {
    "duration": 8,
    "start_time": "2022-01-15T20:07:34.507Z"
   },
   {
    "duration": 21,
    "start_time": "2022-01-15T20:07:39.757Z"
   },
   {
    "duration": 13,
    "start_time": "2022-01-15T20:07:59.091Z"
   },
   {
    "duration": 241,
    "start_time": "2022-01-15T20:11:46.048Z"
   },
   {
    "duration": 273,
    "start_time": "2022-01-15T20:12:10.930Z"
   },
   {
    "duration": 12,
    "start_time": "2022-01-15T20:12:46.829Z"
   },
   {
    "duration": 240,
    "start_time": "2022-01-15T20:13:24.563Z"
   },
   {
    "duration": 228,
    "start_time": "2022-01-15T20:13:41.699Z"
   },
   {
    "duration": 234,
    "start_time": "2022-01-15T20:13:46.402Z"
   },
   {
    "duration": 9,
    "start_time": "2022-01-15T20:14:49.594Z"
   },
   {
    "duration": 9,
    "start_time": "2022-01-15T20:15:19.731Z"
   },
   {
    "duration": 7,
    "start_time": "2022-01-15T20:17:44.833Z"
   },
   {
    "duration": 7,
    "start_time": "2022-01-15T20:18:35.593Z"
   },
   {
    "duration": 7,
    "start_time": "2022-01-15T20:23:18.203Z"
   },
   {
    "duration": 2,
    "start_time": "2022-01-15T20:25:25.622Z"
   },
   {
    "duration": 11,
    "start_time": "2022-01-15T20:27:09.587Z"
   },
   {
    "duration": 6,
    "start_time": "2022-01-15T20:28:17.557Z"
   },
   {
    "duration": 337,
    "start_time": "2022-01-16T07:09:01.681Z"
   },
   {
    "duration": 2,
    "start_time": "2022-01-16T07:09:09.085Z"
   },
   {
    "duration": 282,
    "start_time": "2022-01-16T07:09:16.924Z"
   },
   {
    "duration": 3,
    "start_time": "2022-01-16T07:09:24.054Z"
   },
   {
    "duration": 254,
    "start_time": "2022-01-16T07:09:27.412Z"
   },
   {
    "duration": 790,
    "start_time": "2022-01-16T07:09:35.620Z"
   },
   {
    "duration": 12,
    "start_time": "2022-01-16T07:09:46.487Z"
   },
   {
    "duration": 3,
    "start_time": "2022-01-16T07:11:18.108Z"
   },
   {
    "duration": 7,
    "start_time": "2022-01-16T07:19:13.525Z"
   },
   {
    "duration": 6,
    "start_time": "2022-01-16T07:20:57.585Z"
   },
   {
    "duration": 7,
    "start_time": "2022-01-16T07:21:42.722Z"
   },
   {
    "duration": 7,
    "start_time": "2022-01-16T07:22:26.793Z"
   },
   {
    "duration": 9,
    "start_time": "2022-01-16T07:22:38.401Z"
   },
   {
    "duration": 5,
    "start_time": "2022-01-16T07:23:37.297Z"
   },
   {
    "duration": 8,
    "start_time": "2022-01-16T07:23:50.176Z"
   },
   {
    "duration": 9,
    "start_time": "2022-01-16T07:24:10.423Z"
   },
   {
    "duration": 14,
    "start_time": "2022-01-16T07:24:27.120Z"
   },
   {
    "duration": 7,
    "start_time": "2022-01-16T07:24:56.409Z"
   },
   {
    "duration": 327,
    "start_time": "2022-01-16T07:26:35.858Z"
   },
   {
    "duration": 7016,
    "start_time": "2022-01-16T07:28:33.295Z"
   },
   {
    "duration": 9,
    "start_time": "2022-01-16T07:30:13.543Z"
   },
   {
    "duration": 18,
    "start_time": "2022-01-16T07:31:10.445Z"
   },
   {
    "duration": 15,
    "start_time": "2022-01-16T07:31:37.861Z"
   },
   {
    "duration": 2,
    "start_time": "2022-01-16T07:31:44.141Z"
   },
   {
    "duration": 39,
    "start_time": "2022-01-16T07:35:43.827Z"
   },
   {
    "duration": 17,
    "start_time": "2022-01-16T07:36:21.843Z"
   },
   {
    "duration": 38,
    "start_time": "2022-01-16T07:36:56.579Z"
   },
   {
    "duration": 20,
    "start_time": "2022-01-16T07:37:51.613Z"
   },
   {
    "duration": 17,
    "start_time": "2022-01-16T07:37:57.187Z"
   },
   {
    "duration": 13,
    "start_time": "2022-01-16T07:38:26.523Z"
   },
   {
    "duration": 267,
    "start_time": "2022-01-16T07:39:07.004Z"
   },
   {
    "duration": 279,
    "start_time": "2022-01-16T07:40:44.963Z"
   },
   {
    "duration": 102,
    "start_time": "2022-01-16T07:41:42.043Z"
   },
   {
    "duration": 99,
    "start_time": "2022-01-16T07:41:58.749Z"
   },
   {
    "duration": 252,
    "start_time": "2022-01-16T08:07:50.877Z"
   },
   {
    "duration": 87,
    "start_time": "2022-01-16T08:08:01.931Z"
   },
   {
    "duration": 88,
    "start_time": "2022-01-16T08:08:22.808Z"
   },
   {
    "duration": 2,
    "start_time": "2022-01-16T08:08:31.802Z"
   },
   {
    "duration": 3,
    "start_time": "2022-01-16T08:08:34.810Z"
   },
   {
    "duration": 2,
    "start_time": "2022-01-16T08:08:51.947Z"
   },
   {
    "duration": 4,
    "start_time": "2022-01-16T08:09:50.562Z"
   },
   {
    "duration": 5,
    "start_time": "2022-01-16T08:09:59.969Z"
   },
   {
    "duration": 16,
    "start_time": "2022-01-16T08:14:12.695Z"
   },
   {
    "duration": 7,
    "start_time": "2022-01-16T08:14:49.008Z"
   },
   {
    "duration": 2,
    "start_time": "2022-01-16T08:15:14.896Z"
   },
   {
    "duration": 33,
    "start_time": "2022-01-16T08:16:03.927Z"
   },
   {
    "duration": 32,
    "start_time": "2022-01-16T08:16:30.815Z"
   },
   {
    "duration": 28,
    "start_time": "2022-01-16T08:17:15.424Z"
   },
   {
    "duration": 9,
    "start_time": "2022-01-16T08:19:05.015Z"
   },
   {
    "duration": 26,
    "start_time": "2022-01-16T08:19:18.183Z"
   },
   {
    "duration": 2,
    "start_time": "2022-01-16T08:20:09.909Z"
   },
   {
    "duration": 4,
    "start_time": "2022-01-16T08:24:03.542Z"
   },
   {
    "duration": 279,
    "start_time": "2022-01-16T08:25:05.134Z"
   },
   {
    "duration": 4,
    "start_time": "2022-01-16T08:25:15.284Z"
   },
   {
    "duration": 8,
    "start_time": "2022-01-16T08:25:27.909Z"
   },
   {
    "duration": 7,
    "start_time": "2022-01-16T08:26:10.540Z"
   },
   {
    "duration": 7,
    "start_time": "2022-01-16T08:28:22.227Z"
   },
   {
    "duration": 6,
    "start_time": "2022-01-16T08:29:52.619Z"
   },
   {
    "duration": 8,
    "start_time": "2022-01-16T08:29:56.985Z"
   },
   {
    "duration": 14,
    "start_time": "2022-01-16T08:30:59.811Z"
   },
   {
    "duration": 15,
    "start_time": "2022-01-16T08:33:19.674Z"
   },
   {
    "duration": 4,
    "start_time": "2022-01-16T08:59:10.045Z"
   },
   {
    "duration": 522,
    "start_time": "2022-01-16T09:02:23.548Z"
   },
   {
    "duration": 6591,
    "start_time": "2022-01-16T09:07:26.650Z"
   },
   {
    "duration": 83,
    "start_time": "2022-01-16T09:07:50.333Z"
   },
   {
    "duration": 278,
    "start_time": "2022-01-16T09:07:59.869Z"
   },
   {
    "duration": 1957,
    "start_time": "2022-01-16T09:09:04.142Z"
   },
   {
    "duration": 278,
    "start_time": "2022-01-16T09:09:26.069Z"
   },
   {
    "duration": 1908,
    "start_time": "2022-01-16T09:11:12.967Z"
   },
   {
    "duration": 7720,
    "start_time": "2022-01-16T09:11:28.213Z"
   },
   {
    "duration": 4,
    "start_time": "2022-01-16T12:50:09.491Z"
   },
   {
    "duration": 5,
    "start_time": "2022-01-16T12:55:03.095Z"
   },
   {
    "duration": 516,
    "start_time": "2022-01-16T12:55:08.690Z"
   },
   {
    "duration": 5,
    "start_time": "2022-01-16T13:00:33.311Z"
   },
   {
    "duration": 362,
    "start_time": "2022-01-16T13:00:38.944Z"
   },
   {
    "duration": 6,
    "start_time": "2022-01-16T13:01:49.008Z"
   },
   {
    "duration": 516,
    "start_time": "2022-01-16T13:01:51.111Z"
   },
   {
    "duration": 791,
    "start_time": "2022-01-16T13:02:09.013Z"
   },
   {
    "duration": 4,
    "start_time": "2022-01-16T13:02:18.496Z"
   },
   {
    "duration": 494,
    "start_time": "2022-01-16T13:02:21.424Z"
   },
   {
    "duration": 551,
    "start_time": "2022-01-16T13:02:36.985Z"
   },
   {
    "duration": 551,
    "start_time": "2022-01-16T13:03:01.679Z"
   },
   {
    "duration": 342,
    "start_time": "2022-01-16T13:03:48.278Z"
   },
   {
    "duration": 797,
    "start_time": "2022-01-16T13:04:06.329Z"
   },
   {
    "duration": 365,
    "start_time": "2022-01-16T13:05:23.805Z"
   },
   {
    "duration": 287,
    "start_time": "2022-01-16T13:05:30.258Z"
   },
   {
    "duration": 27,
    "start_time": "2022-01-16T13:05:34.488Z"
   },
   {
    "duration": 261,
    "start_time": "2022-01-16T13:05:41.704Z"
   },
   {
    "duration": 265,
    "start_time": "2022-01-16T13:06:01.927Z"
   },
   {
    "duration": 6556,
    "start_time": "2022-01-16T13:06:08.077Z"
   },
   {
    "duration": 2017,
    "start_time": "2022-01-16T13:06:12.618Z"
   },
   {
    "duration": 279,
    "start_time": "2022-01-16T13:06:18.457Z"
   },
   {
    "duration": 268,
    "start_time": "2022-01-16T13:06:25.306Z"
   },
   {
    "duration": 262,
    "start_time": "2022-01-16T13:06:35.919Z"
   },
   {
    "duration": 11,
    "start_time": "2022-01-16T13:06:36.183Z"
   },
   {
    "duration": 8,
    "start_time": "2022-01-16T13:06:36.196Z"
   },
   {
    "duration": 21,
    "start_time": "2022-01-16T13:06:36.205Z"
   },
   {
    "duration": 5,
    "start_time": "2022-01-16T13:06:36.228Z"
   },
   {
    "duration": 15,
    "start_time": "2022-01-16T13:06:36.235Z"
   },
   {
    "duration": 22,
    "start_time": "2022-01-16T13:06:36.252Z"
   },
   {
    "duration": 57,
    "start_time": "2022-01-16T13:06:36.277Z"
   },
   {
    "duration": 51,
    "start_time": "2022-01-16T13:06:36.336Z"
   },
   {
    "duration": 2,
    "start_time": "2022-01-16T13:06:36.399Z"
   },
   {
    "duration": 6,
    "start_time": "2022-01-16T13:06:36.402Z"
   },
   {
    "duration": 7,
    "start_time": "2022-01-16T13:06:36.410Z"
   },
   {
    "duration": 9,
    "start_time": "2022-01-16T13:06:36.419Z"
   },
   {
    "duration": 7,
    "start_time": "2022-01-16T13:06:36.430Z"
   },
   {
    "duration": 6,
    "start_time": "2022-01-16T13:06:36.439Z"
   },
   {
    "duration": 9,
    "start_time": "2022-01-16T13:06:36.446Z"
   },
   {
    "duration": 4,
    "start_time": "2022-01-16T13:06:36.457Z"
   },
   {
    "duration": 47,
    "start_time": "2022-01-16T13:06:36.463Z"
   },
   {
    "duration": 9,
    "start_time": "2022-01-16T13:06:36.512Z"
   },
   {
    "duration": 5,
    "start_time": "2022-01-16T13:06:36.522Z"
   },
   {
    "duration": 9,
    "start_time": "2022-01-16T13:06:36.528Z"
   },
   {
    "duration": 11,
    "start_time": "2022-01-16T13:06:36.539Z"
   },
   {
    "duration": 6,
    "start_time": "2022-01-16T13:06:36.554Z"
   },
   {
    "duration": 39,
    "start_time": "2022-01-16T13:06:36.562Z"
   },
   {
    "duration": 2,
    "start_time": "2022-01-16T13:06:36.602Z"
   },
   {
    "duration": 6,
    "start_time": "2022-01-16T13:06:36.606Z"
   },
   {
    "duration": 9,
    "start_time": "2022-01-16T13:06:36.614Z"
   },
   {
    "duration": 12,
    "start_time": "2022-01-16T13:06:36.625Z"
   },
   {
    "duration": 6,
    "start_time": "2022-01-16T13:06:36.639Z"
   },
   {
    "duration": 8,
    "start_time": "2022-01-16T13:06:36.647Z"
   },
   {
    "duration": 7,
    "start_time": "2022-01-16T13:06:36.656Z"
   },
   {
    "duration": 37,
    "start_time": "2022-01-16T13:06:36.664Z"
   },
   {
    "duration": 15,
    "start_time": "2022-01-16T13:06:36.703Z"
   },
   {
    "duration": 17,
    "start_time": "2022-01-16T13:06:36.720Z"
   },
   {
    "duration": 15,
    "start_time": "2022-01-16T13:06:36.738Z"
   },
   {
    "duration": 9,
    "start_time": "2022-01-16T13:06:36.755Z"
   },
   {
    "duration": 33,
    "start_time": "2022-01-16T13:06:36.766Z"
   },
   {
    "duration": 6,
    "start_time": "2022-01-16T13:06:36.801Z"
   },
   {
    "duration": 6,
    "start_time": "2022-01-16T13:06:36.809Z"
   },
   {
    "duration": 33,
    "start_time": "2022-01-16T13:06:36.817Z"
   },
   {
    "duration": 23,
    "start_time": "2022-01-16T13:06:36.852Z"
   },
   {
    "duration": 37,
    "start_time": "2022-01-16T13:06:36.877Z"
   },
   {
    "duration": 13,
    "start_time": "2022-01-16T13:06:36.916Z"
   },
   {
    "duration": 21,
    "start_time": "2022-01-16T13:06:36.931Z"
   },
   {
    "duration": 14,
    "start_time": "2022-01-16T13:06:36.954Z"
   },
   {
    "duration": 34,
    "start_time": "2022-01-16T13:06:36.970Z"
   },
   {
    "duration": 13,
    "start_time": "2022-01-16T13:06:37.006Z"
   },
   {
    "duration": 20,
    "start_time": "2022-01-16T13:06:37.020Z"
   },
   {
    "duration": 20,
    "start_time": "2022-01-16T13:06:37.042Z"
   },
   {
    "duration": 17,
    "start_time": "2022-01-16T13:06:37.064Z"
   },
   {
    "duration": 19,
    "start_time": "2022-01-16T13:06:37.083Z"
   },
   {
    "duration": 8,
    "start_time": "2022-01-16T13:06:37.104Z"
   },
   {
    "duration": 18,
    "start_time": "2022-01-16T13:06:37.115Z"
   },
   {
    "duration": 16,
    "start_time": "2022-01-16T13:06:37.135Z"
   },
   {
    "duration": 13,
    "start_time": "2022-01-16T13:06:37.153Z"
   },
   {
    "duration": 27,
    "start_time": "2022-01-16T13:06:37.168Z"
   },
   {
    "duration": 17,
    "start_time": "2022-01-16T13:06:37.197Z"
   },
   {
    "duration": 14,
    "start_time": "2022-01-16T13:06:37.216Z"
   },
   {
    "duration": 9,
    "start_time": "2022-01-16T13:06:37.232Z"
   },
   {
    "duration": 7,
    "start_time": "2022-01-16T13:06:37.243Z"
   },
   {
    "duration": 5,
    "start_time": "2022-01-16T13:06:37.252Z"
   },
   {
    "duration": 6,
    "start_time": "2022-01-16T13:06:37.259Z"
   },
   {
    "duration": 5,
    "start_time": "2022-01-16T13:06:37.267Z"
   },
   {
    "duration": 5,
    "start_time": "2022-01-16T13:06:37.274Z"
   },
   {
    "duration": 4,
    "start_time": "2022-01-16T13:06:37.281Z"
   },
   {
    "duration": 8,
    "start_time": "2022-01-16T13:06:37.287Z"
   },
   {
    "duration": 4,
    "start_time": "2022-01-16T13:06:37.297Z"
   },
   {
    "duration": 3,
    "start_time": "2022-01-16T13:06:37.307Z"
   },
   {
    "duration": 4,
    "start_time": "2022-01-16T13:06:37.312Z"
   },
   {
    "duration": 5,
    "start_time": "2022-01-16T13:06:37.318Z"
   },
   {
    "duration": 5,
    "start_time": "2022-01-16T13:06:37.324Z"
   },
   {
    "duration": 415,
    "start_time": "2022-01-16T13:07:04.312Z"
   },
   {
    "duration": 89,
    "start_time": "2022-01-16T13:07:11.560Z"
   },
   {
    "duration": 487,
    "start_time": "2022-01-16T13:07:19.087Z"
   },
   {
    "duration": 497,
    "start_time": "2022-01-16T13:08:49.233Z"
   },
   {
    "duration": 487,
    "start_time": "2022-01-16T13:12:22.608Z"
   },
   {
    "duration": 4,
    "start_time": "2022-01-16T13:17:52.809Z"
   },
   {
    "duration": 538,
    "start_time": "2022-01-16T13:18:04.373Z"
   },
   {
    "duration": 7,
    "start_time": "2022-01-16T13:19:13.197Z"
   },
   {
    "duration": 483,
    "start_time": "2022-01-16T13:19:18.797Z"
   },
   {
    "duration": 479,
    "start_time": "2022-01-16T13:19:30.715Z"
   },
   {
    "duration": 471,
    "start_time": "2022-01-16T13:19:47.301Z"
   },
   {
    "duration": 4,
    "start_time": "2022-01-16T13:21:22.059Z"
   },
   {
    "duration": 523,
    "start_time": "2022-01-16T13:21:26.556Z"
   },
   {
    "duration": 4,
    "start_time": "2022-01-16T13:25:04.171Z"
   },
   {
    "duration": 479,
    "start_time": "2022-01-16T13:25:07.379Z"
   },
   {
    "duration": 3,
    "start_time": "2022-01-16T13:26:23.618Z"
   },
   {
    "duration": 3,
    "start_time": "2022-01-16T13:26:30.018Z"
   },
   {
    "duration": 5,
    "start_time": "2022-01-16T13:26:42.578Z"
   },
   {
    "duration": 6,
    "start_time": "2022-01-16T13:29:24.760Z"
   },
   {
    "duration": 4,
    "start_time": "2022-01-16T13:30:17.905Z"
   },
   {
    "duration": 11,
    "start_time": "2022-01-16T13:31:28.386Z"
   },
   {
    "duration": 14,
    "start_time": "2022-01-16T13:33:00.827Z"
   },
   {
    "duration": 13,
    "start_time": "2022-01-16T13:34:03.088Z"
   },
   {
    "duration": 20,
    "start_time": "2022-01-16T13:40:31.385Z"
   },
   {
    "duration": 14,
    "start_time": "2022-01-16T13:41:11.726Z"
   },
   {
    "duration": 17,
    "start_time": "2022-01-16T13:41:32.461Z"
   },
   {
    "duration": 13,
    "start_time": "2022-01-16T13:41:49.940Z"
   },
   {
    "duration": 24,
    "start_time": "2022-01-16T13:42:18.434Z"
   },
   {
    "duration": 13,
    "start_time": "2022-01-16T13:42:27.348Z"
   },
   {
    "duration": 14,
    "start_time": "2022-01-16T13:42:39.989Z"
   },
   {
    "duration": 14,
    "start_time": "2022-01-16T13:43:29.554Z"
   },
   {
    "duration": 277,
    "start_time": "2022-01-16T13:58:28.444Z"
   },
   {
    "duration": 15,
    "start_time": "2022-01-16T13:58:37.766Z"
   },
   {
    "duration": 268,
    "start_time": "2022-01-16T14:06:49.887Z"
   },
   {
    "duration": 3,
    "start_time": "2022-01-16T14:07:59.395Z"
   },
   {
    "duration": 467,
    "start_time": "2022-01-16T14:08:02.661Z"
   },
   {
    "duration": 454,
    "start_time": "2022-01-16T14:08:07.908Z"
   },
   {
    "duration": 461,
    "start_time": "2022-01-16T14:08:23.389Z"
   },
   {
    "duration": 7,
    "start_time": "2022-01-16T15:01:00.896Z"
   },
   {
    "duration": 8,
    "start_time": "2022-01-16T15:01:47.217Z"
   },
   {
    "duration": 41,
    "start_time": "2022-01-16T15:02:04.618Z"
   },
   {
    "duration": 6,
    "start_time": "2022-01-16T15:03:57.561Z"
   },
   {
    "duration": 21,
    "start_time": "2022-01-16T15:06:12.678Z"
   },
   {
    "duration": 12,
    "start_time": "2022-01-16T17:15:54.488Z"
   },
   {
    "duration": 5,
    "start_time": "2022-01-16T17:16:08.226Z"
   },
   {
    "duration": 5,
    "start_time": "2022-01-16T17:16:25.523Z"
   },
   {
    "duration": 11,
    "start_time": "2022-01-16T17:17:27.050Z"
   },
   {
    "duration": 5,
    "start_time": "2022-01-16T17:17:32.010Z"
   },
   {
    "duration": 15,
    "start_time": "2022-01-16T17:18:19.297Z"
   },
   {
    "duration": 6,
    "start_time": "2022-01-16T17:18:34.857Z"
   },
   {
    "duration": 6,
    "start_time": "2022-01-16T17:22:05.831Z"
   },
   {
    "duration": 10,
    "start_time": "2022-01-16T17:22:11.801Z"
   },
   {
    "duration": 16,
    "start_time": "2022-01-16T17:26:38.686Z"
   },
   {
    "duration": 15,
    "start_time": "2022-01-16T17:26:50.798Z"
   },
   {
    "duration": 14,
    "start_time": "2022-01-16T17:27:29.869Z"
   },
   {
    "duration": 273,
    "start_time": "2022-01-16T17:29:48.540Z"
   },
   {
    "duration": 283,
    "start_time": "2022-01-16T17:30:24.606Z"
   },
   {
    "duration": 11,
    "start_time": "2022-01-16T17:31:21.494Z"
   },
   {
    "duration": 14,
    "start_time": "2022-01-16T17:31:27.997Z"
   },
   {
    "duration": 13,
    "start_time": "2022-01-16T17:32:25.309Z"
   },
   {
    "duration": 25,
    "start_time": "2022-01-16T17:32:56.813Z"
   },
   {
    "duration": 25,
    "start_time": "2022-01-16T17:33:49.339Z"
   },
   {
    "duration": 7,
    "start_time": "2022-01-16T17:35:29.525Z"
   },
   {
    "duration": 5,
    "start_time": "2022-01-16T19:28:43.483Z"
   },
   {
    "duration": 9,
    "start_time": "2022-01-16T19:29:27.653Z"
   },
   {
    "duration": 10,
    "start_time": "2022-01-16T19:37:55.280Z"
   },
   {
    "duration": 10,
    "start_time": "2022-01-16T19:38:15.129Z"
   },
   {
    "duration": 6,
    "start_time": "2022-01-16T19:44:16.048Z"
   },
   {
    "duration": 9,
    "start_time": "2022-01-16T19:44:23.743Z"
   },
   {
    "duration": 5,
    "start_time": "2022-01-16T19:56:26.240Z"
   },
   {
    "duration": 591,
    "start_time": "2022-01-16T19:56:28.588Z"
   },
   {
    "duration": 310,
    "start_time": "2022-01-16T19:56:31.947Z"
   },
   {
    "duration": 1347,
    "start_time": "2022-01-16T19:57:20.361Z"
   },
   {
    "duration": 6,
    "start_time": "2022-01-16T19:57:23.019Z"
   },
   {
    "duration": 9,
    "start_time": "2022-01-16T20:13:58.977Z"
   },
   {
    "duration": 5,
    "start_time": "2022-01-16T20:14:01.837Z"
   },
   {
    "duration": 9,
    "start_time": "2022-01-16T20:15:17.990Z"
   },
   {
    "duration": 5,
    "start_time": "2022-01-16T20:15:21.478Z"
   },
   {
    "duration": 3,
    "start_time": "2022-01-16T20:20:12.432Z"
   },
   {
    "duration": 5,
    "start_time": "2022-01-16T20:25:05.230Z"
   },
   {
    "duration": 4,
    "start_time": "2022-01-16T20:27:35.906Z"
   },
   {
    "duration": 4,
    "start_time": "2022-01-16T20:28:52.511Z"
   },
   {
    "duration": 5,
    "start_time": "2022-01-16T20:28:55.024Z"
   },
   {
    "duration": 278,
    "start_time": "2022-01-16T20:30:37.985Z"
   },
   {
    "duration": 1780,
    "start_time": "2022-01-16T20:30:51.169Z"
   },
   {
    "duration": 1783,
    "start_time": "2022-01-16T20:31:04.952Z"
   },
   {
    "duration": 259,
    "start_time": "2022-01-16T20:31:53.746Z"
   },
   {
    "duration": 8,
    "start_time": "2022-01-16T20:32:09.952Z"
   },
   {
    "duration": 27,
    "start_time": "2022-01-16T20:34:27.472Z"
   },
   {
    "duration": 3,
    "start_time": "2022-01-16T20:35:27.567Z"
   },
   {
    "duration": 4,
    "start_time": "2022-01-16T20:35:29.823Z"
   },
   {
    "duration": 1742,
    "start_time": "2022-01-16T20:35:37.142Z"
   },
   {
    "duration": 11,
    "start_time": "2022-01-16T20:35:44.544Z"
   },
   {
    "duration": 8,
    "start_time": "2022-01-16T20:35:53.992Z"
   },
   {
    "duration": 9,
    "start_time": "2022-01-16T20:37:01.246Z"
   },
   {
    "duration": 5,
    "start_time": "2022-01-16T20:37:23.725Z"
   },
   {
    "duration": 3,
    "start_time": "2022-01-16T20:48:33.824Z"
   },
   {
    "duration": 4,
    "start_time": "2022-01-16T20:49:18.617Z"
   },
   {
    "duration": 20,
    "start_time": "2022-01-16T20:51:19.015Z"
   },
   {
    "duration": 22,
    "start_time": "2022-01-16T20:51:50.519Z"
   },
   {
    "duration": 7,
    "start_time": "2022-01-16T20:52:35.761Z"
   },
   {
    "duration": 5,
    "start_time": "2022-01-16T21:00:18.713Z"
   },
   {
    "duration": 6,
    "start_time": "2022-01-16T21:00:36.438Z"
   },
   {
    "duration": 6,
    "start_time": "2022-01-16T21:00:55.974Z"
   },
   {
    "duration": 7,
    "start_time": "2022-01-16T21:01:49.813Z"
   },
   {
    "duration": 271,
    "start_time": "2022-01-16T21:03:36.292Z"
   },
   {
    "duration": 267,
    "start_time": "2022-01-16T21:04:15.222Z"
   },
   {
    "duration": 25,
    "start_time": "2022-01-16T21:04:24.747Z"
   },
   {
    "duration": 7,
    "start_time": "2022-01-16T21:05:17.684Z"
   },
   {
    "duration": 7,
    "start_time": "2022-01-16T21:05:46.764Z"
   },
   {
    "duration": 24,
    "start_time": "2022-01-16T21:06:11.259Z"
   },
   {
    "duration": 6,
    "start_time": "2022-01-16T21:07:09.995Z"
   },
   {
    "duration": 14,
    "start_time": "2022-01-16T21:07:39.451Z"
   },
   {
    "duration": 8,
    "start_time": "2022-01-16T21:08:09.642Z"
   },
   {
    "duration": 10,
    "start_time": "2022-01-16T21:09:07.234Z"
   },
   {
    "duration": 292,
    "start_time": "2022-01-16T21:09:31.706Z"
   },
   {
    "duration": 8,
    "start_time": "2022-01-16T21:10:09.626Z"
   },
   {
    "duration": 7,
    "start_time": "2022-01-16T21:11:53.625Z"
   },
   {
    "duration": 7,
    "start_time": "2022-01-16T21:18:57.986Z"
   },
   {
    "duration": 10,
    "start_time": "2022-01-16T21:19:13.127Z"
   },
   {
    "duration": 8,
    "start_time": "2022-01-16T21:23:44.060Z"
   },
   {
    "duration": 10,
    "start_time": "2022-01-16T21:24:08.082Z"
   },
   {
    "duration": 8,
    "start_time": "2022-01-16T21:32:16.543Z"
   },
   {
    "duration": 697,
    "start_time": "2022-01-18T16:35:47.152Z"
   },
   {
    "duration": 860,
    "start_time": "2022-01-18T16:35:52.272Z"
   },
   {
    "duration": 277,
    "start_time": "2022-01-18T16:35:57.364Z"
   },
   {
    "duration": 91,
    "start_time": "2022-01-18T17:04:34.363Z"
   },
   {
    "duration": 47,
    "start_time": "2022-01-18T17:06:49.181Z"
   },
   {
    "duration": 37,
    "start_time": "2022-01-18T17:08:14.507Z"
   },
   {
    "duration": 101,
    "start_time": "2022-01-18T17:20:44.657Z"
   },
   {
    "duration": 17,
    "start_time": "2022-01-18T17:20:57.278Z"
   },
   {
    "duration": 106,
    "start_time": "2022-01-18T17:27:47.221Z"
   },
   {
    "duration": 92,
    "start_time": "2022-01-18T17:33:28.471Z"
   },
   {
    "duration": 321,
    "start_time": "2022-01-18T17:35:00.484Z"
   },
   {
    "duration": 38,
    "start_time": "2022-01-18T17:35:16.766Z"
   },
   {
    "duration": 322,
    "start_time": "2022-01-18T17:35:27.281Z"
   },
   {
    "duration": 5,
    "start_time": "2022-01-18T17:35:46.463Z"
   },
   {
    "duration": 16,
    "start_time": "2022-01-18T17:35:53.767Z"
   },
   {
    "duration": 10,
    "start_time": "2022-01-18T17:35:56.910Z"
   },
   {
    "duration": 346,
    "start_time": "2022-01-18T17:36:23.857Z"
   },
   {
    "duration": 12,
    "start_time": "2022-01-18T17:36:37.591Z"
   },
   {
    "duration": 288,
    "start_time": "2022-01-18T17:36:46.422Z"
   },
   {
    "duration": 17,
    "start_time": "2022-01-18T17:37:06.069Z"
   },
   {
    "duration": 12,
    "start_time": "2022-01-18T17:37:07.567Z"
   },
   {
    "duration": 61,
    "start_time": "2022-01-18T17:37:20.281Z"
   },
   {
    "duration": 23,
    "start_time": "2022-01-18T17:37:32.350Z"
   },
   {
    "duration": 20,
    "start_time": "2022-01-18T17:37:51.094Z"
   },
   {
    "duration": 816,
    "start_time": "2022-01-18T17:43:44.842Z"
   },
   {
    "duration": 1168,
    "start_time": "2022-01-19T16:47:46.695Z"
   },
   {
    "duration": 162,
    "start_time": "2022-01-19T16:47:47.865Z"
   },
   {
    "duration": 11,
    "start_time": "2022-01-19T16:47:48.029Z"
   },
   {
    "duration": 8,
    "start_time": "2022-01-19T16:47:48.042Z"
   },
   {
    "duration": 22,
    "start_time": "2022-01-19T16:47:48.051Z"
   },
   {
    "duration": 24,
    "start_time": "2022-01-19T16:47:48.075Z"
   },
   {
    "duration": 23,
    "start_time": "2022-01-19T16:47:48.101Z"
   },
   {
    "duration": 19,
    "start_time": "2022-01-19T16:47:48.125Z"
   },
   {
    "duration": 68,
    "start_time": "2022-01-19T16:47:48.147Z"
   },
   {
    "duration": 52,
    "start_time": "2022-01-19T16:47:48.217Z"
   },
   {
    "duration": 3,
    "start_time": "2022-01-19T16:47:48.270Z"
   },
   {
    "duration": 24,
    "start_time": "2022-01-19T16:47:48.274Z"
   },
   {
    "duration": 7,
    "start_time": "2022-01-19T16:47:48.300Z"
   },
   {
    "duration": 10,
    "start_time": "2022-01-19T16:47:48.309Z"
   },
   {
    "duration": 12,
    "start_time": "2022-01-19T16:47:48.320Z"
   },
   {
    "duration": 10,
    "start_time": "2022-01-19T16:47:48.333Z"
   },
   {
    "duration": 12,
    "start_time": "2022-01-19T16:47:48.344Z"
   },
   {
    "duration": 5,
    "start_time": "2022-01-19T16:47:48.358Z"
   },
   {
    "duration": 51,
    "start_time": "2022-01-19T16:47:48.364Z"
   },
   {
    "duration": 8,
    "start_time": "2022-01-19T16:47:48.417Z"
   },
   {
    "duration": 5,
    "start_time": "2022-01-19T16:47:48.426Z"
   },
   {
    "duration": 7,
    "start_time": "2022-01-19T16:47:48.433Z"
   },
   {
    "duration": 8,
    "start_time": "2022-01-19T16:47:48.442Z"
   },
   {
    "duration": 6,
    "start_time": "2022-01-19T16:47:48.451Z"
   },
   {
    "duration": 41,
    "start_time": "2022-01-19T16:47:48.458Z"
   },
   {
    "duration": 2,
    "start_time": "2022-01-19T16:47:48.501Z"
   },
   {
    "duration": 2,
    "start_time": "2022-01-19T16:47:48.508Z"
   },
   {
    "duration": 8,
    "start_time": "2022-01-19T16:47:48.513Z"
   },
   {
    "duration": 12,
    "start_time": "2022-01-19T16:47:48.523Z"
   },
   {
    "duration": 7,
    "start_time": "2022-01-19T16:47:48.536Z"
   },
   {
    "duration": 7,
    "start_time": "2022-01-19T16:47:48.545Z"
   },
   {
    "duration": 7,
    "start_time": "2022-01-19T16:47:48.554Z"
   },
   {
    "duration": 7,
    "start_time": "2022-01-19T16:47:48.598Z"
   },
   {
    "duration": 18,
    "start_time": "2022-01-19T16:47:48.606Z"
   },
   {
    "duration": 16,
    "start_time": "2022-01-19T16:47:48.626Z"
   },
   {
    "duration": 16,
    "start_time": "2022-01-19T16:47:48.644Z"
   },
   {
    "duration": 38,
    "start_time": "2022-01-19T16:47:48.661Z"
   },
   {
    "duration": 3,
    "start_time": "2022-01-19T16:47:48.700Z"
   },
   {
    "duration": 6,
    "start_time": "2022-01-19T16:47:48.704Z"
   },
   {
    "duration": 6,
    "start_time": "2022-01-19T16:47:48.712Z"
   },
   {
    "duration": 9,
    "start_time": "2022-01-19T16:47:48.720Z"
   },
   {
    "duration": 13,
    "start_time": "2022-01-19T16:47:48.731Z"
   },
   {
    "duration": 35,
    "start_time": "2022-01-19T16:47:48.746Z"
   },
   {
    "duration": 27,
    "start_time": "2022-01-19T16:47:48.783Z"
   },
   {
    "duration": 19,
    "start_time": "2022-01-19T16:47:48.811Z"
   },
   {
    "duration": 5,
    "start_time": "2022-01-19T16:47:48.832Z"
   },
   {
    "duration": 498,
    "start_time": "2022-01-19T16:47:48.839Z"
   },
   {
    "duration": 5,
    "start_time": "2022-01-19T16:47:49.338Z"
   },
   {
    "duration": 6,
    "start_time": "2022-01-19T16:47:49.345Z"
   },
   {
    "duration": 3,
    "start_time": "2022-01-19T16:47:49.352Z"
   },
   {
    "duration": 12,
    "start_time": "2022-01-19T16:47:49.357Z"
   },
   {
    "duration": 31,
    "start_time": "2022-01-19T16:47:49.371Z"
   },
   {
    "duration": 14,
    "start_time": "2022-01-19T16:47:49.403Z"
   },
   {
    "duration": 12,
    "start_time": "2022-01-19T16:47:49.418Z"
   },
   {
    "duration": 5,
    "start_time": "2022-01-19T16:47:49.432Z"
   },
   {
    "duration": 15,
    "start_time": "2022-01-19T16:47:49.438Z"
   },
   {
    "duration": 4,
    "start_time": "2022-01-19T16:47:49.455Z"
   },
   {
    "duration": 44,
    "start_time": "2022-01-19T16:47:49.461Z"
   },
   {
    "duration": 11,
    "start_time": "2022-01-19T16:47:49.507Z"
   },
   {
    "duration": 9,
    "start_time": "2022-01-19T16:47:49.520Z"
   },
   {
    "duration": 5,
    "start_time": "2022-01-19T16:47:49.530Z"
   },
   {
    "duration": 3,
    "start_time": "2022-01-19T16:47:49.536Z"
   },
   {
    "duration": 6,
    "start_time": "2022-01-19T16:47:49.541Z"
   },
   {
    "duration": 1294,
    "start_time": "2022-01-19T16:47:49.549Z"
   },
   {
    "duration": 4,
    "start_time": "2022-01-19T16:47:50.845Z"
   },
   {
    "duration": 6,
    "start_time": "2022-01-19T16:47:50.851Z"
   },
   {
    "duration": 6,
    "start_time": "2022-01-19T16:47:50.859Z"
   },
   {
    "duration": 11,
    "start_time": "2022-01-19T16:47:50.866Z"
   },
   {
    "duration": 1823,
    "start_time": "2022-01-19T16:47:50.879Z"
   },
   {
    "duration": 11,
    "start_time": "2022-01-19T16:47:52.703Z"
   },
   {
    "duration": 9,
    "start_time": "2022-01-19T16:47:52.723Z"
   },
   {
    "duration": 10,
    "start_time": "2022-01-19T16:47:52.735Z"
   },
   {
    "duration": 4,
    "start_time": "2022-01-19T16:47:52.747Z"
   },
   {
    "duration": 7,
    "start_time": "2022-01-19T16:47:52.753Z"
   },
   {
    "duration": 45,
    "start_time": "2022-01-19T16:47:52.762Z"
   },
   {
    "duration": 7,
    "start_time": "2022-01-19T16:47:52.809Z"
   },
   {
    "duration": 13,
    "start_time": "2022-01-19T16:47:52.817Z"
   },
   {
    "duration": 10,
    "start_time": "2022-01-19T16:47:52.831Z"
   },
   {
    "duration": 9,
    "start_time": "2022-01-19T16:47:52.842Z"
   },
   {
    "duration": 7,
    "start_time": "2022-01-19T16:47:52.853Z"
   }
  ],
  "kernelspec": {
   "display_name": "Python 3",
   "language": "python",
   "name": "python3"
  },
  "language_info": {
   "codemirror_mode": {
    "name": "ipython",
    "version": 3
   },
   "file_extension": ".py",
   "mimetype": "text/x-python",
   "name": "python",
   "nbconvert_exporter": "python",
   "pygments_lexer": "ipython3",
   "version": "3.8.8"
  },
  "toc": {
   "base_numbering": 1,
   "nav_menu": {},
   "number_sections": true,
   "sideBar": true,
   "skip_h1_title": true,
   "title_cell": "Table of Contents",
   "title_sidebar": "Contents",
   "toc_cell": false,
   "toc_position": {},
   "toc_section_display": true,
   "toc_window_display": false
  }
 },
 "nbformat": 4,
 "nbformat_minor": 2
}
